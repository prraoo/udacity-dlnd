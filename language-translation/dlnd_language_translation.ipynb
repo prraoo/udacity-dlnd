{
 "cells": [
  {
   "cell_type": "markdown",
   "metadata": {
    "collapsed": true
   },
   "source": [
    "# Language Translation\n",
    "In this project, you’re going to take a peek into the realm of neural network machine translation.  You’ll be training a sequence to sequence model on a dataset of English and French sentences that can translate new sentences from English to French.\n",
    "## Get the Data\n",
    "Since translating the whole language of English to French will take lots of time to train, we have provided you with a small portion of the English corpus."
   ]
  },
  {
   "cell_type": "code",
   "execution_count": 1,
   "metadata": {
    "collapsed": true
   },
   "outputs": [],
   "source": [
    "\"\"\"\n",
    "DON'T MODIFY ANYTHING IN THIS CELL\n",
    "\"\"\"\n",
    "import helper\n",
    "import problem_unittests as tests\n",
    "\n",
    "source_path = 'data/small_vocab_en'\n",
    "target_path = 'data/small_vocab_fr'\n",
    "source_text = helper.load_data(source_path)\n",
    "target_text = helper.load_data(target_path)"
   ]
  },
  {
   "cell_type": "markdown",
   "metadata": {},
   "source": [
    "## Explore the Data\n",
    "Play around with view_sentence_range to view different parts of the data."
   ]
  },
  {
   "cell_type": "code",
   "execution_count": 2,
   "metadata": {},
   "outputs": [
    {
     "name": "stdout",
     "output_type": "stream",
     "text": [
      "Dataset Stats\n",
      "Roughly the number of unique words: 227\n",
      "Number of sentences: 137861\n",
      "Average number of words in a sentence: 13.225277634719028\n",
      "\n",
      "English sentences 0 to 10:\n",
      "new jersey is sometimes quiet during autumn , and it is snowy in april .\n",
      "the united states is usually chilly during july , and it is usually freezing in november .\n",
      "california is usually quiet during march , and it is usually hot in june .\n",
      "the united states is sometimes mild during june , and it is cold in september .\n",
      "your least liked fruit is the grape , but my least liked is the apple .\n",
      "his favorite fruit is the orange , but my favorite is the grape .\n",
      "paris is relaxing during december , but it is usually chilly in july .\n",
      "new jersey is busy during spring , and it is never hot in march .\n",
      "our least liked fruit is the lemon , but my least liked is the grape .\n",
      "the united states is sometimes busy during january , and it is sometimes warm in november .\n",
      "\n",
      "French sentences 0 to 10:\n",
      "new jersey est parfois calme pendant l' automne , et il est neigeux en avril .\n",
      "les états-unis est généralement froid en juillet , et il gèle habituellement en novembre .\n",
      "california est généralement calme en mars , et il est généralement chaud en juin .\n",
      "les états-unis est parfois légère en juin , et il fait froid en septembre .\n",
      "votre moins aimé fruit est le raisin , mais mon moins aimé est la pomme .\n",
      "son fruit préféré est l'orange , mais mon préféré est le raisin .\n",
      "paris est relaxant en décembre , mais il est généralement froid en juillet .\n",
      "new jersey est occupé au printemps , et il est jamais chaude en mars .\n",
      "notre fruit est moins aimé le citron , mais mon moins aimé est le raisin .\n",
      "les états-unis est parfois occupé en janvier , et il est parfois chaud en novembre .\n"
     ]
    }
   ],
   "source": [
    "view_sentence_range = (0, 10)\n",
    "\n",
    "\"\"\"\n",
    "DON'T MODIFY ANYTHING IN THIS CELL\n",
    "\"\"\"\n",
    "import numpy as np\n",
    "\n",
    "print('Dataset Stats')\n",
    "print('Roughly the number of unique words: {}'.format(len({word: None for word in source_text.split()})))\n",
    "\n",
    "sentences = source_text.split('\\n')\n",
    "word_counts = [len(sentence.split()) for sentence in sentences]\n",
    "print('Number of sentences: {}'.format(len(sentences)))\n",
    "print('Average number of words in a sentence: {}'.format(np.average(word_counts)))\n",
    "\n",
    "print()\n",
    "print('English sentences {} to {}:'.format(*view_sentence_range))\n",
    "print('\\n'.join(source_text.split('\\n')[view_sentence_range[0]:view_sentence_range[1]]))\n",
    "print()\n",
    "print('French sentences {} to {}:'.format(*view_sentence_range))\n",
    "print('\\n'.join(target_text.split('\\n')[view_sentence_range[0]:view_sentence_range[1]]))"
   ]
  },
  {
   "cell_type": "markdown",
   "metadata": {},
   "source": [
    "## Implement Preprocessing Function\n",
    "### Text to Word Ids\n",
    "As you did with other RNNs, you must turn the text into a number so the computer can understand it. In the function `text_to_ids()`, you'll turn `source_text` and `target_text` from words to ids.  However, you need to add the `<EOS>` word id at the end of `target_text`.  This will help the neural network predict when the sentence should end.\n",
    "\n",
    "You can get the `<EOS>` word id by doing:\n",
    "```python\n",
    "target_vocab_to_int['<EOS>']\n",
    "```\n",
    "You can get other word ids using `source_vocab_to_int` and `target_vocab_to_int`."
   ]
  },
  {
   "cell_type": "code",
   "execution_count": 3,
   "metadata": {},
   "outputs": [
    {
     "data": {
      "text/plain": [
       "'new jersey'"
      ]
     },
     "execution_count": 3,
     "metadata": {},
     "output_type": "execute_result"
    }
   ],
   "source": [
    "source_text[:10]"
   ]
  },
  {
   "cell_type": "code",
   "execution_count": 4,
   "metadata": {},
   "outputs": [
    {
     "name": "stdout",
     "output_type": "stream",
     "text": [
      "Tests Passed\n"
     ]
    }
   ],
   "source": [
    "def text_to_ids(source_text, target_text, source_vocab_to_int, target_vocab_to_int):\n",
    "    \"\"\"\n",
    "    Convert source and target text to proper word ids\n",
    "    :param source_text: String that contains all the source text.\n",
    "    :param target_text: String that contains all the target text.\n",
    "    :param source_vocab_to_int: Dictionary to go from the source words to an id\n",
    "    :param target_vocab_to_int: Dictionary to go from the target words to an id\n",
    "    :return: A tuple of lists (source_id_text, target_id_text)\n",
    "    \"\"\"\n",
    "    # TODO: Implement Function\n",
    "    # assign int value to the words in source by looking up form source_vocab to int\n",
    "    source_id_text = [[source_vocab_to_int[word] for word in src_sentence.split()] \\\n",
    "                      for src_sentence in source_text.split(\"\\n\")]\n",
    "    target_id_text = [[target_vocab_to_int[word] for word in tgt_sentence.split()]+[target_vocab_to_int['<EOS>']]\\\n",
    "                      for tgt_sentence in target_text.split(\"\\n\")]    \n",
    "    #target_id_text.append(target_vocab_to_int['<EOS>'])\n",
    "    return source_id_text, target_id_text\n",
    "\n",
    "\"\"\"\n",
    "DON'T MODIFY ANYTHING IN THIS CELL THAT IS BELOW THIS LINE\n",
    "\"\"\"\n",
    "tests.test_text_to_ids(text_to_ids)"
   ]
  },
  {
   "cell_type": "markdown",
   "metadata": {},
   "source": [
    "### Preprocess all the data and save it\n",
    "Running the code cell below will preprocess all the data and save it to file."
   ]
  },
  {
   "cell_type": "code",
   "execution_count": 5,
   "metadata": {
    "collapsed": true
   },
   "outputs": [],
   "source": [
    "\"\"\"\n",
    "DON'T MODIFY ANYTHING IN THIS CELL\n",
    "\"\"\"\n",
    "helper.preprocess_and_save_data(source_path, target_path, text_to_ids)"
   ]
  },
  {
   "cell_type": "markdown",
   "metadata": {},
   "source": [
    "# Check Point\n",
    "This is your first checkpoint. If you ever decide to come back to this notebook or have to restart the notebook, you can start from here. The preprocessed data has been saved to disk."
   ]
  },
  {
   "cell_type": "code",
   "execution_count": 6,
   "metadata": {
    "collapsed": true
   },
   "outputs": [],
   "source": [
    "\"\"\"\n",
    "DON'T MODIFY ANYTHING IN THIS CELL\n",
    "\"\"\"\n",
    "import numpy as np\n",
    "import helper\n",
    "import problem_unittests as tests\n",
    "\n",
    "(source_int_text, target_int_text), (source_vocab_to_int, target_vocab_to_int), _ = helper.load_preprocess()"
   ]
  },
  {
   "cell_type": "markdown",
   "metadata": {},
   "source": [
    "### Check the Version of TensorFlow and Access to GPU\n",
    "This will check to make sure you have the correct version of TensorFlow and access to a GPU"
   ]
  },
  {
   "cell_type": "code",
   "execution_count": 7,
   "metadata": {},
   "outputs": [
    {
     "name": "stdout",
     "output_type": "stream",
     "text": [
      "TensorFlow Version: 1.2.1\n"
     ]
    },
    {
     "name": "stderr",
     "output_type": "stream",
     "text": [
      "C:\\Continuum\\Anaconda3\\envs\\tf_cpu\\lib\\site-packages\\ipykernel_launcher.py:15: UserWarning: No GPU found. Please use a GPU to train your neural network.\n",
      "  from ipykernel import kernelapp as app\n"
     ]
    }
   ],
   "source": [
    "\"\"\"\n",
    "DON'T MODIFY ANYTHING IN THIS CELL\n",
    "\"\"\"\n",
    "from distutils.version import LooseVersion\n",
    "import warnings\n",
    "import tensorflow as tf\n",
    "from tensorflow.python.layers.core import Dense\n",
    "\n",
    "# Check TensorFlow Version\n",
    "assert LooseVersion(tf.__version__) >= LooseVersion('1.1'), 'Please use TensorFlow version 1.1 or newer'\n",
    "print('TensorFlow Version: {}'.format(tf.__version__))\n",
    "\n",
    "# Check for a GPU\n",
    "if not tf.test.gpu_device_name():\n",
    "    warnings.warn('No GPU found. Please use a GPU to train your neural network.')\n",
    "else:\n",
    "    print('Default GPU Device: {}'.format(tf.test.gpu_device_name()))"
   ]
  },
  {
   "cell_type": "markdown",
   "metadata": {},
   "source": [
    "## Build the Neural Network\n",
    "You'll build the components necessary to build a Sequence-to-Sequence model by implementing the following functions below:\n",
    "- `model_inputs`\n",
    "- `process_decoder_input`\n",
    "- `encoding_layer`\n",
    "- `decoding_layer_train`\n",
    "- `decoding_layer_infer`\n",
    "- `decoding_layer`\n",
    "- `seq2seq_model`\n",
    "\n",
    "### Input\n",
    "Implement the `model_inputs()` function to create TF Placeholders for the Neural Network. It should create the following placeholders:\n",
    "\n",
    "- Input text placeholder named \"input\" using the TF Placeholder name parameter with rank 2.\n",
    "- Targets placeholder with rank 2.\n",
    "- Learning rate placeholder with rank 0.\n",
    "- Keep probability placeholder named \"keep_prob\" using the TF Placeholder name parameter with rank 0.\n",
    "- Target sequence length placeholder named \"target_sequence_length\" with rank 1\n",
    "- Max target sequence length tensor named \"max_target_len\" getting its value from applying tf.reduce_max on the target_sequence_length placeholder. Rank 0.\n",
    "- Source sequence length placeholder named \"source_sequence_length\" with rank 1\n",
    "\n",
    "Return the placeholders in the following the tuple (input, targets, learning rate, keep probability, target sequence length, max target sequence length, source sequence length)"
   ]
  },
  {
   "cell_type": "code",
   "execution_count": 8,
   "metadata": {
    "scrolled": true
   },
   "outputs": [
    {
     "name": "stdout",
     "output_type": "stream",
     "text": [
      "ERROR:tensorflow:==================================\n",
      "Object was never used (type <class 'tensorflow.python.framework.ops.Operation'>):\n",
      "<tf.Operation 'assert_rank_2/Assert/Assert' type=Assert>\n",
      "If you want to mark it as used call its \"mark_used()\" method.\n",
      "It was originally created here:\n",
      "['File \"C:\\\\Continuum\\\\Anaconda3\\\\envs\\\\tf_cpu\\\\lib\\\\runpy.py\", line 193, in _run_module_as_main\\n    \"__main__\", mod_spec)', 'File \"C:\\\\Continuum\\\\Anaconda3\\\\envs\\\\tf_cpu\\\\lib\\\\runpy.py\", line 85, in _run_code\\n    exec(code, run_globals)', 'File \"C:\\\\Continuum\\\\Anaconda3\\\\envs\\\\tf_cpu\\\\lib\\\\site-packages\\\\ipykernel_launcher.py\", line 16, in <module>\\n    app.launch_new_instance()', 'File \"C:\\\\Continuum\\\\Anaconda3\\\\envs\\\\tf_cpu\\\\lib\\\\site-packages\\\\traitlets\\\\config\\\\application.py\", line 658, in launch_instance\\n    app.start()', 'File \"C:\\\\Continuum\\\\Anaconda3\\\\envs\\\\tf_cpu\\\\lib\\\\site-packages\\\\ipykernel\\\\kernelapp.py\", line 477, in start\\n    ioloop.IOLoop.instance().start()', 'File \"C:\\\\Continuum\\\\Anaconda3\\\\envs\\\\tf_cpu\\\\lib\\\\site-packages\\\\zmq\\\\eventloop\\\\ioloop.py\", line 177, in start\\n    super(ZMQIOLoop, self).start()', 'File \"C:\\\\Continuum\\\\Anaconda3\\\\envs\\\\tf_cpu\\\\lib\\\\site-packages\\\\tornado\\\\ioloop.py\", line 888, in start\\n    handler_func(fd_obj, events)', 'File \"C:\\\\Continuum\\\\Anaconda3\\\\envs\\\\tf_cpu\\\\lib\\\\site-packages\\\\tornado\\\\stack_context.py\", line 277, in null_wrapper\\n    return fn(*args, **kwargs)', 'File \"C:\\\\Continuum\\\\Anaconda3\\\\envs\\\\tf_cpu\\\\lib\\\\site-packages\\\\zmq\\\\eventloop\\\\zmqstream.py\", line 440, in _handle_events\\n    self._handle_recv()', 'File \"C:\\\\Continuum\\\\Anaconda3\\\\envs\\\\tf_cpu\\\\lib\\\\site-packages\\\\zmq\\\\eventloop\\\\zmqstream.py\", line 472, in _handle_recv\\n    self._run_callback(callback, msg)', 'File \"C:\\\\Continuum\\\\Anaconda3\\\\envs\\\\tf_cpu\\\\lib\\\\site-packages\\\\zmq\\\\eventloop\\\\zmqstream.py\", line 414, in _run_callback\\n    callback(*args, **kwargs)', 'File \"C:\\\\Continuum\\\\Anaconda3\\\\envs\\\\tf_cpu\\\\lib\\\\site-packages\\\\tornado\\\\stack_context.py\", line 277, in null_wrapper\\n    return fn(*args, **kwargs)', 'File \"C:\\\\Continuum\\\\Anaconda3\\\\envs\\\\tf_cpu\\\\lib\\\\site-packages\\\\ipykernel\\\\kernelbase.py\", line 283, in dispatcher\\n    return self.dispatch_shell(stream, msg)', 'File \"C:\\\\Continuum\\\\Anaconda3\\\\envs\\\\tf_cpu\\\\lib\\\\site-packages\\\\ipykernel\\\\kernelbase.py\", line 235, in dispatch_shell\\n    handler(stream, idents, msg)', 'File \"C:\\\\Continuum\\\\Anaconda3\\\\envs\\\\tf_cpu\\\\lib\\\\site-packages\\\\ipykernel\\\\kernelbase.py\", line 399, in execute_request\\n    user_expressions, allow_stdin)', 'File \"C:\\\\Continuum\\\\Anaconda3\\\\envs\\\\tf_cpu\\\\lib\\\\site-packages\\\\ipykernel\\\\ipkernel.py\", line 196, in do_execute\\n    res = shell.run_cell(code, store_history=store_history, silent=silent)', 'File \"C:\\\\Continuum\\\\Anaconda3\\\\envs\\\\tf_cpu\\\\lib\\\\site-packages\\\\ipykernel\\\\zmqshell.py\", line 533, in run_cell\\n    return super(ZMQInteractiveShell, self).run_cell(*args, **kwargs)', 'File \"C:\\\\Continuum\\\\Anaconda3\\\\envs\\\\tf_cpu\\\\lib\\\\site-packages\\\\IPython\\\\core\\\\interactiveshell.py\", line 2698, in run_cell\\n    interactivity=interactivity, compiler=compiler, result=result)', 'File \"C:\\\\Continuum\\\\Anaconda3\\\\envs\\\\tf_cpu\\\\lib\\\\site-packages\\\\IPython\\\\core\\\\interactiveshell.py\", line 2808, in run_ast_nodes\\n    if self.run_code(code, result):', 'File \"C:\\\\Continuum\\\\Anaconda3\\\\envs\\\\tf_cpu\\\\lib\\\\site-packages\\\\IPython\\\\core\\\\interactiveshell.py\", line 2862, in run_code\\n    exec(code_obj, self.user_global_ns, self.user_ns)', 'File \"<ipython-input-8-4ab847fbdb37>\", line 22, in <module>\\n    tests.test_model_inputs(model_inputs)', 'File \"C:\\\\Users\\\\PRAMRAO\\\\Documents\\\\DLND\\\\20171006\\\\udacity_dlnd\\\\language-translation\\\\problem_unittests.py\", line 106, in test_model_inputs\\n    assert tf.assert_rank(lr, 0, message=\\'Learning Rate has wrong rank\\')', 'File \"C:\\\\Continuum\\\\Anaconda3\\\\envs\\\\tf_cpu\\\\lib\\\\site-packages\\\\tensorflow\\\\python\\\\ops\\\\check_ops.py\", line 617, in assert_rank\\n    dynamic_condition, data, summarize)', 'File \"C:\\\\Continuum\\\\Anaconda3\\\\envs\\\\tf_cpu\\\\lib\\\\site-packages\\\\tensorflow\\\\python\\\\ops\\\\check_ops.py\", line 571, in _assert_rank_condition\\n    return control_flow_ops.Assert(condition, data, summarize=summarize)', 'File \"C:\\\\Continuum\\\\Anaconda3\\\\envs\\\\tf_cpu\\\\lib\\\\site-packages\\\\tensorflow\\\\python\\\\util\\\\tf_should_use.py\", line 170, in wrapped\\n    return _add_should_use_warning(fn(*args, **kwargs))', 'File \"C:\\\\Continuum\\\\Anaconda3\\\\envs\\\\tf_cpu\\\\lib\\\\site-packages\\\\tensorflow\\\\python\\\\util\\\\tf_should_use.py\", line 139, in _add_should_use_warning\\n    wrapped = TFShouldUseWarningWrapper(x)', 'File \"C:\\\\Continuum\\\\Anaconda3\\\\envs\\\\tf_cpu\\\\lib\\\\site-packages\\\\tensorflow\\\\python\\\\util\\\\tf_should_use.py\", line 96, in __init__\\n    stack = [s.strip() for s in traceback.format_stack()]']\n",
      "==================================\n",
      "ERROR:tensorflow:==================================\n",
      "Object was never used (type <class 'tensorflow.python.framework.ops.Operation'>):\n",
      "<tf.Operation 'assert_rank_3/Assert/Assert' type=Assert>\n",
      "If you want to mark it as used call its \"mark_used()\" method.\n",
      "It was originally created here:\n",
      "['File \"C:\\\\Continuum\\\\Anaconda3\\\\envs\\\\tf_cpu\\\\lib\\\\runpy.py\", line 193, in _run_module_as_main\\n    \"__main__\", mod_spec)', 'File \"C:\\\\Continuum\\\\Anaconda3\\\\envs\\\\tf_cpu\\\\lib\\\\runpy.py\", line 85, in _run_code\\n    exec(code, run_globals)', 'File \"C:\\\\Continuum\\\\Anaconda3\\\\envs\\\\tf_cpu\\\\lib\\\\site-packages\\\\ipykernel_launcher.py\", line 16, in <module>\\n    app.launch_new_instance()', 'File \"C:\\\\Continuum\\\\Anaconda3\\\\envs\\\\tf_cpu\\\\lib\\\\site-packages\\\\traitlets\\\\config\\\\application.py\", line 658, in launch_instance\\n    app.start()', 'File \"C:\\\\Continuum\\\\Anaconda3\\\\envs\\\\tf_cpu\\\\lib\\\\site-packages\\\\ipykernel\\\\kernelapp.py\", line 477, in start\\n    ioloop.IOLoop.instance().start()', 'File \"C:\\\\Continuum\\\\Anaconda3\\\\envs\\\\tf_cpu\\\\lib\\\\site-packages\\\\zmq\\\\eventloop\\\\ioloop.py\", line 177, in start\\n    super(ZMQIOLoop, self).start()', 'File \"C:\\\\Continuum\\\\Anaconda3\\\\envs\\\\tf_cpu\\\\lib\\\\site-packages\\\\tornado\\\\ioloop.py\", line 888, in start\\n    handler_func(fd_obj, events)', 'File \"C:\\\\Continuum\\\\Anaconda3\\\\envs\\\\tf_cpu\\\\lib\\\\site-packages\\\\tornado\\\\stack_context.py\", line 277, in null_wrapper\\n    return fn(*args, **kwargs)', 'File \"C:\\\\Continuum\\\\Anaconda3\\\\envs\\\\tf_cpu\\\\lib\\\\site-packages\\\\zmq\\\\eventloop\\\\zmqstream.py\", line 440, in _handle_events\\n    self._handle_recv()', 'File \"C:\\\\Continuum\\\\Anaconda3\\\\envs\\\\tf_cpu\\\\lib\\\\site-packages\\\\zmq\\\\eventloop\\\\zmqstream.py\", line 472, in _handle_recv\\n    self._run_callback(callback, msg)', 'File \"C:\\\\Continuum\\\\Anaconda3\\\\envs\\\\tf_cpu\\\\lib\\\\site-packages\\\\zmq\\\\eventloop\\\\zmqstream.py\", line 414, in _run_callback\\n    callback(*args, **kwargs)', 'File \"C:\\\\Continuum\\\\Anaconda3\\\\envs\\\\tf_cpu\\\\lib\\\\site-packages\\\\tornado\\\\stack_context.py\", line 277, in null_wrapper\\n    return fn(*args, **kwargs)', 'File \"C:\\\\Continuum\\\\Anaconda3\\\\envs\\\\tf_cpu\\\\lib\\\\site-packages\\\\ipykernel\\\\kernelbase.py\", line 283, in dispatcher\\n    return self.dispatch_shell(stream, msg)', 'File \"C:\\\\Continuum\\\\Anaconda3\\\\envs\\\\tf_cpu\\\\lib\\\\site-packages\\\\ipykernel\\\\kernelbase.py\", line 235, in dispatch_shell\\n    handler(stream, idents, msg)', 'File \"C:\\\\Continuum\\\\Anaconda3\\\\envs\\\\tf_cpu\\\\lib\\\\site-packages\\\\ipykernel\\\\kernelbase.py\", line 399, in execute_request\\n    user_expressions, allow_stdin)', 'File \"C:\\\\Continuum\\\\Anaconda3\\\\envs\\\\tf_cpu\\\\lib\\\\site-packages\\\\ipykernel\\\\ipkernel.py\", line 196, in do_execute\\n    res = shell.run_cell(code, store_history=store_history, silent=silent)', 'File \"C:\\\\Continuum\\\\Anaconda3\\\\envs\\\\tf_cpu\\\\lib\\\\site-packages\\\\ipykernel\\\\zmqshell.py\", line 533, in run_cell\\n    return super(ZMQInteractiveShell, self).run_cell(*args, **kwargs)', 'File \"C:\\\\Continuum\\\\Anaconda3\\\\envs\\\\tf_cpu\\\\lib\\\\site-packages\\\\IPython\\\\core\\\\interactiveshell.py\", line 2698, in run_cell\\n    interactivity=interactivity, compiler=compiler, result=result)', 'File \"C:\\\\Continuum\\\\Anaconda3\\\\envs\\\\tf_cpu\\\\lib\\\\site-packages\\\\IPython\\\\core\\\\interactiveshell.py\", line 2808, in run_ast_nodes\\n    if self.run_code(code, result):', 'File \"C:\\\\Continuum\\\\Anaconda3\\\\envs\\\\tf_cpu\\\\lib\\\\site-packages\\\\IPython\\\\core\\\\interactiveshell.py\", line 2862, in run_code\\n    exec(code_obj, self.user_global_ns, self.user_ns)', 'File \"<ipython-input-8-4ab847fbdb37>\", line 22, in <module>\\n    tests.test_model_inputs(model_inputs)', 'File \"C:\\\\Users\\\\PRAMRAO\\\\Documents\\\\DLND\\\\20171006\\\\udacity_dlnd\\\\language-translation\\\\problem_unittests.py\", line 107, in test_model_inputs\\n    assert tf.assert_rank(keep_prob, 0, message=\\'Keep Probability has wrong rank\\')', 'File \"C:\\\\Continuum\\\\Anaconda3\\\\envs\\\\tf_cpu\\\\lib\\\\site-packages\\\\tensorflow\\\\python\\\\ops\\\\check_ops.py\", line 617, in assert_rank\\n    dynamic_condition, data, summarize)', 'File \"C:\\\\Continuum\\\\Anaconda3\\\\envs\\\\tf_cpu\\\\lib\\\\site-packages\\\\tensorflow\\\\python\\\\ops\\\\check_ops.py\", line 571, in _assert_rank_condition\\n    return control_flow_ops.Assert(condition, data, summarize=summarize)', 'File \"C:\\\\Continuum\\\\Anaconda3\\\\envs\\\\tf_cpu\\\\lib\\\\site-packages\\\\tensorflow\\\\python\\\\util\\\\tf_should_use.py\", line 170, in wrapped\\n    return _add_should_use_warning(fn(*args, **kwargs))', 'File \"C:\\\\Continuum\\\\Anaconda3\\\\envs\\\\tf_cpu\\\\lib\\\\site-packages\\\\tensorflow\\\\python\\\\util\\\\tf_should_use.py\", line 139, in _add_should_use_warning\\n    wrapped = TFShouldUseWarningWrapper(x)', 'File \"C:\\\\Continuum\\\\Anaconda3\\\\envs\\\\tf_cpu\\\\lib\\\\site-packages\\\\tensorflow\\\\python\\\\util\\\\tf_should_use.py\", line 96, in __init__\\n    stack = [s.strip() for s in traceback.format_stack()]']\n",
      "==================================\n"
     ]
    },
    {
     "name": "stdout",
     "output_type": "stream",
     "text": [
      "Tests Passed\n"
     ]
    }
   ],
   "source": [
    "def model_inputs():\n",
    "    \"\"\"\n",
    "    Create TF Placeholders for input, targets, learning rate, and lengths of source and target sequences.\n",
    "    :return: Tuple (input, targets, learning rate, keep probability, target sequence length,\n",
    "    max target sequence length, source sequence length)\n",
    "    \"\"\"\n",
    "    # TODO: Implement Function\n",
    "    \n",
    "    _input = tf.placeholder(tf.int32,shape=[None,None] , name=\"input\")\n",
    "    target = tf.placeholder(tf.int32,[None,None], name=\"target\")\n",
    "    keep_prob = tf.placeholder(tf.float32, name=\"keep_prob\")\n",
    "    learning_rate = tf.placeholder(tf.float32, name=\"learning_rate\")\n",
    "    target_seq_length = tf.placeholder(tf.int32, [None,], name=\"target_sequence_length\")\n",
    "    max_target_length = tf.reduce_max(target_seq_length, name=\"max_target_len\")\n",
    "    src_seq_length = tf.placeholder(tf.int32,[None,], name=\"source_sequence_length\")\n",
    "    return _input, target,learning_rate, keep_prob, target_seq_length, max_target_length, src_seq_length\n",
    "\n",
    "\n",
    "\"\"\"\n",
    "DON'T MODIFY ANYTHING IN THIS CELL THAT IS BELOW THIS LINE\n",
    "\"\"\"\n",
    "tests.test_model_inputs(model_inputs)"
   ]
  },
  {
   "cell_type": "markdown",
   "metadata": {},
   "source": [
    "### Process Decoder Input\n",
    "Implement `process_decoder_input` by removing the last word id from each batch in `target_data` and concat the GO ID to the begining of each batch."
   ]
  },
  {
   "cell_type": "code",
   "execution_count": 9,
   "metadata": {
    "collapsed": true
   },
   "outputs": [],
   "source": [
    "x = tf.placeholder(shape=[None, None], dtype=tf.int32, name=\"x\")\n",
    "ending = tf.strided_slice(x, \n",
    " [0, 0], # begin at point\n",
    " [3, -1], # end at point\n",
    " [1, 1]) # strides per hop\n",
    "sess = tf.InteractiveSession()"
   ]
  },
  {
   "cell_type": "code",
   "execution_count": 10,
   "metadata": {},
   "outputs": [
    {
     "name": "stdout",
     "output_type": "stream",
     "text": [
      "[[ 1  2  3 99]\n",
      " [ 4  5  6 99]\n",
      " [ 7  8  9 99]]\n"
     ]
    }
   ],
   "source": [
    "y = sess.run(ending, feed_dict={\n",
    " x: [\n",
    " [1,2,3,99,7],\n",
    " [4,5,6,99,7],\n",
    " [7,8,9,99,7]\n",
    " ]\n",
    "})\n",
    "print (y)"
   ]
  },
  {
   "cell_type": "code",
   "execution_count": 11,
   "metadata": {},
   "outputs": [
    {
     "name": "stdout",
     "output_type": "stream",
     "text": [
      "Tests Passed\n"
     ]
    }
   ],
   "source": [
    "def process_decoder_input(target_data, target_vocab_to_int, batch_size):\n",
    "    \"\"\"\n",
    "    Preprocess target data for encoding\n",
    "    :param target_data: Target Placehoder\n",
    "    :param target_vocab_to_int: Dictionary to go from the target words to an id\n",
    "    :param batch_size: Batch Size\n",
    "    :return: Preprocessed target data\n",
    "    \"\"\"\n",
    "    # TODO: Implement Function\n",
    "    with tf.name_scope('process_decoder_input'):\n",
    "        trunc_last_decoder_in = tf.strided_slice(target_data, [0,0], [batch_size,-1], [1,1])\n",
    "        decoder_in = tf.concat([tf.fill([batch_size,1],target_vocab_to_int[\"<GO>\"]),trunc_last_decoder_in],1)\n",
    "        return decoder_in\n",
    "\n",
    "\"\"\"\n",
    "DON'T MODIFY ANYTHING IN THIS CELL THAT IS BELOW THIS LINE\n",
    "\"\"\"\n",
    "tests.test_process_encoding_input(process_decoder_input)"
   ]
  },
  {
   "cell_type": "markdown",
   "metadata": {},
   "source": [
    "### Encoding\n",
    "Implement `encoding_layer()` to create a Encoder RNN layer:\n",
    " * Embed the encoder input using [`tf.contrib.layers.embed_sequence`](https://www.tensorflow.org/api_docs/python/tf/contrib/layers/embed_sequence)\n",
    " * Construct a [stacked](https://github.com/tensorflow/tensorflow/blob/6947f65a374ebf29e74bb71e36fd82760056d82c/tensorflow/docs_src/tutorials/recurrent.md#stacking-multiple-lstms) [`tf.contrib.rnn.LSTMCell`](https://www.tensorflow.org/api_docs/python/tf/contrib/rnn/LSTMCell) wrapped in a [`tf.contrib.rnn.DropoutWrapper`](https://www.tensorflow.org/api_docs/python/tf/contrib/rnn/DropoutWrapper)\n",
    " * Pass cell and embedded input to [`tf.nn.dynamic_rnn()`](https://www.tensorflow.org/api_docs/python/tf/nn/dynamic_rnn)"
   ]
  },
  {
   "cell_type": "code",
   "execution_count": 12,
   "metadata": {
    "scrolled": false
   },
   "outputs": [
    {
     "name": "stdout",
     "output_type": "stream",
     "text": [
      "Tests Passed\n"
     ]
    }
   ],
   "source": [
    "from imp import reload\n",
    "reload(tests)\n",
    "\n",
    "def encoding_layer(rnn_inputs, rnn_size, num_layers, keep_prob, \n",
    "                   source_sequence_length, source_vocab_size, \n",
    "                   encoding_embedding_size):\n",
    "    \"\"\"\n",
    "    Create encoding layer\n",
    "    :param rnn_inputs: Inputs for the RNN\n",
    "    :param rnn_size: RNN Size\n",
    "    :param num_layers: Number of layers\n",
    "    :param keep_prob: Dropout keep probability\n",
    "    :param source_sequence_length: a list of the lengths of each sequence in the batch\n",
    "    :param source_vocab_size: vocabulary size of source data\n",
    "    :param encoding_embedding_size: embedding size of source data\n",
    "    :return: tuple (RNN output, RNN state)\n",
    "    \"\"\"\n",
    "    # TODO: Implement Function\n",
    "    # Input -> embedded sequence -> encoder\n",
    "    with tf.name_scope(\"encoding_layer\"):\n",
    "        enc_embedded_input = tf.contrib.layers.embed_sequence(rnn_inputs,source_vocab_size, encoding_embedding_size)\n",
    "\n",
    "        # build RNN Cell\n",
    "        with tf.name_scope('enc_RNN_Cell'):\n",
    "            def create_cell(rnn_size, keep_prob):\n",
    "                lstm = tf.contrib.rnn.BasicLSTMCell(rnn_size)\n",
    "                return tf.contrib.rnn.DropoutWrapper(lstm, keep_prob)\n",
    "\n",
    "        enc_cell = tf.contrib.rnn.MultiRNNCell([create_cell(rnn_size,keep_prob) for _ in range(num_layers)])\n",
    "\n",
    "        enc_out, enc_state = tf.nn.dynamic_rnn(enc_cell, enc_embedded_input, sequence_length=source_sequence_length,dtype=tf.float32 )\n",
    "        \n",
    "        #tensorboard\n",
    "        \"\"\"\n",
    "        tf.summary.histogram('embed_enc_out', enc_out)  # for TensorBoard\n",
    "        # keep only top N=embed_vis_depth vectors for TensorBoard visualization:\n",
    "        top_embed = tf.Variable(tf.zeros([embed_vis_depth, embed_size],\n",
    "                                         dtype=tf.float32),\n",
    "                                name=\"top_n_embedding\")\n",
    "        assign_embed = top_embed.assign(embed_w[:embed_vis_depth, :])\n",
    "        \"\"\"\n",
    "        return enc_out, enc_state\n",
    "\n",
    "\"\"\"\n",
    "DON'T MODIFY ANYTHING IN THIS CELL THAT IS BELOW THIS LINE\n",
    "\"\"\"\n",
    "tests.test_encoding_layer(encoding_layer)"
   ]
  },
  {
   "cell_type": "markdown",
   "metadata": {},
   "source": [
    "### Decoding - Training\n",
    "Create a training decoding layer:\n",
    "* Create a [`tf.contrib.seq2seq.TrainingHelper`](https://www.tensorflow.org/api_docs/python/tf/contrib/seq2seq/TrainingHelper) \n",
    "* Create a [`tf.contrib.seq2seq.BasicDecoder`](https://www.tensorflow.org/api_docs/python/tf/contrib/seq2seq/BasicDecoder)\n",
    "* Obtain the decoder outputs from [`tf.contrib.seq2seq.dynamic_decode`](https://www.tensorflow.org/api_docs/python/tf/contrib/seq2seq/dynamic_decode)"
   ]
  },
  {
   "cell_type": "code",
   "execution_count": 13,
   "metadata": {},
   "outputs": [
    {
     "name": "stdout",
     "output_type": "stream",
     "text": [
      "Tests Passed\n"
     ]
    }
   ],
   "source": [
    "\n",
    "def decoding_layer_train(encoder_state, dec_cell, dec_embed_input, \n",
    "                         target_sequence_length, max_summary_length, \n",
    "                         output_layer, keep_prob):\n",
    "    \"\"\"\n",
    "    Create a decoding layer for training\n",
    "    :param encoder_state: Encoder State\n",
    "    :param dec_cell: Decoder RNN Cell\n",
    "    :param dec_embed_input: Decoder embedded input\n",
    "    :param target_sequence_length: The lengths of each sequence in the target batch\n",
    "    :param max_summary_length: The length of the longest sequence in the batch\n",
    "    :param output_layer: Function to apply the output layer\n",
    "    :param keep_prob: Dropout keep probability\n",
    "    :return: BasicDecoderOutput containing training logits and sample_id\n",
    "    \"\"\"\n",
    "    # TODO: Implement Function\n",
    "    \n",
    "    with tf.name_scope(\"decoding_layer_train\"):\n",
    "        with tf.name_scope(\"training_helper\"):\n",
    "            training_helper = tf.contrib.seq2seq.TrainingHelper(\n",
    "                inputs=dec_embed_input, sequence_length=target_sequence_length,time_major=False)\n",
    "        \n",
    "        with tf.name_scope(\"basic_decoder\"):\n",
    "            training_decoder = tf.contrib.seq2seq.BasicDecoder(\n",
    "                dec_cell, training_helper,encoder_state,output_layer)\n",
    "\n",
    "        # decoder outputs\n",
    "        with tf.name_scope(\"decoder_output\"):\n",
    "            training_decoder = tf.contrib.seq2seq.dynamic_decode(\n",
    "                training_decoder,impute_finished=True,maximum_iterations=max_summary_length)[0]\n",
    "\n",
    "        return training_decoder\n",
    "\n",
    "\n",
    "\n",
    "\"\"\"\n",
    "DON'T MODIFY ANYTHING IN THIS CELL THAT IS BELOW THIS LINE\n",
    "\"\"\"\n",
    "tests.test_decoding_layer_train(decoding_layer_train)"
   ]
  },
  {
   "cell_type": "markdown",
   "metadata": {},
   "source": [
    "### Decoding - Inference\n",
    "Create inference decoder:\n",
    "* Create a [`tf.contrib.seq2seq.GreedyEmbeddingHelper`](https://www.tensorflow.org/api_docs/python/tf/contrib/seq2seq/GreedyEmbeddingHelper)\n",
    "* Create a [`tf.contrib.seq2seq.BasicDecoder`](https://www.tensorflow.org/api_docs/python/tf/contrib/seq2seq/BasicDecoder)\n",
    "* Obtain the decoder outputs from [`tf.contrib.seq2seq.dynamic_decode`](https://www.tensorflow.org/api_docs/python/tf/contrib/seq2seq/dynamic_decode)"
   ]
  },
  {
   "cell_type": "code",
   "execution_count": 14,
   "metadata": {
    "scrolled": true
   },
   "outputs": [
    {
     "name": "stdout",
     "output_type": "stream",
     "text": [
      "Tests Passed\n"
     ]
    }
   ],
   "source": [
    "def decoding_layer_infer(encoder_state, dec_cell, dec_embeddings, start_of_sequence_id,\n",
    "                         end_of_sequence_id, max_target_sequence_length,\n",
    "                         vocab_size, output_layer, batch_size, keep_prob):\n",
    "    \"\"\"\n",
    "    Create a decoding layer for inference\n",
    "    :param encoder_state: Encoder state\n",
    "    :param dec_cell: Decoder RNN Cell\n",
    "    :param dec_embeddings: Decoder embeddings\n",
    "    :param start_of_sequence_id: GO ID\n",
    "    :param end_of_sequence_id: EOS Id\n",
    "    :param max_target_sequence_length: Maximum length of target sequences\n",
    "    :param vocab_size: Size of decoder/target vocabulary\n",
    "    :param decoding_scope: TenorFlow Variable Scope for decoding\n",
    "    :param output_layer: Function to apply the output layer\n",
    "    :param batch_size: Batch size\n",
    "    :param keep_prob: Dropout keep probability\n",
    "    :return: BasicDecoderOutput containing inference logits and sample_id\n",
    "    \"\"\"\n",
    "    \n",
    "    with tf.name_scope(\"decoding_layer_infer\"):\n",
    "            \n",
    "        # TODO: Implement Function\n",
    "        \n",
    "        start_tokens = tf.tile(tf.constant([target_vocab_to_int['<GO>']], dtype=tf.int32), [batch_size], name='start_tokens')\n",
    "        #inference helper\n",
    "        with tf.name_scope(\"inference_helper\"):\n",
    "            inference_helper = tf.contrib.seq2seq.GreedyEmbeddingHelper(dec_embeddings, start_tokens,target_vocab_to_int['<EOS>'])\n",
    "        # Basic Decoder\n",
    "        with tf.name_scope(\"basic_decoder\"):\n",
    "            inference_decoder = tf.contrib.seq2seq.BasicDecoder(dec_cell,inference_helper,encoder_state,output_layer)\n",
    "        # Decoder outputs\n",
    "        with tf.name_scope(\"decoder_output\"):\n",
    "            infernce_output = tf.contrib.seq2seq.dynamic_decode(\n",
    "                inference_decoder,impute_finished=True,maximum_iterations=max_target_sequence_length)[0]\n",
    "\n",
    "        return  infernce_output\n",
    "\n",
    "\n",
    "\n",
    "\"\"\"\n",
    "DON'T MODIFY ANYTHING IN THIS CELL THAT IS BELOW THIS LINE\n",
    "\"\"\"\n",
    "tests.test_decoding_layer_infer(decoding_layer_infer)"
   ]
  },
  {
   "cell_type": "markdown",
   "metadata": {},
   "source": [
    "### Build the Decoding Layer\n",
    "Implement `decoding_layer()` to create a Decoder RNN layer.\n",
    "\n",
    "* Embed the target sequences\n",
    "* Construct the decoder LSTM cell (just like you constructed the encoder cell above)\n",
    "* Create an output layer to map the outputs of the decoder to the elements of our vocabulary\n",
    "* Use the your `decoding_layer_train(encoder_state, dec_cell, dec_embed_input, target_sequence_length, max_target_sequence_length, output_layer, keep_prob)` function to get the training logits.\n",
    "* Use your `decoding_layer_infer(encoder_state, dec_cell, dec_embeddings, start_of_sequence_id, end_of_sequence_id, max_target_sequence_length, vocab_size, output_layer, batch_size, keep_prob)` function to get the inference logits.\n",
    "\n",
    "Note: You'll need to use [tf.variable_scope](https://www.tensorflow.org/api_docs/python/tf/variable_scope) to share variables between training and inference."
   ]
  },
  {
   "cell_type": "code",
   "execution_count": 15,
   "metadata": {
    "scrolled": false
   },
   "outputs": [
    {
     "name": "stdout",
     "output_type": "stream",
     "text": [
      "Tests Passed\n"
     ]
    }
   ],
   "source": [
    "def decoding_layer(dec_input, encoder_state,\n",
    "                   target_sequence_length, max_target_sequence_length,\n",
    "                   rnn_size,\n",
    "                   num_layers, target_vocab_to_int, target_vocab_size,\n",
    "                   batch_size, keep_prob, decoding_embedding_size):\n",
    "    \"\"\"\n",
    "    Create decoding layer\n",
    "    :param dec_input: Decoder input\n",
    "    :param encoder_state: Encoder state\n",
    "    :param target_sequence_length: The lengths of each sequence in the target batch\n",
    "    :param max_target_sequence_length: Maximum length of target sequences\n",
    "    :param rnn_size: RNN Size\n",
    "    :param num_layers: Number of layers\n",
    "    :param target_vocab_to_int: Dictionary to go from the target words to an id\n",
    "    :param target_vocab_size: Size of target vocabulary\n",
    "    :param batch_size: The size of the batch\n",
    "    :param keep_prob: Dropout keep probability\n",
    "    :param decoding_embedding_size: Decoding embedding size\n",
    "    :return: Tuple of (Training BasicDecoderOutput, Inference BasicDecoderOutput)\n",
    "    \"\"\"\n",
    "    # 1. Decoder Embedding\n",
    "    dec_embeddings = tf.Variable(tf.random_uniform([target_vocab_size, decoding_embedding_size]))\n",
    "    dec_embed_input = tf.nn.embedding_lookup(dec_embeddings, dec_input)\n",
    "\n",
    "    # 2. Construct the decoder cell\n",
    "    def make_dec_cell(rnn_size):\n",
    "        dec_cell = tf.contrib.rnn.LSTMCell(rnn_size,\n",
    "                                           initializer=tf.random_uniform_initializer(-1, 1, seed=2))\n",
    "        return dec_cell\n",
    "\n",
    "    dec_cell = tf.contrib.rnn.MultiRNNCell([make_dec_cell(rnn_size) for _ in range(num_layers)])\n",
    "    dec_cell = tf.contrib.rnn.DropoutWrapper(dec_cell, keep_prob)\n",
    "     \n",
    "    # 3. Dense layer to translate the decoder's output at each time step into a choice from the target vocabulary\n",
    "    output_layer = Dense(target_vocab_size,\n",
    "                         kernel_initializer = tf.truncated_normal_initializer(mean = 0.0, stddev=0.1))\n",
    "\n",
    "\n",
    "    # 4. Set up a training decoder and an inference decoder\n",
    "    # Training Decoder\n",
    "    with tf.variable_scope(\"decode\"):\n",
    "\n",
    "        training_decoder_output = decoding_layer_train(encoder_state, dec_cell, dec_embed_input, \n",
    "                         target_sequence_length, max_target_sequence_length, \n",
    "                         output_layer, keep_prob)\n",
    "        \n",
    "    # 5. Inference Decoder\n",
    "    # Reuses the same parameters trained by the training process\n",
    "    with tf.variable_scope(\"decode\", reuse=True):\n",
    "        start_of_sequence_id = target_vocab_to_int['<GO>']\n",
    "        end_of_sequence_id = target_vocab_to_int['<EOS>']\n",
    "        inference_decoder_output = decoding_layer_infer(encoder_state, dec_cell, dec_embeddings, start_of_sequence_id,\n",
    "                         end_of_sequence_id, max_target_sequence_length,\n",
    "                         target_vocab_size, output_layer, batch_size, keep_prob)\n",
    "        \n",
    "    return training_decoder_output, inference_decoder_output\n",
    "\n",
    "\"\"\"\n",
    "DON'T MODIFY ANYTHING IN THIS CELL THAT IS BELOW THIS LINE\n",
    "\"\"\"\n",
    "tests.test_decoding_layer(decoding_layer)"
   ]
  },
  {
   "cell_type": "markdown",
   "metadata": {},
   "source": [
    "### Build the Neural Network\n",
    "Apply the functions you implemented above to:\n",
    "\n",
    "- Encode the input using your `encoding_layer(rnn_inputs, rnn_size, num_layers, keep_prob,  source_sequence_length, source_vocab_size, encoding_embedding_size)`.\n",
    "- Process target data using your `process_decoder_input(target_data, target_vocab_to_int, batch_size)` function.\n",
    "- Decode the encoded input using your `decoding_layer(dec_input, enc_state, target_sequence_length, max_target_sentence_length, rnn_size, num_layers, target_vocab_to_int, target_vocab_size, batch_size, keep_prob, dec_embedding_size)` function."
   ]
  },
  {
   "cell_type": "code",
   "execution_count": 16,
   "metadata": {
    "scrolled": false
   },
   "outputs": [
    {
     "name": "stdout",
     "output_type": "stream",
     "text": [
      "Tests Passed\n"
     ]
    }
   ],
   "source": [
    "def seq2seq_model(input_data, target_data, keep_prob, batch_size,\n",
    "                  source_sequence_length, target_sequence_length,\n",
    "                  max_target_sentence_length,\n",
    "                  source_vocab_size, target_vocab_size,\n",
    "                  enc_embedding_size, dec_embedding_size,\n",
    "                  rnn_size, num_layers, target_vocab_to_int):\n",
    "    \"\"\"\n",
    "    Build the Sequence-to-Sequence part of the neural network\n",
    "    :param input_data: Input placeholder\n",
    "    :param target_data: Target placeholder\n",
    "    :param keep_prob: Dropout keep probability placeholder\n",
    "    :param batch_size: Batch Size\n",
    "    :param source_sequence_length: Sequence Lengths of source sequences in the batch\n",
    "    :param target_sequence_length: Sequence Lengths of target sequences in the batch\n",
    "    :param source_vocab_size: Source vocabulary size\n",
    "    :param target_vocab_size: Target vocabulary size\n",
    "    :param enc_embedding_size: Decoder embedding size\n",
    "    :param dec_embedding_size: Encoder embedding size\n",
    "    :param rnn_size: RNN Size\n",
    "    :param num_layers: Number of layers\n",
    "    :param target_vocab_to_int: Dictionary to go from the target words to an id\n",
    "    :return: Tuple of (Training BasicDecoderOutput, Inference BasicDecoderOutput)\n",
    "    \"\"\"\n",
    "    # TODO: Implement Function\n",
    "    with tf.name_scope(\"seq2seq_model\"):\n",
    "        enc_out, enc_state  = encoding_layer(\n",
    "            input_data,rnn_size,num_layers,keep_prob,source_sequence_length,source_vocab_size,enc_embedding_size)\n",
    "\n",
    "        decoder_input = process_decoder_input(target_data,target_vocab_to_int,batch_size)\n",
    "\n",
    "        Training_BasicDecoderOutput, Inference_BasicDecoderOutput = decoding_layer(\n",
    "            decoder_input,enc_state,target_sequence_length,\n",
    "            max_target_sentence_length,rnn_size,num_layers,target_vocab_to_int,\n",
    "            target_vocab_size,batch_size,keep_prob,dec_embedding_size)\n",
    "\n",
    "        return Training_BasicDecoderOutput, Inference_BasicDecoderOutput\n",
    "\n",
    "\n",
    "\"\"\"\n",
    "DON'T MODIFY ANYTHING IN THIS CELL THAT IS BELOW THIS LINE\n",
    "\"\"\"\n",
    "tests.test_seq2seq_model(seq2seq_model)"
   ]
  },
  {
   "cell_type": "markdown",
   "metadata": {},
   "source": [
    "## Neural Network Training\n",
    "### Hyperparameters\n",
    "Tune the following parameters:\n",
    "\n",
    "- Set `epochs` to the number of epochs.\n",
    "- Set `batch_size` to the batch size.\n",
    "- Set `rnn_size` to the size of the RNNs.\n",
    "- Set `num_layers` to the number of layers.\n",
    "- Set `encoding_embedding_size` to the size of the embedding for the encoder.\n",
    "- Set `decoding_embedding_size` to the size of the embedding for the decoder.\n",
    "- Set `learning_rate` to the learning rate.\n",
    "- Set `keep_probability` to the Dropout keep probability\n",
    "- Set `display_step` to state how many steps between each debug output statement"
   ]
  },
  {
   "cell_type": "code",
   "execution_count": 55,
   "metadata": {},
   "outputs": [],
   "source": [
    "# Model hyper params and training configuration\n",
    "\n",
    "# Number of Epochs\n",
    "epochs = 2\n",
    "# Batch Size\n",
    "batch_size = 128\n",
    "# RNN Size\n",
    "rnn_size = 128\n",
    "# Number of Laffyers\n",
    "num_layers = 2\n",
    "# Embedding Size\n",
    "encoding_embedding_size = 512\n",
    "decoding_embedding_size = 512\n",
    "# Learning Rate\n",
    "learning_rate = 0.01\n",
    "# Dropout Keep Probability\n",
    "keep_probability = 0.6\n",
    "display_step = 10\n",
    "\n",
    "losses = []\n",
    "valid_acc_list = []\n",
    "train_acc_list = []"
   ]
  },
  {
   "cell_type": "raw",
   "metadata": {
    "collapsed": true
   },
   "source": [
    "# Model hyper params and training configuration\n",
    "\n",
    "# Number of Epochs\n",
    "epochs = 2\n",
    "# Batch Size\n",
    "batch_size = 256\n",
    "# RNN Size\n",
    "rnn_size = 128\n",
    "# Number of Layers\n",
    "num_layers = 2\n",
    "# Embedding Size\n",
    "encoding_embedding_size = 64\n",
    "decoding_embedding_size = 64\n",
    "# Learning Rate\n",
    "learning_rate = 0.001\n",
    "# Dropout Keep Probability\n",
    "keep_probability = 0.6\n",
    "display_step = 10\n",
    "losses = []\n",
    "accuracy = []"
   ]
  },
  {
   "cell_type": "markdown",
   "metadata": {},
   "source": [
    "### Build the Graph\n",
    "Build the graph using the neural network you implemented."
   ]
  },
  {
   "cell_type": "code",
   "execution_count": 56,
   "metadata": {
    "collapsed": true,
    "scrolled": false
   },
   "outputs": [],
   "source": [
    "\"\"\"\n",
    "DON'T MODIFY ANYTHING IN THIS CELL\n",
    "\"\"\"\n",
    "save_path = 'checkpoints/dev'\n",
    "(source_int_text, target_int_text), (source_vocab_to_int, target_vocab_to_int), _ = helper.load_preprocess()\n",
    "max_target_sentence_length = max([len(sentence) for sentence in source_int_text])\n",
    "\n",
    "train_graph = tf.Graph()\n",
    "with train_graph.as_default():\n",
    "    input_data, targets, lr, keep_prob, target_sequence_length, max_target_sequence_length, source_sequence_length = model_inputs()\n",
    "\n",
    "    #sequence_length = tf.placeholder_with_default(max_target_sentence_length, None, name='sequence_length')\n",
    "    input_shape = tf.shape(input_data)\n",
    "\n",
    "    train_logits, inference_logits = seq2seq_model(tf.reverse(input_data, [-1]),\n",
    "                                                   targets,\n",
    "                                                   keep_prob,\n",
    "                                                   batch_size,\n",
    "                                                   source_sequence_length,\n",
    "                                                   target_sequence_length,\n",
    "                                                   max_target_sequence_length,\n",
    "                                                   len(source_vocab_to_int),\n",
    "                                                   len(target_vocab_to_int),\n",
    "                                                   encoding_embedding_size,\n",
    "                                                   decoding_embedding_size,\n",
    "                                                   rnn_size,\n",
    "                                                   num_layers,\n",
    "                                                   target_vocab_to_int)\n",
    "\n",
    "\n",
    "    training_logits = tf.identity(train_logits.rnn_output, name='logits')\n",
    "    #tf.summary.histogram('logits', training_logits)\n",
    "    inference_logits = tf.identity(inference_logits.sample_id, name='predictions')\n",
    "    #tf.summary.histogram('inference_logits_pred', inference_logits)\n",
    "    masks = tf.sequence_mask(target_sequence_length, max_target_sequence_length, dtype=tf.float32, name='masks')\n",
    "\n",
    "    with tf.name_scope(\"optimization\"):\n",
    "        # Loss function\n",
    "        cost = tf.contrib.seq2seq.sequence_loss(\n",
    "            training_logits,\n",
    "            targets,\n",
    "            masks)\n",
    "        #tf.summary.scalar('cost', cost)\n",
    "\n",
    "        # Optimizer\n",
    "        optimizer = tf.train.AdamOptimizer(lr)\n",
    "        \n",
    "        # Gradient Clipping\n",
    "        gradients = optimizer.compute_gradients(cost)\n",
    " \n",
    "        capped_gradients = [(tf.clip_by_value(grad, -1., 1.), var) for grad, var in gradients if grad is not None]\n",
    "\n",
    "        train_op = optimizer.apply_gradients(capped_gradients)\n",
    "        \n"
   ]
  },
  {
   "cell_type": "markdown",
   "metadata": {},
   "source": [
    "Batch and pad the source and target sequences"
   ]
  },
  {
   "cell_type": "code",
   "execution_count": 57,
   "metadata": {
    "collapsed": true
   },
   "outputs": [],
   "source": [
    "\"\"\"\n",
    "DON'T MODIFY ANYTHING IN THIS CELL\n",
    "\"\"\"\n",
    "def pad_sentence_batch(sentence_batch, pad_int):\n",
    "    \"\"\"Pad sentences with <PAD> so that each sentence of a batch has the same length\"\"\"\n",
    "    max_sentence = max([len(sentence) for sentence in sentence_batch])\n",
    "    return [sentence + [pad_int] * (max_sentence - len(sentence)) for sentence in sentence_batch]\n",
    "\n",
    "\n",
    "def get_batches(sources, targets, batch_size, source_pad_int, target_pad_int):\n",
    "    \"\"\"Batch targets, sources, and the lengths of their sentences together\"\"\"\n",
    "    for batch_i in range(0, len(sources)//batch_size):\n",
    "        start_i = batch_i * batch_size\n",
    "\n",
    "        # Slice the right amount for the batch\n",
    "        sources_batch = sources[start_i:start_i + batch_size]\n",
    "        targets_batch = targets[start_i:start_i + batch_size]\n",
    "\n",
    "        # Pad\n",
    "        pad_sources_batch = np.array(pad_sentence_batch(sources_batch, source_pad_int))\n",
    "        pad_targets_batch = np.array(pad_sentence_batch(targets_batch, target_pad_int))\n",
    "\n",
    "        # Need the lengths for the _lengths parameters\n",
    "        pad_targets_lengths = []\n",
    "        for target in pad_targets_batch:\n",
    "            pad_targets_lengths.append(len(target))\n",
    "\n",
    "        pad_source_lengths = []\n",
    "        for source in pad_sources_batch:\n",
    "            pad_source_lengths.append(len(source))\n",
    "\n",
    "        yield pad_sources_batch, pad_targets_batch, pad_source_lengths, pad_targets_lengths\n"
   ]
  },
  {
   "cell_type": "markdown",
   "metadata": {},
   "source": [
    "### Train\n",
    "Train the neural network on the preprocessed data. If you have a hard time getting a good loss, check the forms to see if anyone is having the same problem."
   ]
  },
  {
   "cell_type": "code",
   "execution_count": 58,
   "metadata": {
    "scrolled": true
   },
   "outputs": [
    {
     "name": "stdout",
     "output_type": "stream",
     "text": [
      "Epoch   0 Batch   10/1077 - Train Accuracy: 0.2397, Validation Accuracy: 0.3381, Loss: 3.5272\n",
      "Epoch   0 Batch   20/1077 - Train Accuracy: 0.3320, Validation Accuracy: 0.3825, Loss: 2.7531\n",
      "Epoch   0 Batch   30/1077 - Train Accuracy: 0.3547, Validation Accuracy: 0.4350, Loss: 2.3349\n",
      "Epoch   0 Batch   40/1077 - Train Accuracy: 0.3453, Validation Accuracy: 0.4190, Loss: 1.9185\n",
      "Epoch   0 Batch   50/1077 - Train Accuracy: 0.4094, Validation Accuracy: 0.4840, Loss: 1.6025\n",
      "Epoch   0 Batch   60/1077 - Train Accuracy: 0.4327, Validation Accuracy: 0.4592, Loss: 1.3044\n",
      "Epoch   0 Batch   70/1077 - Train Accuracy: 0.4601, Validation Accuracy: 0.5291, Loss: 1.1894\n",
      "Epoch   0 Batch   80/1077 - Train Accuracy: 0.4707, Validation Accuracy: 0.5224, Loss: 1.0308\n",
      "Epoch   0 Batch   90/1077 - Train Accuracy: 0.4879, Validation Accuracy: 0.5554, Loss: 0.9909\n",
      "Epoch   0 Batch  100/1077 - Train Accuracy: 0.5270, Validation Accuracy: 0.5312, Loss: 0.9076\n",
      "Epoch   0 Batch  110/1077 - Train Accuracy: 0.5598, Validation Accuracy: 0.5803, Loss: 0.8212\n",
      "Epoch   0 Batch  120/1077 - Train Accuracy: 0.5441, Validation Accuracy: 0.5788, Loss: 0.8258\n",
      "Epoch   0 Batch  130/1077 - Train Accuracy: 0.5558, Validation Accuracy: 0.5465, Loss: 0.7338\n",
      "Epoch   0 Batch  140/1077 - Train Accuracy: 0.5041, Validation Accuracy: 0.5895, Loss: 0.7916\n",
      "Epoch   0 Batch  150/1077 - Train Accuracy: 0.6064, Validation Accuracy: 0.5959, Loss: 0.7117\n",
      "Epoch   0 Batch  160/1077 - Train Accuracy: 0.6266, Validation Accuracy: 0.6080, Loss: 0.6883\n",
      "Epoch   0 Batch  170/1077 - Train Accuracy: 0.5578, Validation Accuracy: 0.6058, Loss: 0.7256\n",
      "Epoch   0 Batch  180/1077 - Train Accuracy: 0.5703, Validation Accuracy: 0.5891, Loss: 0.6877\n",
      "Epoch   0 Batch  190/1077 - Train Accuracy: 0.6359, Validation Accuracy: 0.6250, Loss: 0.6335\n",
      "Epoch   0 Batch  200/1077 - Train Accuracy: 0.5926, Validation Accuracy: 0.6200, Loss: 0.6554\n",
      "Epoch   0 Batch  210/1077 - Train Accuracy: 0.6417, Validation Accuracy: 0.6232, Loss: 0.6196\n",
      "Epoch   0 Batch  220/1077 - Train Accuracy: 0.6160, Validation Accuracy: 0.6467, Loss: 0.6031\n",
      "Epoch   0 Batch  230/1077 - Train Accuracy: 0.6362, Validation Accuracy: 0.6151, Loss: 0.5887\n",
      "Epoch   0 Batch  240/1077 - Train Accuracy: 0.6586, Validation Accuracy: 0.6293, Loss: 0.5690\n",
      "Epoch   0 Batch  250/1077 - Train Accuracy: 0.6399, Validation Accuracy: 0.6133, Loss: 0.5096\n",
      "Epoch   0 Batch  260/1077 - Train Accuracy: 0.6116, Validation Accuracy: 0.6012, Loss: 0.5096\n",
      "Epoch   0 Batch  270/1077 - Train Accuracy: 0.6383, Validation Accuracy: 0.6548, Loss: 0.5530\n",
      "Epoch   0 Batch  280/1077 - Train Accuracy: 0.6445, Validation Accuracy: 0.6733, Loss: 0.5427\n",
      "Epoch   0 Batch  290/1077 - Train Accuracy: 0.6645, Validation Accuracy: 0.6754, Loss: 0.5399\n",
      "Epoch   0 Batch  300/1077 - Train Accuracy: 0.6624, Validation Accuracy: 0.6449, Loss: 0.5022\n",
      "Epoch   0 Batch  310/1077 - Train Accuracy: 0.6172, Validation Accuracy: 0.6523, Loss: 0.5137\n",
      "Epoch   0 Batch  320/1077 - Train Accuracy: 0.6953, Validation Accuracy: 0.6701, Loss: 0.4673\n",
      "Epoch   0 Batch  330/1077 - Train Accuracy: 0.7020, Validation Accuracy: 0.6534, Loss: 0.4663\n",
      "Epoch   0 Batch  340/1077 - Train Accuracy: 0.6303, Validation Accuracy: 0.6683, Loss: 0.4804\n",
      "Epoch   0 Batch  350/1077 - Train Accuracy: 0.6660, Validation Accuracy: 0.6431, Loss: 0.4828\n",
      "Epoch   0 Batch  360/1077 - Train Accuracy: 0.6641, Validation Accuracy: 0.6868, Loss: 0.4478\n",
      "Epoch   0 Batch  370/1077 - Train Accuracy: 0.7009, Validation Accuracy: 0.6772, Loss: 0.4309\n",
      "Epoch   0 Batch  380/1077 - Train Accuracy: 0.7094, Validation Accuracy: 0.6662, Loss: 0.4338\n",
      "Epoch   0 Batch  390/1077 - Train Accuracy: 0.6539, Validation Accuracy: 0.6538, Loss: 0.4383\n",
      "Epoch   0 Batch  400/1077 - Train Accuracy: 0.6977, Validation Accuracy: 0.6726, Loss: 0.4335\n",
      "Epoch   0 Batch  410/1077 - Train Accuracy: 0.6419, Validation Accuracy: 0.6882, Loss: 0.4420\n",
      "Epoch   0 Batch  420/1077 - Train Accuracy: 0.7398, Validation Accuracy: 0.7092, Loss: 0.3814\n",
      "Epoch   0 Batch  430/1077 - Train Accuracy: 0.6898, Validation Accuracy: 0.6971, Loss: 0.3852\n",
      "Epoch   0 Batch  440/1077 - Train Accuracy: 0.7051, Validation Accuracy: 0.7024, Loss: 0.3952\n",
      "Epoch   0 Batch  450/1077 - Train Accuracy: 0.7219, Validation Accuracy: 0.6729, Loss: 0.3673\n",
      "Epoch   0 Batch  460/1077 - Train Accuracy: 0.6918, Validation Accuracy: 0.7173, Loss: 0.3932\n",
      "Epoch   0 Batch  470/1077 - Train Accuracy: 0.7171, Validation Accuracy: 0.7212, Loss: 0.3873\n",
      "Epoch   0 Batch  480/1077 - Train Accuracy: 0.6900, Validation Accuracy: 0.7092, Loss: 0.3931\n",
      "Epoch   0 Batch  490/1077 - Train Accuracy: 0.6875, Validation Accuracy: 0.6747, Loss: 0.3680\n",
      "Epoch   0 Batch  500/1077 - Train Accuracy: 0.7113, Validation Accuracy: 0.7053, Loss: 0.3565\n",
      "Epoch   0 Batch  510/1077 - Train Accuracy: 0.6840, Validation Accuracy: 0.6960, Loss: 0.3515\n",
      "Epoch   0 Batch  520/1077 - Train Accuracy: 0.7355, Validation Accuracy: 0.7173, Loss: 0.3250\n",
      "Epoch   0 Batch  530/1077 - Train Accuracy: 0.6891, Validation Accuracy: 0.7092, Loss: 0.3536\n",
      "Epoch   0 Batch  540/1077 - Train Accuracy: 0.7555, Validation Accuracy: 0.7056, Loss: 0.3144\n",
      "Epoch   0 Batch  550/1077 - Train Accuracy: 0.7219, Validation Accuracy: 0.7312, Loss: 0.3437\n",
      "Epoch   0 Batch  560/1077 - Train Accuracy: 0.7504, Validation Accuracy: 0.7383, Loss: 0.3176\n",
      "Epoch   0 Batch  570/1077 - Train Accuracy: 0.7352, Validation Accuracy: 0.7393, Loss: 0.3481\n",
      "Epoch   0 Batch  580/1077 - Train Accuracy: 0.7656, Validation Accuracy: 0.7699, Loss: 0.2947\n",
      "Epoch   0 Batch  590/1077 - Train Accuracy: 0.6620, Validation Accuracy: 0.7134, Loss: 0.3363\n",
      "Epoch   0 Batch  600/1077 - Train Accuracy: 0.7515, Validation Accuracy: 0.7422, Loss: 0.2878\n",
      "Epoch   0 Batch  610/1077 - Train Accuracy: 0.7619, Validation Accuracy: 0.7521, Loss: 0.3209\n",
      "Epoch   0 Batch  620/1077 - Train Accuracy: 0.7535, Validation Accuracy: 0.7305, Loss: 0.2857\n",
      "Epoch   0 Batch  630/1077 - Train Accuracy: 0.7695, Validation Accuracy: 0.7557, Loss: 0.2878\n",
      "Epoch   0 Batch  640/1077 - Train Accuracy: 0.7556, Validation Accuracy: 0.7766, Loss: 0.2865\n",
      "Epoch   0 Batch  650/1077 - Train Accuracy: 0.7484, Validation Accuracy: 0.7500, Loss: 0.2841\n",
      "Epoch   0 Batch  660/1077 - Train Accuracy: 0.7727, Validation Accuracy: 0.7830, Loss: 0.2748\n",
      "Epoch   0 Batch  670/1077 - Train Accuracy: 0.7997, Validation Accuracy: 0.7837, Loss: 0.2588\n",
      "Epoch   0 Batch  680/1077 - Train Accuracy: 0.7333, Validation Accuracy: 0.7834, Loss: 0.2598\n",
      "Epoch   0 Batch  690/1077 - Train Accuracy: 0.8035, Validation Accuracy: 0.7937, Loss: 0.2622\n",
      "Epoch   0 Batch  700/1077 - Train Accuracy: 0.7848, Validation Accuracy: 0.7788, Loss: 0.2668\n",
      "Epoch   0 Batch  710/1077 - Train Accuracy: 0.7703, Validation Accuracy: 0.7667, Loss: 0.2619\n",
      "Epoch   0 Batch  720/1077 - Train Accuracy: 0.7693, Validation Accuracy: 0.7738, Loss: 0.2732\n",
      "Epoch   0 Batch  730/1077 - Train Accuracy: 0.7773, Validation Accuracy: 0.7646, Loss: 0.2667\n",
      "Epoch   0 Batch  740/1077 - Train Accuracy: 0.7879, Validation Accuracy: 0.7844, Loss: 0.2432\n",
      "Epoch   0 Batch  750/1077 - Train Accuracy: 0.8000, Validation Accuracy: 0.7994, Loss: 0.2385\n",
      "Epoch   0 Batch  760/1077 - Train Accuracy: 0.7824, Validation Accuracy: 0.7532, Loss: 0.2509\n",
      "Epoch   0 Batch  770/1077 - Train Accuracy: 0.7984, Validation Accuracy: 0.7749, Loss: 0.2326\n",
      "Epoch   0 Batch  780/1077 - Train Accuracy: 0.7840, Validation Accuracy: 0.8118, Loss: 0.2574\n",
      "Epoch   0 Batch  790/1077 - Train Accuracy: 0.7664, Validation Accuracy: 0.8114, Loss: 0.2634\n",
      "Epoch   0 Batch  800/1077 - Train Accuracy: 0.7898, Validation Accuracy: 0.7972, Loss: 0.2387\n",
      "Epoch   0 Batch  810/1077 - Train Accuracy: 0.8106, Validation Accuracy: 0.7958, Loss: 0.2096\n",
      "Epoch   0 Batch  820/1077 - Train Accuracy: 0.7699, Validation Accuracy: 0.8058, Loss: 0.2438\n",
      "Epoch   0 Batch  830/1077 - Train Accuracy: 0.7961, Validation Accuracy: 0.8036, Loss: 0.2335\n",
      "Epoch   0 Batch  840/1077 - Train Accuracy: 0.8191, Validation Accuracy: 0.7731, Loss: 0.2037\n",
      "Epoch   0 Batch  850/1077 - Train Accuracy: 0.7898, Validation Accuracy: 0.8001, Loss: 0.2556\n",
      "Epoch   0 Batch  860/1077 - Train Accuracy: 0.8051, Validation Accuracy: 0.8065, Loss: 0.2234\n",
      "Epoch   0 Batch  870/1077 - Train Accuracy: 0.7603, Validation Accuracy: 0.7859, Loss: 0.2336\n",
      "Epoch   0 Batch  880/1077 - Train Accuracy: 0.8070, Validation Accuracy: 0.8114, Loss: 0.2135\n"
     ]
    },
    {
     "name": "stdout",
     "output_type": "stream",
     "text": [
      "Epoch   0 Batch  890/1077 - Train Accuracy: 0.8378, Validation Accuracy: 0.7720, Loss: 0.2042\n",
      "Epoch   0 Batch  900/1077 - Train Accuracy: 0.8320, Validation Accuracy: 0.8281, Loss: 0.2285\n",
      "Epoch   0 Batch  910/1077 - Train Accuracy: 0.7894, Validation Accuracy: 0.7866, Loss: 0.2141\n",
      "Epoch   0 Batch  920/1077 - Train Accuracy: 0.8371, Validation Accuracy: 0.7844, Loss: 0.2129\n",
      "Epoch   0 Batch  930/1077 - Train Accuracy: 0.8344, Validation Accuracy: 0.8050, Loss: 0.1922\n",
      "Epoch   0 Batch  940/1077 - Train Accuracy: 0.8355, Validation Accuracy: 0.8058, Loss: 0.2065\n",
      "Epoch   0 Batch  950/1077 - Train Accuracy: 0.7976, Validation Accuracy: 0.7926, Loss: 0.2034\n",
      "Epoch   0 Batch  960/1077 - Train Accuracy: 0.8166, Validation Accuracy: 0.8043, Loss: 0.2040\n",
      "Epoch   0 Batch  970/1077 - Train Accuracy: 0.8637, Validation Accuracy: 0.8107, Loss: 0.2124\n",
      "Epoch   0 Batch  980/1077 - Train Accuracy: 0.8059, Validation Accuracy: 0.8153, Loss: 0.1991\n",
      "Epoch   0 Batch  990/1077 - Train Accuracy: 0.8030, Validation Accuracy: 0.8278, Loss: 0.2259\n",
      "Epoch   0 Batch 1000/1077 - Train Accuracy: 0.8415, Validation Accuracy: 0.7869, Loss: 0.1822\n",
      "Epoch   0 Batch 1010/1077 - Train Accuracy: 0.8391, Validation Accuracy: 0.8036, Loss: 0.1922\n",
      "Epoch   0 Batch 1020/1077 - Train Accuracy: 0.8383, Validation Accuracy: 0.8249, Loss: 0.1658\n",
      "Epoch   0 Batch 1030/1077 - Train Accuracy: 0.8418, Validation Accuracy: 0.8303, Loss: 0.1982\n",
      "Epoch   0 Batch 1040/1077 - Train Accuracy: 0.8294, Validation Accuracy: 0.7830, Loss: 0.2126\n",
      "Epoch   0 Batch 1050/1077 - Train Accuracy: 0.8297, Validation Accuracy: 0.7983, Loss: 0.1850\n",
      "Epoch   0 Batch 1060/1077 - Train Accuracy: 0.8605, Validation Accuracy: 0.7962, Loss: 0.1606\n",
      "Epoch   0 Batch 1070/1077 - Train Accuracy: 0.8043, Validation Accuracy: 0.8207, Loss: 0.1857\n",
      "Epoch   1 Batch   10/1077 - Train Accuracy: 0.8512, Validation Accuracy: 0.8313, Loss: 0.1756\n",
      "Epoch   1 Batch   20/1077 - Train Accuracy: 0.8301, Validation Accuracy: 0.8278, Loss: 0.1673\n",
      "Epoch   1 Batch   30/1077 - Train Accuracy: 0.8547, Validation Accuracy: 0.8249, Loss: 0.1670\n",
      "Epoch   1 Batch   40/1077 - Train Accuracy: 0.8422, Validation Accuracy: 0.8349, Loss: 0.1564\n",
      "Epoch   1 Batch   50/1077 - Train Accuracy: 0.8520, Validation Accuracy: 0.8274, Loss: 0.1666\n",
      "Epoch   1 Batch   60/1077 - Train Accuracy: 0.8460, Validation Accuracy: 0.8288, Loss: 0.1544\n",
      "Epoch   1 Batch   70/1077 - Train Accuracy: 0.8236, Validation Accuracy: 0.8185, Loss: 0.1703\n",
      "Epoch   1 Batch   80/1077 - Train Accuracy: 0.8742, Validation Accuracy: 0.8356, Loss: 0.1552\n",
      "Epoch   1 Batch   90/1077 - Train Accuracy: 0.8395, Validation Accuracy: 0.8185, Loss: 0.1692\n",
      "Epoch   1 Batch  100/1077 - Train Accuracy: 0.8695, Validation Accuracy: 0.8313, Loss: 0.1502\n",
      "Epoch   1 Batch  110/1077 - Train Accuracy: 0.8895, Validation Accuracy: 0.8398, Loss: 0.1409\n",
      "Epoch   1 Batch  120/1077 - Train Accuracy: 0.8488, Validation Accuracy: 0.8576, Loss: 0.1640\n",
      "Epoch   1 Batch  130/1077 - Train Accuracy: 0.8724, Validation Accuracy: 0.8104, Loss: 0.1355\n",
      "Epoch   1 Batch  140/1077 - Train Accuracy: 0.8771, Validation Accuracy: 0.8530, Loss: 0.1489\n",
      "Epoch   1 Batch  150/1077 - Train Accuracy: 0.8884, Validation Accuracy: 0.8416, Loss: 0.1505\n",
      "Epoch   1 Batch  160/1077 - Train Accuracy: 0.8699, Validation Accuracy: 0.8363, Loss: 0.1438\n",
      "Epoch   1 Batch  170/1077 - Train Accuracy: 0.8324, Validation Accuracy: 0.8501, Loss: 0.1608\n",
      "Epoch   1 Batch  180/1077 - Train Accuracy: 0.8840, Validation Accuracy: 0.8590, Loss: 0.1389\n",
      "Epoch   1 Batch  190/1077 - Train Accuracy: 0.9051, Validation Accuracy: 0.8615, Loss: 0.1362\n",
      "Epoch   1 Batch  200/1077 - Train Accuracy: 0.8594, Validation Accuracy: 0.8423, Loss: 0.1499\n",
      "Epoch   1 Batch  210/1077 - Train Accuracy: 0.8702, Validation Accuracy: 0.8129, Loss: 0.1601\n",
      "Epoch   1 Batch  220/1077 - Train Accuracy: 0.8803, Validation Accuracy: 0.8466, Loss: 0.1556\n",
      "Epoch   1 Batch  230/1077 - Train Accuracy: 0.8724, Validation Accuracy: 0.8335, Loss: 0.1474\n",
      "Epoch   1 Batch  240/1077 - Train Accuracy: 0.8941, Validation Accuracy: 0.8274, Loss: 0.1266\n",
      "Epoch   1 Batch  250/1077 - Train Accuracy: 0.8626, Validation Accuracy: 0.8416, Loss: 0.1299\n",
      "Epoch   1 Batch  260/1077 - Train Accuracy: 0.8940, Validation Accuracy: 0.8377, Loss: 0.1240\n",
      "Epoch   1 Batch  270/1077 - Train Accuracy: 0.8285, Validation Accuracy: 0.8647, Loss: 0.1455\n",
      "Epoch   1 Batch  280/1077 - Train Accuracy: 0.8441, Validation Accuracy: 0.8306, Loss: 0.1433\n",
      "Epoch   1 Batch  290/1077 - Train Accuracy: 0.8531, Validation Accuracy: 0.8445, Loss: 0.1498\n",
      "Epoch   1 Batch  300/1077 - Train Accuracy: 0.8976, Validation Accuracy: 0.8519, Loss: 0.1287\n",
      "Epoch   1 Batch  310/1077 - Train Accuracy: 0.8504, Validation Accuracy: 0.8409, Loss: 0.1526\n",
      "Epoch   1 Batch  320/1077 - Train Accuracy: 0.8746, Validation Accuracy: 0.8526, Loss: 0.1364\n",
      "Epoch   1 Batch  330/1077 - Train Accuracy: 0.8504, Validation Accuracy: 0.8462, Loss: 0.1390\n",
      "Epoch   1 Batch  340/1077 - Train Accuracy: 0.8988, Validation Accuracy: 0.8636, Loss: 0.1295\n",
      "Epoch   1 Batch  350/1077 - Train Accuracy: 0.8652, Validation Accuracy: 0.8320, Loss: 0.1433\n",
      "Epoch   1 Batch  360/1077 - Train Accuracy: 0.9023, Validation Accuracy: 0.8651, Loss: 0.1276\n",
      "Epoch   1 Batch  370/1077 - Train Accuracy: 0.9074, Validation Accuracy: 0.8445, Loss: 0.1202\n",
      "Epoch   1 Batch  380/1077 - Train Accuracy: 0.9113, Validation Accuracy: 0.8661, Loss: 0.1217\n",
      "Epoch   1 Batch  390/1077 - Train Accuracy: 0.8633, Validation Accuracy: 0.8697, Loss: 0.1277\n",
      "Epoch   1 Batch  400/1077 - Train Accuracy: 0.8719, Validation Accuracy: 0.8714, Loss: 0.1479\n",
      "Epoch   1 Batch  410/1077 - Train Accuracy: 0.8627, Validation Accuracy: 0.8775, Loss: 0.1392\n",
      "Epoch   1 Batch  420/1077 - Train Accuracy: 0.8930, Validation Accuracy: 0.8654, Loss: 0.1113\n",
      "Epoch   1 Batch  430/1077 - Train Accuracy: 0.8738, Validation Accuracy: 0.8427, Loss: 0.1169\n",
      "Epoch   1 Batch  440/1077 - Train Accuracy: 0.8477, Validation Accuracy: 0.8487, Loss: 0.1478\n",
      "Epoch   1 Batch  450/1077 - Train Accuracy: 0.8668, Validation Accuracy: 0.8626, Loss: 0.1247\n",
      "Epoch   1 Batch  460/1077 - Train Accuracy: 0.8828, Validation Accuracy: 0.8668, Loss: 0.1322\n",
      "Epoch   1 Batch  470/1077 - Train Accuracy: 0.8762, Validation Accuracy: 0.8505, Loss: 0.1312\n",
      "Epoch   1 Batch  480/1077 - Train Accuracy: 0.8618, Validation Accuracy: 0.8612, Loss: 0.1384\n",
      "Epoch   1 Batch  490/1077 - Train Accuracy: 0.9004, Validation Accuracy: 0.8512, Loss: 0.1243\n",
      "Epoch   1 Batch  500/1077 - Train Accuracy: 0.8824, Validation Accuracy: 0.8711, Loss: 0.1106\n",
      "Epoch   1 Batch  510/1077 - Train Accuracy: 0.8941, Validation Accuracy: 0.8501, Loss: 0.1259\n",
      "Epoch   1 Batch  520/1077 - Train Accuracy: 0.8973, Validation Accuracy: 0.8725, Loss: 0.1257\n",
      "Epoch   1 Batch  530/1077 - Train Accuracy: 0.8680, Validation Accuracy: 0.8629, Loss: 0.1243\n",
      "Epoch   1 Batch  540/1077 - Train Accuracy: 0.8766, Validation Accuracy: 0.8732, Loss: 0.1046\n",
      "Epoch   1 Batch  550/1077 - Train Accuracy: 0.8520, Validation Accuracy: 0.8523, Loss: 0.1175\n",
      "Epoch   1 Batch  560/1077 - Train Accuracy: 0.8785, Validation Accuracy: 0.8633, Loss: 0.1201\n",
      "Epoch   1 Batch  570/1077 - Train Accuracy: 0.8623, Validation Accuracy: 0.8487, Loss: 0.1342\n",
      "Epoch   1 Batch  580/1077 - Train Accuracy: 0.8921, Validation Accuracy: 0.8441, Loss: 0.1068\n",
      "Epoch   1 Batch  590/1077 - Train Accuracy: 0.8614, Validation Accuracy: 0.8743, Loss: 0.1248\n",
      "Epoch   1 Batch  600/1077 - Train Accuracy: 0.8694, Validation Accuracy: 0.8661, Loss: 0.1183\n",
      "Epoch   1 Batch  610/1077 - Train Accuracy: 0.8828, Validation Accuracy: 0.8608, Loss: 0.1248\n",
      "Epoch   1 Batch  620/1077 - Train Accuracy: 0.9199, Validation Accuracy: 0.8846, Loss: 0.1046\n",
      "Epoch   1 Batch  630/1077 - Train Accuracy: 0.9105, Validation Accuracy: 0.8786, Loss: 0.1005\n",
      "Epoch   1 Batch  640/1077 - Train Accuracy: 0.8921, Validation Accuracy: 0.8643, Loss: 0.1184\n",
      "Epoch   1 Batch  650/1077 - Train Accuracy: 0.8723, Validation Accuracy: 0.8612, Loss: 0.1261\n",
      "Epoch   1 Batch  660/1077 - Train Accuracy: 0.9039, Validation Accuracy: 0.8516, Loss: 0.1024\n",
      "Epoch   1 Batch  670/1077 - Train Accuracy: 0.8842, Validation Accuracy: 0.8821, Loss: 0.1193\n",
      "Epoch   1 Batch  680/1077 - Train Accuracy: 0.8981, Validation Accuracy: 0.8484, Loss: 0.0881\n",
      "Epoch   1 Batch  690/1077 - Train Accuracy: 0.9262, Validation Accuracy: 0.8718, Loss: 0.1044\n"
     ]
    },
    {
     "name": "stdout",
     "output_type": "stream",
     "text": [
      "Epoch   1 Batch  700/1077 - Train Accuracy: 0.9039, Validation Accuracy: 0.8455, Loss: 0.0940\n",
      "Epoch   1 Batch  710/1077 - Train Accuracy: 0.8820, Validation Accuracy: 0.8548, Loss: 0.0973\n",
      "Epoch   1 Batch  720/1077 - Train Accuracy: 0.9005, Validation Accuracy: 0.8661, Loss: 0.1075\n",
      "Epoch   1 Batch  730/1077 - Train Accuracy: 0.9055, Validation Accuracy: 0.8665, Loss: 0.1156\n",
      "Epoch   1 Batch  740/1077 - Train Accuracy: 0.8680, Validation Accuracy: 0.8793, Loss: 0.0989\n",
      "Epoch   1 Batch  750/1077 - Train Accuracy: 0.8926, Validation Accuracy: 0.8814, Loss: 0.0899\n",
      "Epoch   1 Batch  760/1077 - Train Accuracy: 0.8980, Validation Accuracy: 0.8786, Loss: 0.1056\n",
      "Epoch   1 Batch  770/1077 - Train Accuracy: 0.8754, Validation Accuracy: 0.8920, Loss: 0.1077\n",
      "Epoch   1 Batch  780/1077 - Train Accuracy: 0.8527, Validation Accuracy: 0.8675, Loss: 0.1197\n",
      "Epoch   1 Batch  790/1077 - Train Accuracy: 0.8609, Validation Accuracy: 0.8679, Loss: 0.1106\n",
      "Epoch   1 Batch  800/1077 - Train Accuracy: 0.9086, Validation Accuracy: 0.8761, Loss: 0.1074\n",
      "Epoch   1 Batch  810/1077 - Train Accuracy: 0.9018, Validation Accuracy: 0.8754, Loss: 0.0866\n",
      "Epoch   1 Batch  820/1077 - Train Accuracy: 0.8641, Validation Accuracy: 0.8888, Loss: 0.0950\n",
      "Epoch   1 Batch  830/1077 - Train Accuracy: 0.8715, Validation Accuracy: 0.8700, Loss: 0.0981\n",
      "Epoch   1 Batch  840/1077 - Train Accuracy: 0.9117, Validation Accuracy: 0.8722, Loss: 0.0892\n",
      "Epoch   1 Batch  850/1077 - Train Accuracy: 0.8813, Validation Accuracy: 0.8754, Loss: 0.1254\n",
      "Epoch   1 Batch  860/1077 - Train Accuracy: 0.9241, Validation Accuracy: 0.8704, Loss: 0.0946\n",
      "Epoch   1 Batch  870/1077 - Train Accuracy: 0.8668, Validation Accuracy: 0.8732, Loss: 0.0951\n",
      "Epoch   1 Batch  880/1077 - Train Accuracy: 0.9168, Validation Accuracy: 0.9016, Loss: 0.0947\n",
      "Epoch   1 Batch  890/1077 - Train Accuracy: 0.9029, Validation Accuracy: 0.8601, Loss: 0.0857\n",
      "Epoch   1 Batch  900/1077 - Train Accuracy: 0.8992, Validation Accuracy: 0.8984, Loss: 0.1034\n",
      "Epoch   1 Batch  910/1077 - Train Accuracy: 0.8832, Validation Accuracy: 0.8793, Loss: 0.1026\n",
      "Epoch   1 Batch  920/1077 - Train Accuracy: 0.8816, Validation Accuracy: 0.8754, Loss: 0.0964\n",
      "Epoch   1 Batch  930/1077 - Train Accuracy: 0.8918, Validation Accuracy: 0.8810, Loss: 0.0900\n",
      "Epoch   1 Batch  940/1077 - Train Accuracy: 0.9035, Validation Accuracy: 0.8622, Loss: 0.0962\n",
      "Epoch   1 Batch  950/1077 - Train Accuracy: 0.8921, Validation Accuracy: 0.8608, Loss: 0.0872\n",
      "Epoch   1 Batch  960/1077 - Train Accuracy: 0.8999, Validation Accuracy: 0.8739, Loss: 0.0869\n",
      "Epoch   1 Batch  970/1077 - Train Accuracy: 0.9266, Validation Accuracy: 0.8864, Loss: 0.0987\n",
      "Epoch   1 Batch  980/1077 - Train Accuracy: 0.8863, Validation Accuracy: 0.8945, Loss: 0.1063\n",
      "Epoch   1 Batch  990/1077 - Train Accuracy: 0.9005, Validation Accuracy: 0.8754, Loss: 0.1159\n",
      "Epoch   1 Batch 1000/1077 - Train Accuracy: 0.8828, Validation Accuracy: 0.8622, Loss: 0.0896\n",
      "Epoch   1 Batch 1010/1077 - Train Accuracy: 0.9215, Validation Accuracy: 0.8722, Loss: 0.0984\n",
      "Epoch   1 Batch 1020/1077 - Train Accuracy: 0.9176, Validation Accuracy: 0.8626, Loss: 0.0762\n",
      "Epoch   1 Batch 1030/1077 - Train Accuracy: 0.8969, Validation Accuracy: 0.8835, Loss: 0.1005\n",
      "Epoch   1 Batch 1040/1077 - Train Accuracy: 0.8746, Validation Accuracy: 0.8661, Loss: 0.0959\n",
      "Epoch   1 Batch 1050/1077 - Train Accuracy: 0.8785, Validation Accuracy: 0.8597, Loss: 0.0850\n",
      "Epoch   1 Batch 1060/1077 - Train Accuracy: 0.9105, Validation Accuracy: 0.8906, Loss: 0.0813\n",
      "Epoch   1 Batch 1070/1077 - Train Accuracy: 0.8812, Validation Accuracy: 0.8640, Loss: 0.0903\n",
      "Model Trained and Saved\n"
     ]
    }
   ],
   "source": [
    "\"\"\"\n",
    "DON'T MODIFY ANYTHING IN THIS CELL\n",
    "\"\"\"\n",
    "def get_accuracy(target, logits):\n",
    "    \"\"\"\n",
    "    Calculate accuracy\n",
    "    \"\"\"\n",
    "    max_seq = max(target.shape[1], logits.shape[1])\n",
    "    if max_seq - target.shape[1]:\n",
    "        target = np.pad(\n",
    "            target,\n",
    "            [(0,0),(0,max_seq - target.shape[1])],\n",
    "            'constant')\n",
    "    if max_seq - logits.shape[1]:\n",
    "        logits = np.pad(\n",
    "            logits,\n",
    "            [(0,0),(0,max_seq - logits.shape[1])],\n",
    "            'constant')\n",
    "\n",
    "    return np.mean(np.equal(target, logits))\n",
    "\n",
    "# Split data to training and validation sets\n",
    "train_source = source_int_text[batch_size:]\n",
    "train_target = target_int_text[batch_size:]\n",
    "valid_source = source_int_text[:batch_size]\n",
    "valid_target = target_int_text[:batch_size]\n",
    "(valid_sources_batch, valid_targets_batch, valid_sources_lengths, valid_targets_lengths ) = next(get_batches(valid_source,\n",
    "                                                                                                             valid_target,\n",
    "                                                                                                             batch_size,\n",
    "                                                                                                             source_vocab_to_int['<PAD>'],\n",
    "                                                                                                             target_vocab_to_int['<PAD>']))                                                                                                  \n",
    "with tf.Session(graph=train_graph) as sess:\n",
    "    sess.run(tf.global_variables_initializer())\n",
    "\n",
    "    for epoch_i in range(epochs):\n",
    "        for batch_i, (source_batch, target_batch, sources_lengths, targets_lengths) in enumerate(\n",
    "                get_batches(train_source, train_target, batch_size,\n",
    "                            source_vocab_to_int['<PAD>'],\n",
    "                            target_vocab_to_int['<PAD>'])):\n",
    "\n",
    "            _, loss = sess.run(\n",
    "                [train_op, cost],\n",
    "                {input_data: source_batch,\n",
    "                 targets: target_batch,\n",
    "                 lr: learning_rate,\n",
    "                 target_sequence_length: targets_lengths,\n",
    "                 source_sequence_length: sources_lengths,\n",
    "                 keep_prob: keep_probability})\n",
    "\n",
    "\n",
    "            if batch_i % display_step == 0 and batch_i > 0:\n",
    "\n",
    "\n",
    "                batch_train_logits = sess.run(\n",
    "                    inference_logits,\n",
    "                    {input_data: source_batch,\n",
    "                     source_sequence_length: sources_lengths,\n",
    "                     target_sequence_length: targets_lengths,\n",
    "                     keep_prob: 1.0})\n",
    "\n",
    "\n",
    "                batch_valid_logits = sess.run(\n",
    "                    inference_logits,\n",
    "                    {input_data: valid_sources_batch,\n",
    "                     source_sequence_length: valid_sources_lengths,\n",
    "                     target_sequence_length: valid_targets_lengths,\n",
    "                     keep_prob: 1.0})\n",
    "\n",
    "                train_acc = get_accuracy(target_batch, batch_train_logits)\n",
    "                \n",
    "                valid_acc = get_accuracy(valid_targets_batch, batch_valid_logits)\n",
    "                \n",
    "                valid_acc_list.append(valid_acc)\n",
    "                train_acc_list.append(train_acc)\n",
    "                losses.append(loss)\n",
    "                \n",
    "                print('Epoch {:>3} Batch {:>4}/{} - Train Accuracy: {:>6.4f}, Validation Accuracy: {:>6.4f}, Loss: {:>6.4f}'\n",
    "                      .format(epoch_i, batch_i, len(source_int_text) // batch_size, train_acc, valid_acc, loss))\n",
    "\n",
    "    # Save Model\n",
    "    saver = tf.train.Saver()\n",
    "    saver.save(sess, save_path)\n",
    "    print('Model Trained and Saved')"
   ]
  },
  {
   "cell_type": "markdown",
   "metadata": {},
   "source": [
    "## Accuracy and Loss Visualizations"
   ]
  },
  {
   "cell_type": "code",
   "execution_count": 60,
   "metadata": {},
   "outputs": [
    {
     "data": {
      "image/png": "[encoded data removed]",
      "text/plain": [
       "<matplotlib.figure.Figure at 0x2d8de358>"
      ]
     },
     "metadata": {},
     "output_type": "display_data"
    }
   ],
   "source": [
    "# Visualize the loss and accuracy\n",
    "%matplotlib inline\n",
    "\n",
    "import matplotlib.pyplot as plt\n",
    "\n",
    "fig, (ax1, ax2) = plt.subplots(1, 2, figsize=(18, 6))\n",
    "ax1.plot(losses, color='red')\n",
    "ax1.set_title('Traning Loss')\n",
    "ax1.set_xlabel('Iterations')\n",
    "ax1.set_ylabel('Loss value')\n",
    "\n",
    "ax2.plot(valid_acc_list, label='validation acc', alpha=0.5)\n",
    "ax2.plot(train_acc_list, label='train acc', alpha=0.5)\n",
    "ax2.set_xlabel('Iterations')\n",
    "ax2.set_ylabel('Accuracy')\n",
    "ax2.set_title('Validation Accuracy')\n",
    "plt.legend()\n",
    "plt.show()"
   ]
  },
  {
   "cell_type": "markdown",
   "metadata": {},
   "source": [
    "### Save Parameters\n",
    "Save the `batch_size` and `save_path` parameters for inference."
   ]
  },
  {
   "cell_type": "code",
   "execution_count": 61,
   "metadata": {
    "collapsed": true
   },
   "outputs": [],
   "source": [
    "\"\"\"\n",
    "DON'T MODIFY ANYTHING IN THIS CELL\n",
    "\"\"\"\n",
    "# Save parameters for checkpoint\n",
    "helper.save_params(save_path)"
   ]
  },
  {
   "cell_type": "markdown",
   "metadata": {},
   "source": [
    "# Checkpoint"
   ]
  },
  {
   "cell_type": "code",
   "execution_count": 62,
   "metadata": {
    "collapsed": true
   },
   "outputs": [],
   "source": [
    "\"\"\"\n",
    "DON'T MODIFY ANYTHING IN THIS CELL\n",
    "\"\"\"\n",
    "import tensorflow as tf\n",
    "import numpy as np\n",
    "import helper\n",
    "import problem_unittests as tests\n",
    "\n",
    "_, (source_vocab_to_int, target_vocab_to_int), (source_int_to_vocab, target_int_to_vocab) = helper.load_preprocess()\n",
    "load_path = helper.load_params()"
   ]
  },
  {
   "cell_type": "markdown",
   "metadata": {},
   "source": [
    "## Sentence to Sequence\n",
    "To feed a sentence into the model for translation, you first need to preprocess it.  Implement the function `sentence_to_seq()` to preprocess new sentences.\n",
    "\n",
    "- Convert the sentence to lowercase\n",
    "- Convert words into ids using `vocab_to_int`\n",
    " - Convert words not in the vocabulary, to the `<UNK>` word id."
   ]
  },
  {
   "cell_type": "code",
   "execution_count": 63,
   "metadata": {},
   "outputs": [
    {
     "name": "stdout",
     "output_type": "stream",
     "text": [
      "Tests Passed\n"
     ]
    }
   ],
   "source": [
    "def sentence_to_seq(sentence, vocab_to_int):\n",
    "    \"\"\"\n",
    "    Convert a sentence to a sequence of ids\n",
    "    :param sentence: String\n",
    "    :param vocab_to_int: Dictionary to go from the words to an id\n",
    "    :return: List of word ids\n",
    "    \"\"\"\n",
    "    # TODO: Implement Function\n",
    "    sentence_lower = sentence.lower().split()\n",
    "    sequence = []\n",
    "    \n",
    "    for words in sentence_lower:\n",
    "        if words in vocab_to_int.keys():\n",
    "            sequence.append(vocab_to_int[words])\n",
    "        else:\n",
    "            sequence.append(vocab_to_int['<UNK>'])\n",
    "                \n",
    "    return sequence\n",
    "\n",
    "\n",
    "\"\"\"\n",
    "DON'T MODIFY ANYTHING IN THIS CELL THAT IS BELOW THIS LINE\n",
    "\"\"\"\n",
    "tests.test_sentence_to_seq(sentence_to_seq)"
   ]
  },
  {
   "cell_type": "markdown",
   "metadata": {},
   "source": [
    "## Translate\n",
    "This will translate `translate_sentence` from English to French."
   ]
  },
  {
   "cell_type": "code",
   "execution_count": 64,
   "metadata": {},
   "outputs": [
    {
     "name": "stdout",
     "output_type": "stream",
     "text": [
      "INFO:tensorflow:Restoring parameters from checkpoints/dev\n",
      "Input\n",
      "  Word Ids:      [185, 125, 138, 59, 225, 159, 141]\n",
      "  English Words: ['he', 'saw', 'a', 'old', 'yellow', 'truck', '.']\n",
      "\n",
      "Prediction\n",
      "  Word Ids:      [154, 157, 325, 228, 312, 165, 64, 238, 1]\n",
      "  French Words: il a vu un vieux camion jaune . <EOS>\n"
     ]
    }
   ],
   "source": [
    "translate_sentence = 'he saw a old yellow truck .'\n",
    "\n",
    "\n",
    "\"\"\"\n",
    "DON'T MODIFY ANYTHING IN THIS CELL\n",
    "\"\"\"\n",
    "translate_sentence = sentence_to_seq(translate_sentence, source_vocab_to_int)\n",
    "\n",
    "loaded_graph = tf.Graph()\n",
    "with tf.Session(graph=loaded_graph) as sess:\n",
    "    # Load saved model\n",
    "    loader = tf.train.import_meta_graph(load_path + '.meta')\n",
    "    loader.restore(sess, load_path)\n",
    "\n",
    "    input_data = loaded_graph.get_tensor_by_name('input:0')\n",
    "    logits = loaded_graph.get_tensor_by_name('predictions:0')\n",
    "    target_sequence_length = loaded_graph.get_tensor_by_name('target_sequence_length:0')\n",
    "    source_sequence_length = loaded_graph.get_tensor_by_name('source_sequence_length:0')\n",
    "    keep_prob = loaded_graph.get_tensor_by_name('keep_prob:0')\n",
    "\n",
    "    translate_logits = sess.run(logits, {input_data: [translate_sentence]*batch_size,\n",
    "                                         target_sequence_length: [len(translate_sentence)*2]*batch_size,\n",
    "                                         source_sequence_length: [len(translate_sentence)]*batch_size,\n",
    "                                         keep_prob: 1.0})[0]\n",
    "\n",
    "print('Input')\n",
    "print('  Word Ids:      {}'.format([i for i in translate_sentence]))\n",
    "print('  English Words: {}'.format([source_int_to_vocab[i] for i in translate_sentence]))\n",
    "\n",
    "print('\\nPrediction')\n",
    "print('  Word Ids:      {}'.format([i for i in translate_logits]))\n",
    "print('  French Words: {}'.format(\" \".join([target_int_to_vocab[i] for i in translate_logits])))\n"
   ]
  },
  {
   "cell_type": "code",
   "execution_count": 26,
   "metadata": {},
   "outputs": [
    {
     "data": {
      "text/plain": [
       "numpy.float32"
      ]
     },
     "execution_count": 26,
     "metadata": {},
     "output_type": "execute_result"
    }
   ],
   "source": [
    "type(loss)"
   ]
  },
  {
   "cell_type": "code",
   "execution_count": 27,
   "metadata": {},
   "outputs": [
    {
     "data": {
      "text/plain": [
       "0.086694859"
      ]
     },
     "execution_count": 27,
     "metadata": {},
     "output_type": "execute_result"
    }
   ],
   "source": [
    "va"
   ]
  },
  {
   "cell_type": "markdown",
   "metadata": {},
   "source": [
    "GOOGLE Translate:\n",
    "\n",
    "**English** :'he', 'saw', 'a', 'old', 'yellow', 'truck' <br>\n",
    "**French** :«il», «scie», «a», «vieux», «jaune», «camion»,"
   ]
  },
  {
   "cell_type": "markdown",
   "metadata": {},
   "source": [
    "## Imperfect Translation\n",
    "You might notice that some sentences translate better than others.  Since the dataset you're using only has a vocabulary of 227 English words of the thousands that you use, you're only going to see good results using these words.  For this project, you don't need a perfect translation. However, if you want to create a better translation model, you'll need better data.\n",
    "\n",
    "You can train on the [WMT10 French-English corpus](http://www.statmt.org/wmt10/training-giga-fren.tar).  This dataset has more vocabulary and richer in topics discussed.  However, this will take you days to train, so make sure you've a GPU and the neural network is performing well on dataset we provided.  Just make sure you play with the WMT10 corpus after you've submitted this project.\n",
    "## Submitting This Project\n",
    "When submitting this project, make sure to run all the cells before saving the notebook. Save the notebook file as \"dlnd_language_translation.ipynb\" and save it as a HTML file under \"File\" -> \"Download as\". Include the \"helper.py\" and \"problem_unittests.py\" files in your submission."
   ]
  }
 ],
 "metadata": {
  "anaconda-cloud": {},
  "kernelspec": {
   "display_name": "Python 3",
   "language": "python",
   "name": "python3"
  },
  "language_info": {
   "codemirror_mode": {
    "name": "ipython",
    "version": 3
   },
   "file_extension": ".py",
   "mimetype": "text/x-python",
   "name": "python",
   "nbconvert_exporter": "python",
   "pygments_lexer": "ipython3",
   "version": "3.5.3"
  }
 },
 "nbformat": 4,
 "nbformat_minor": 1
}
