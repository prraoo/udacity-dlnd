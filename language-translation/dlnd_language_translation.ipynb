{
 "cells": [
  {
   "cell_type": "markdown",
   "metadata": {
    "collapsed": true
   },
   "source": [
    "# Language Translation\n",
    "In this project, you’re going to take a peek into the realm of neural network machine translation.  You’ll be training a sequence to sequence model on a dataset of English and French sentences that can translate new sentences from English to French.\n",
    "## Get the Data\n",
    "Since translating the whole language of English to French will take lots of time to train, we have provided you with a small portion of the English corpus."
   ]
  },
  {
   "cell_type": "code",
   "execution_count": 1,
   "metadata": {
    "collapsed": true
   },
   "outputs": [],
   "source": [
    "\"\"\"\n",
    "DON'T MODIFY ANYTHING IN THIS CELL\n",
    "\"\"\"\n",
    "import helper\n",
    "import problem_unittests as tests\n",
    "\n",
    "source_path = 'data/small_vocab_en'\n",
    "target_path = 'data/small_vocab_fr'\n",
    "source_text = helper.load_data(source_path)\n",
    "target_text = helper.load_data(target_path)"
   ]
  },
  {
   "cell_type": "markdown",
   "metadata": {},
   "source": [
    "## Explore the Data\n",
    "Play around with view_sentence_range to view different parts of the data."
   ]
  },
  {
   "cell_type": "code",
   "execution_count": 2,
   "metadata": {},
   "outputs": [
    {
     "name": "stdout",
     "output_type": "stream",
     "text": [
      "Dataset Stats\n",
      "Roughly the number of unique words: 227\n",
      "Number of sentences: 137861\n",
      "Average number of words in a sentence: 13.225277634719028\n",
      "\n",
      "English sentences 0 to 10:\n",
      "new jersey is sometimes quiet during autumn , and it is snowy in april .\n",
      "the united states is usually chilly during july , and it is usually freezing in november .\n",
      "california is usually quiet during march , and it is usually hot in june .\n",
      "the united states is sometimes mild during june , and it is cold in september .\n",
      "your least liked fruit is the grape , but my least liked is the apple .\n",
      "his favorite fruit is the orange , but my favorite is the grape .\n",
      "paris is relaxing during december , but it is usually chilly in july .\n",
      "new jersey is busy during spring , and it is never hot in march .\n",
      "our least liked fruit is the lemon , but my least liked is the grape .\n",
      "the united states is sometimes busy during january , and it is sometimes warm in november .\n",
      "\n",
      "French sentences 0 to 10:\n",
      "new jersey est parfois calme pendant l' automne , et il est neigeux en avril .\n",
      "les états-unis est généralement froid en juillet , et il gèle habituellement en novembre .\n",
      "california est généralement calme en mars , et il est généralement chaud en juin .\n",
      "les états-unis est parfois légère en juin , et il fait froid en septembre .\n",
      "votre moins aimé fruit est le raisin , mais mon moins aimé est la pomme .\n",
      "son fruit préféré est l'orange , mais mon préféré est le raisin .\n",
      "paris est relaxant en décembre , mais il est généralement froid en juillet .\n",
      "new jersey est occupé au printemps , et il est jamais chaude en mars .\n",
      "notre fruit est moins aimé le citron , mais mon moins aimé est le raisin .\n",
      "les états-unis est parfois occupé en janvier , et il est parfois chaud en novembre .\n"
     ]
    }
   ],
   "source": [
    "view_sentence_range = (0, 10)\n",
    "\n",
    "\"\"\"\n",
    "DON'T MODIFY ANYTHING IN THIS CELL\n",
    "\"\"\"\n",
    "import numpy as np\n",
    "\n",
    "print('Dataset Stats')\n",
    "print('Roughly the number of unique words: {}'.format(len({word: None for word in source_text.split()})))\n",
    "\n",
    "sentences = source_text.split('\\n')\n",
    "word_counts = [len(sentence.split()) for sentence in sentences]\n",
    "print('Number of sentences: {}'.format(len(sentences)))\n",
    "print('Average number of words in a sentence: {}'.format(np.average(word_counts)))\n",
    "\n",
    "print()\n",
    "print('English sentences {} to {}:'.format(*view_sentence_range))\n",
    "print('\\n'.join(source_text.split('\\n')[view_sentence_range[0]:view_sentence_range[1]]))\n",
    "print()\n",
    "print('French sentences {} to {}:'.format(*view_sentence_range))\n",
    "print('\\n'.join(target_text.split('\\n')[view_sentence_range[0]:view_sentence_range[1]]))"
   ]
  },
  {
   "cell_type": "markdown",
   "metadata": {},
   "source": [
    "## Implement Preprocessing Function\n",
    "### Text to Word Ids\n",
    "As you did with other RNNs, you must turn the text into a number so the computer can understand it. In the function `text_to_ids()`, you'll turn `source_text` and `target_text` from words to ids.  However, you need to add the `<EOS>` word id at the end of `target_text`.  This will help the neural network predict when the sentence should end.\n",
    "\n",
    "You can get the `<EOS>` word id by doing:\n",
    "```python\n",
    "target_vocab_to_int['<EOS>']\n",
    "```\n",
    "You can get other word ids using `source_vocab_to_int` and `target_vocab_to_int`."
   ]
  },
  {
   "cell_type": "code",
   "execution_count": 3,
   "metadata": {},
   "outputs": [
    {
     "data": {
      "text/plain": [
       "'new jersey'"
      ]
     },
     "execution_count": 3,
     "metadata": {},
     "output_type": "execute_result"
    }
   ],
   "source": [
    "source_text[:10]"
   ]
  },
  {
   "cell_type": "code",
   "execution_count": 4,
   "metadata": {},
   "outputs": [
    {
     "name": "stdout",
     "output_type": "stream",
     "text": [
      "Tests Passed\n"
     ]
    }
   ],
   "source": [
    "def text_to_ids(source_text, target_text, source_vocab_to_int, target_vocab_to_int):\n",
    "    \"\"\"\n",
    "    Convert source and target text to proper word ids\n",
    "    :param source_text: String that contains all the source text.\n",
    "    :param target_text: String that contains all the target text.\n",
    "    :param source_vocab_to_int: Dictionary to go from the source words to an id\n",
    "    :param target_vocab_to_int: Dictionary to go from the target words to an id\n",
    "    :return: A tuple of lists (source_id_text, target_id_text)\n",
    "    \"\"\"\n",
    "    # TODO: Implement Function\n",
    "    # assign int value to the words in source by looking up form source_vocab to int\n",
    "    source_id_text = [[source_vocab_to_int[word] for word in src_sentence.split()] \\\n",
    "                      for src_sentence in source_text.split(\"\\n\")]\n",
    "    target_id_text = [[target_vocab_to_int[word] for word in tgt_sentence.split()]+[target_vocab_to_int['<EOS>']]\\\n",
    "                      for tgt_sentence in target_text.split(\"\\n\")]    \n",
    "    #target_id_text.append(target_vocab_to_int['<EOS>'])\n",
    "    return source_id_text, target_id_text\n",
    "\n",
    "\"\"\"\n",
    "DON'T MODIFY ANYTHING IN THIS CELL THAT IS BELOW THIS LINE\n",
    "\"\"\"\n",
    "tests.test_text_to_ids(text_to_ids)"
   ]
  },
  {
   "cell_type": "markdown",
   "metadata": {},
   "source": [
    "### Preprocess all the data and save it\n",
    "Running the code cell below will preprocess all the data and save it to file."
   ]
  },
  {
   "cell_type": "code",
   "execution_count": 5,
   "metadata": {
    "collapsed": true
   },
   "outputs": [],
   "source": [
    "\"\"\"\n",
    "DON'T MODIFY ANYTHING IN THIS CELL\n",
    "\"\"\"\n",
    "helper.preprocess_and_save_data(source_path, target_path, text_to_ids)"
   ]
  },
  {
   "cell_type": "markdown",
   "metadata": {},
   "source": [
    "# Check Point\n",
    "This is your first checkpoint. If you ever decide to come back to this notebook or have to restart the notebook, you can start from here. The preprocessed data has been saved to disk."
   ]
  },
  {
   "cell_type": "code",
   "execution_count": 6,
   "metadata": {
    "collapsed": true
   },
   "outputs": [],
   "source": [
    "\"\"\"\n",
    "DON'T MODIFY ANYTHING IN THIS CELL\n",
    "\"\"\"\n",
    "import numpy as np\n",
    "import helper\n",
    "import problem_unittests as tests\n",
    "\n",
    "(source_int_text, target_int_text), (source_vocab_to_int, target_vocab_to_int), _ = helper.load_preprocess()"
   ]
  },
  {
   "cell_type": "markdown",
   "metadata": {},
   "source": [
    "### Check the Version of TensorFlow and Access to GPU\n",
    "This will check to make sure you have the correct version of TensorFlow and access to a GPU"
   ]
  },
  {
   "cell_type": "code",
   "execution_count": 7,
   "metadata": {},
   "outputs": [
    {
     "name": "stdout",
     "output_type": "stream",
     "text": [
      "TensorFlow Version: 1.2.1\n"
     ]
    },
    {
     "name": "stderr",
     "output_type": "stream",
     "text": [
      "C:\\Continuum\\Anaconda3\\envs\\tf_cpu\\lib\\site-packages\\ipykernel_launcher.py:15: UserWarning: No GPU found. Please use a GPU to train your neural network.\n",
      "  from ipykernel import kernelapp as app\n"
     ]
    }
   ],
   "source": [
    "\"\"\"\n",
    "DON'T MODIFY ANYTHING IN THIS CELL\n",
    "\"\"\"\n",
    "from distutils.version import LooseVersion\n",
    "import warnings\n",
    "import tensorflow as tf\n",
    "from tensorflow.python.layers.core import Dense\n",
    "\n",
    "# Check TensorFlow Version\n",
    "assert LooseVersion(tf.__version__) >= LooseVersion('1.1'), 'Please use TensorFlow version 1.1 or newer'\n",
    "print('TensorFlow Version: {}'.format(tf.__version__))\n",
    "\n",
    "# Check for a GPU\n",
    "if not tf.test.gpu_device_name():\n",
    "    warnings.warn('No GPU found. Please use a GPU to train your neural network.')\n",
    "else:\n",
    "    print('Default GPU Device: {}'.format(tf.test.gpu_device_name()))"
   ]
  },
  {
   "cell_type": "markdown",
   "metadata": {},
   "source": [
    "## Build the Neural Network\n",
    "You'll build the components necessary to build a Sequence-to-Sequence model by implementing the following functions below:\n",
    "- `model_inputs`\n",
    "- `process_decoder_input`\n",
    "- `encoding_layer`\n",
    "- `decoding_layer_train`\n",
    "- `decoding_layer_infer`\n",
    "- `decoding_layer`\n",
    "- `seq2seq_model`\n",
    "\n",
    "### Input\n",
    "Implement the `model_inputs()` function to create TF Placeholders for the Neural Network. It should create the following placeholders:\n",
    "\n",
    "- Input text placeholder named \"input\" using the TF Placeholder name parameter with rank 2.\n",
    "- Targets placeholder with rank 2.\n",
    "- Learning rate placeholder with rank 0.\n",
    "- Keep probability placeholder named \"keep_prob\" using the TF Placeholder name parameter with rank 0.\n",
    "- Target sequence length placeholder named \"target_sequence_length\" with rank 1\n",
    "- Max target sequence length tensor named \"max_target_len\" getting its value from applying tf.reduce_max on the target_sequence_length placeholder. Rank 0.\n",
    "- Source sequence length placeholder named \"source_sequence_length\" with rank 1\n",
    "\n",
    "Return the placeholders in the following the tuple (input, targets, learning rate, keep probability, target sequence length, max target sequence length, source sequence length)"
   ]
  },
  {
   "cell_type": "code",
   "execution_count": 23,
   "metadata": {},
   "outputs": [
    {
     "name": "stdout",
     "output_type": "stream",
     "text": [
      "ERROR:tensorflow:==================================\n",
      "Object was never used (type <class 'tensorflow.python.framework.ops.Operation'>):\n",
      "<tf.Operation 'assert_rank_2/Assert/Assert' type=Assert>\n",
      "If you want to mark it as used call its \"mark_used()\" method.\n",
      "It was originally created here:\n",
      "['File \"C:\\\\Continuum\\\\Anaconda3\\\\envs\\\\tf_cpu\\\\lib\\\\runpy.py\", line 193, in _run_module_as_main\\n    \"__main__\", mod_spec)', 'File \"C:\\\\Continuum\\\\Anaconda3\\\\envs\\\\tf_cpu\\\\lib\\\\runpy.py\", line 85, in _run_code\\n    exec(code, run_globals)', 'File \"C:\\\\Continuum\\\\Anaconda3\\\\envs\\\\tf_cpu\\\\lib\\\\site-packages\\\\ipykernel_launcher.py\", line 16, in <module>\\n    app.launch_new_instance()', 'File \"C:\\\\Continuum\\\\Anaconda3\\\\envs\\\\tf_cpu\\\\lib\\\\site-packages\\\\traitlets\\\\config\\\\application.py\", line 658, in launch_instance\\n    app.start()', 'File \"C:\\\\Continuum\\\\Anaconda3\\\\envs\\\\tf_cpu\\\\lib\\\\site-packages\\\\ipykernel\\\\kernelapp.py\", line 477, in start\\n    ioloop.IOLoop.instance().start()', 'File \"C:\\\\Continuum\\\\Anaconda3\\\\envs\\\\tf_cpu\\\\lib\\\\site-packages\\\\zmq\\\\eventloop\\\\ioloop.py\", line 177, in start\\n    super(ZMQIOLoop, self).start()', 'File \"C:\\\\Continuum\\\\Anaconda3\\\\envs\\\\tf_cpu\\\\lib\\\\site-packages\\\\tornado\\\\ioloop.py\", line 888, in start\\n    handler_func(fd_obj, events)', 'File \"C:\\\\Continuum\\\\Anaconda3\\\\envs\\\\tf_cpu\\\\lib\\\\site-packages\\\\tornado\\\\stack_context.py\", line 277, in null_wrapper\\n    return fn(*args, **kwargs)', 'File \"C:\\\\Continuum\\\\Anaconda3\\\\envs\\\\tf_cpu\\\\lib\\\\site-packages\\\\zmq\\\\eventloop\\\\zmqstream.py\", line 440, in _handle_events\\n    self._handle_recv()', 'File \"C:\\\\Continuum\\\\Anaconda3\\\\envs\\\\tf_cpu\\\\lib\\\\site-packages\\\\zmq\\\\eventloop\\\\zmqstream.py\", line 472, in _handle_recv\\n    self._run_callback(callback, msg)', 'File \"C:\\\\Continuum\\\\Anaconda3\\\\envs\\\\tf_cpu\\\\lib\\\\site-packages\\\\zmq\\\\eventloop\\\\zmqstream.py\", line 414, in _run_callback\\n    callback(*args, **kwargs)', 'File \"C:\\\\Continuum\\\\Anaconda3\\\\envs\\\\tf_cpu\\\\lib\\\\site-packages\\\\tornado\\\\stack_context.py\", line 277, in null_wrapper\\n    return fn(*args, **kwargs)', 'File \"C:\\\\Continuum\\\\Anaconda3\\\\envs\\\\tf_cpu\\\\lib\\\\site-packages\\\\ipykernel\\\\kernelbase.py\", line 283, in dispatcher\\n    return self.dispatch_shell(stream, msg)', 'File \"C:\\\\Continuum\\\\Anaconda3\\\\envs\\\\tf_cpu\\\\lib\\\\site-packages\\\\ipykernel\\\\kernelbase.py\", line 235, in dispatch_shell\\n    handler(stream, idents, msg)', 'File \"C:\\\\Continuum\\\\Anaconda3\\\\envs\\\\tf_cpu\\\\lib\\\\site-packages\\\\ipykernel\\\\kernelbase.py\", line 399, in execute_request\\n    user_expressions, allow_stdin)', 'File \"C:\\\\Continuum\\\\Anaconda3\\\\envs\\\\tf_cpu\\\\lib\\\\site-packages\\\\ipykernel\\\\ipkernel.py\", line 196, in do_execute\\n    res = shell.run_cell(code, store_history=store_history, silent=silent)', 'File \"C:\\\\Continuum\\\\Anaconda3\\\\envs\\\\tf_cpu\\\\lib\\\\site-packages\\\\ipykernel\\\\zmqshell.py\", line 533, in run_cell\\n    return super(ZMQInteractiveShell, self).run_cell(*args, **kwargs)', 'File \"C:\\\\Continuum\\\\Anaconda3\\\\envs\\\\tf_cpu\\\\lib\\\\site-packages\\\\IPython\\\\core\\\\interactiveshell.py\", line 2698, in run_cell\\n    interactivity=interactivity, compiler=compiler, result=result)', 'File \"C:\\\\Continuum\\\\Anaconda3\\\\envs\\\\tf_cpu\\\\lib\\\\site-packages\\\\IPython\\\\core\\\\interactiveshell.py\", line 2808, in run_ast_nodes\\n    if self.run_code(code, result):', 'File \"C:\\\\Continuum\\\\Anaconda3\\\\envs\\\\tf_cpu\\\\lib\\\\site-packages\\\\IPython\\\\core\\\\interactiveshell.py\", line 2862, in run_code\\n    exec(code_obj, self.user_global_ns, self.user_ns)', 'File \"<ipython-input-23-6caca1aaa950>\", line 21, in <module>\\n    tests.test_model_inputs(model_inputs)', 'File \"C:\\\\Users\\\\PRAMRAO\\\\Documents\\\\DLND\\\\20171006\\\\udacity_dlnd\\\\language-translation\\\\problem_unittests.py\", line 106, in test_model_inputs\\n    assert tf.assert_rank(lr, 0, message=\\'Learning Rate has wrong rank\\')', 'File \"C:\\\\Continuum\\\\Anaconda3\\\\envs\\\\tf_cpu\\\\lib\\\\site-packages\\\\tensorflow\\\\python\\\\ops\\\\check_ops.py\", line 617, in assert_rank\\n    dynamic_condition, data, summarize)', 'File \"C:\\\\Continuum\\\\Anaconda3\\\\envs\\\\tf_cpu\\\\lib\\\\site-packages\\\\tensorflow\\\\python\\\\ops\\\\check_ops.py\", line 571, in _assert_rank_condition\\n    return control_flow_ops.Assert(condition, data, summarize=summarize)', 'File \"C:\\\\Continuum\\\\Anaconda3\\\\envs\\\\tf_cpu\\\\lib\\\\site-packages\\\\tensorflow\\\\python\\\\util\\\\tf_should_use.py\", line 170, in wrapped\\n    return _add_should_use_warning(fn(*args, **kwargs))', 'File \"C:\\\\Continuum\\\\Anaconda3\\\\envs\\\\tf_cpu\\\\lib\\\\site-packages\\\\tensorflow\\\\python\\\\util\\\\tf_should_use.py\", line 139, in _add_should_use_warning\\n    wrapped = TFShouldUseWarningWrapper(x)', 'File \"C:\\\\Continuum\\\\Anaconda3\\\\envs\\\\tf_cpu\\\\lib\\\\site-packages\\\\tensorflow\\\\python\\\\util\\\\tf_should_use.py\", line 96, in __init__\\n    stack = [s.strip() for s in traceback.format_stack()]']\n",
      "==================================\n",
      "ERROR:tensorflow:==================================\n",
      "Object was never used (type <class 'tensorflow.python.framework.ops.Operation'>):\n",
      "<tf.Operation 'assert_rank_3/Assert/Assert' type=Assert>\n",
      "If you want to mark it as used call its \"mark_used()\" method.\n",
      "It was originally created here:\n",
      "['File \"C:\\\\Continuum\\\\Anaconda3\\\\envs\\\\tf_cpu\\\\lib\\\\runpy.py\", line 193, in _run_module_as_main\\n    \"__main__\", mod_spec)', 'File \"C:\\\\Continuum\\\\Anaconda3\\\\envs\\\\tf_cpu\\\\lib\\\\runpy.py\", line 85, in _run_code\\n    exec(code, run_globals)', 'File \"C:\\\\Continuum\\\\Anaconda3\\\\envs\\\\tf_cpu\\\\lib\\\\site-packages\\\\ipykernel_launcher.py\", line 16, in <module>\\n    app.launch_new_instance()', 'File \"C:\\\\Continuum\\\\Anaconda3\\\\envs\\\\tf_cpu\\\\lib\\\\site-packages\\\\traitlets\\\\config\\\\application.py\", line 658, in launch_instance\\n    app.start()', 'File \"C:\\\\Continuum\\\\Anaconda3\\\\envs\\\\tf_cpu\\\\lib\\\\site-packages\\\\ipykernel\\\\kernelapp.py\", line 477, in start\\n    ioloop.IOLoop.instance().start()', 'File \"C:\\\\Continuum\\\\Anaconda3\\\\envs\\\\tf_cpu\\\\lib\\\\site-packages\\\\zmq\\\\eventloop\\\\ioloop.py\", line 177, in start\\n    super(ZMQIOLoop, self).start()', 'File \"C:\\\\Continuum\\\\Anaconda3\\\\envs\\\\tf_cpu\\\\lib\\\\site-packages\\\\tornado\\\\ioloop.py\", line 888, in start\\n    handler_func(fd_obj, events)', 'File \"C:\\\\Continuum\\\\Anaconda3\\\\envs\\\\tf_cpu\\\\lib\\\\site-packages\\\\tornado\\\\stack_context.py\", line 277, in null_wrapper\\n    return fn(*args, **kwargs)', 'File \"C:\\\\Continuum\\\\Anaconda3\\\\envs\\\\tf_cpu\\\\lib\\\\site-packages\\\\zmq\\\\eventloop\\\\zmqstream.py\", line 440, in _handle_events\\n    self._handle_recv()', 'File \"C:\\\\Continuum\\\\Anaconda3\\\\envs\\\\tf_cpu\\\\lib\\\\site-packages\\\\zmq\\\\eventloop\\\\zmqstream.py\", line 472, in _handle_recv\\n    self._run_callback(callback, msg)', 'File \"C:\\\\Continuum\\\\Anaconda3\\\\envs\\\\tf_cpu\\\\lib\\\\site-packages\\\\zmq\\\\eventloop\\\\zmqstream.py\", line 414, in _run_callback\\n    callback(*args, **kwargs)', 'File \"C:\\\\Continuum\\\\Anaconda3\\\\envs\\\\tf_cpu\\\\lib\\\\site-packages\\\\tornado\\\\stack_context.py\", line 277, in null_wrapper\\n    return fn(*args, **kwargs)', 'File \"C:\\\\Continuum\\\\Anaconda3\\\\envs\\\\tf_cpu\\\\lib\\\\site-packages\\\\ipykernel\\\\kernelbase.py\", line 283, in dispatcher\\n    return self.dispatch_shell(stream, msg)', 'File \"C:\\\\Continuum\\\\Anaconda3\\\\envs\\\\tf_cpu\\\\lib\\\\site-packages\\\\ipykernel\\\\kernelbase.py\", line 235, in dispatch_shell\\n    handler(stream, idents, msg)', 'File \"C:\\\\Continuum\\\\Anaconda3\\\\envs\\\\tf_cpu\\\\lib\\\\site-packages\\\\ipykernel\\\\kernelbase.py\", line 399, in execute_request\\n    user_expressions, allow_stdin)', 'File \"C:\\\\Continuum\\\\Anaconda3\\\\envs\\\\tf_cpu\\\\lib\\\\site-packages\\\\ipykernel\\\\ipkernel.py\", line 196, in do_execute\\n    res = shell.run_cell(code, store_history=store_history, silent=silent)', 'File \"C:\\\\Continuum\\\\Anaconda3\\\\envs\\\\tf_cpu\\\\lib\\\\site-packages\\\\ipykernel\\\\zmqshell.py\", line 533, in run_cell\\n    return super(ZMQInteractiveShell, self).run_cell(*args, **kwargs)', 'File \"C:\\\\Continuum\\\\Anaconda3\\\\envs\\\\tf_cpu\\\\lib\\\\site-packages\\\\IPython\\\\core\\\\interactiveshell.py\", line 2698, in run_cell\\n    interactivity=interactivity, compiler=compiler, result=result)', 'File \"C:\\\\Continuum\\\\Anaconda3\\\\envs\\\\tf_cpu\\\\lib\\\\site-packages\\\\IPython\\\\core\\\\interactiveshell.py\", line 2808, in run_ast_nodes\\n    if self.run_code(code, result):', 'File \"C:\\\\Continuum\\\\Anaconda3\\\\envs\\\\tf_cpu\\\\lib\\\\site-packages\\\\IPython\\\\core\\\\interactiveshell.py\", line 2862, in run_code\\n    exec(code_obj, self.user_global_ns, self.user_ns)', 'File \"<ipython-input-23-6caca1aaa950>\", line 21, in <module>\\n    tests.test_model_inputs(model_inputs)', 'File \"C:\\\\Users\\\\PRAMRAO\\\\Documents\\\\DLND\\\\20171006\\\\udacity_dlnd\\\\language-translation\\\\problem_unittests.py\", line 107, in test_model_inputs\\n    assert tf.assert_rank(keep_prob, 0, message=\\'Keep Probability has wrong rank\\')', 'File \"C:\\\\Continuum\\\\Anaconda3\\\\envs\\\\tf_cpu\\\\lib\\\\site-packages\\\\tensorflow\\\\python\\\\ops\\\\check_ops.py\", line 617, in assert_rank\\n    dynamic_condition, data, summarize)', 'File \"C:\\\\Continuum\\\\Anaconda3\\\\envs\\\\tf_cpu\\\\lib\\\\site-packages\\\\tensorflow\\\\python\\\\ops\\\\check_ops.py\", line 571, in _assert_rank_condition\\n    return control_flow_ops.Assert(condition, data, summarize=summarize)', 'File \"C:\\\\Continuum\\\\Anaconda3\\\\envs\\\\tf_cpu\\\\lib\\\\site-packages\\\\tensorflow\\\\python\\\\util\\\\tf_should_use.py\", line 170, in wrapped\\n    return _add_should_use_warning(fn(*args, **kwargs))', 'File \"C:\\\\Continuum\\\\Anaconda3\\\\envs\\\\tf_cpu\\\\lib\\\\site-packages\\\\tensorflow\\\\python\\\\util\\\\tf_should_use.py\", line 139, in _add_should_use_warning\\n    wrapped = TFShouldUseWarningWrapper(x)', 'File \"C:\\\\Continuum\\\\Anaconda3\\\\envs\\\\tf_cpu\\\\lib\\\\site-packages\\\\tensorflow\\\\python\\\\util\\\\tf_should_use.py\", line 96, in __init__\\n    stack = [s.strip() for s in traceback.format_stack()]']\n",
      "==================================\n"
     ]
    },
    {
     "name": "stdout",
     "output_type": "stream",
     "text": [
      "Tests Passed\n"
     ]
    }
   ],
   "source": [
    "def model_inputs():\n",
    "    \"\"\"\n",
    "    Create TF Placeholders for input, targets, learning rate, and lengths of source and target sequences.\n",
    "    :return: Tuple (input, targets, learning rate, keep probability, target sequence length,\n",
    "    max target sequence length, source sequence length)\n",
    "    \"\"\"\n",
    "    # TODO: Implement Function\n",
    "    _input = tf.placeholder(tf.int32,shape=[None,None] , name=\"input\")\n",
    "    target = tf.placeholder(tf.int32,[None,None], name=\"target\")\n",
    "    keep_prob = tf.placeholder(tf.float32, name=\"keep_prob\")\n",
    "    learning_rate = tf.placeholder(tf.float32, name=\"learning_rate\")\n",
    "    target_seq_length = tf.placeholder(tf.int32, [None,], name=\"target_sequence_length\")\n",
    "    max_target_length = tf.reduce_max(target_seq_length, name=\"max_target_len\")\n",
    "    src_seq_length = tf.placeholder(tf.int32,[None,], name=\"source_sequence_length\")\n",
    "    return _input, target,learning_rate, keep_prob, target_seq_length, max_target_length, src_seq_length\n",
    "\n",
    "\n",
    "\"\"\"\n",
    "DON'T MODIFY ANYTHING IN THIS CELL THAT IS BELOW THIS LINE\n",
    "\"\"\"\n",
    "tests.test_model_inputs(model_inputs)"
   ]
  },
  {
   "cell_type": "markdown",
   "metadata": {},
   "source": [
    "### Process Decoder Input\n",
    "Implement `process_decoder_input` by removing the last word id from each batch in `target_data` and concat the GO ID to the begining of each batch."
   ]
  },
  {
   "cell_type": "code",
   "execution_count": 24,
   "metadata": {
    "collapsed": true
   },
   "outputs": [],
   "source": [
    "x = tf.placeholder(shape=[None, None], dtype=tf.int32, name=\"x\")\n",
    "ending = tf.strided_slice(x, \n",
    " [0, 0], # begin at point\n",
    " [3, -1], # end at point\n",
    " [1, 1]) # strides per hop\n",
    "sess = tf.InteractiveSession()"
   ]
  },
  {
   "cell_type": "code",
   "execution_count": 25,
   "metadata": {},
   "outputs": [
    {
     "name": "stdout",
     "output_type": "stream",
     "text": [
      "[[ 1  2  3 99]\n",
      " [ 4  5  6 99]\n",
      " [ 7  8  9 99]]\n"
     ]
    }
   ],
   "source": [
    "y = sess.run(ending, feed_dict={\n",
    " x: [\n",
    " [1,2,3,99,7],\n",
    " [4,5,6,99,7],\n",
    " [7,8,9,99,7]\n",
    " ]\n",
    "})\n",
    "print (y)"
   ]
  },
  {
   "cell_type": "code",
   "execution_count": 26,
   "metadata": {},
   "outputs": [
    {
     "name": "stdout",
     "output_type": "stream",
     "text": [
      "Tests Passed\n"
     ]
    }
   ],
   "source": [
    "def process_decoder_input(target_data, target_vocab_to_int, batch_size):\n",
    "    \"\"\"\n",
    "    Preprocess target data for encoding\n",
    "    :param target_data: Target Placehoder\n",
    "    :param target_vocab_to_int: Dictionary to go from the target words to an id\n",
    "    :param batch_size: Batch Size\n",
    "    :return: Preprocessed target data\n",
    "    \"\"\"\n",
    "    # TODO: Implement Function\n",
    "\n",
    "    trunc_last_decoder_in = tf.strided_slice(target_data, [0,0], [batch_size,-1], [1,1])\n",
    "    decoder_in = tf.concat([tf.fill([batch_size,1],target_vocab_to_int[\"<GO>\"]),trunc_last_decoder_in],1)\n",
    "\n",
    "    return decoder_in\n",
    "\n",
    "\"\"\"\n",
    "DON'T MODIFY ANYTHING IN THIS CELL THAT IS BELOW THIS LINE\n",
    "\"\"\"\n",
    "tests.test_process_encoding_input(process_decoder_input)"
   ]
  },
  {
   "cell_type": "markdown",
   "metadata": {},
   "source": [
    "### Encoding\n",
    "Implement `encoding_layer()` to create a Encoder RNN layer:\n",
    " * Embed the encoder input using [`tf.contrib.layers.embed_sequence`](https://www.tensorflow.org/api_docs/python/tf/contrib/layers/embed_sequence)\n",
    " * Construct a [stacked](https://github.com/tensorflow/tensorflow/blob/6947f65a374ebf29e74bb71e36fd82760056d82c/tensorflow/docs_src/tutorials/recurrent.md#stacking-multiple-lstms) [`tf.contrib.rnn.LSTMCell`](https://www.tensorflow.org/api_docs/python/tf/contrib/rnn/LSTMCell) wrapped in a [`tf.contrib.rnn.DropoutWrapper`](https://www.tensorflow.org/api_docs/python/tf/contrib/rnn/DropoutWrapper)\n",
    " * Pass cell and embedded input to [`tf.nn.dynamic_rnn()`](https://www.tensorflow.org/api_docs/python/tf/nn/dynamic_rnn)"
   ]
  },
  {
   "cell_type": "code",
   "execution_count": 27,
   "metadata": {
    "scrolled": false
   },
   "outputs": [
    {
     "name": "stdout",
     "output_type": "stream",
     "text": [
      "Tests Passed\n"
     ]
    }
   ],
   "source": [
    "from imp import reload\n",
    "reload(tests)\n",
    "\n",
    "def encoding_layer(rnn_inputs, rnn_size, num_layers, keep_prob, \n",
    "                   source_sequence_length, source_vocab_size, \n",
    "                   encoding_embedding_size):\n",
    "    \"\"\"\n",
    "    Create encoding layer\n",
    "    :param rnn_inputs: Inputs for the RNN\n",
    "    :param rnn_size: RNN Size\n",
    "    :param num_layers: Number of layers\n",
    "    :param keep_prob: Dropout keep probability\n",
    "    :param source_sequence_length: a list of the lengths of each sequence in the batch\n",
    "    :param source_vocab_size: vocabulary size of source data\n",
    "    :param encoding_embedding_size: embedding size of source data\n",
    "    :return: tuple (RNN output, RNN state)\n",
    "    \"\"\"\n",
    "    # TODO: Implement Function\n",
    "    # Input -> embedded sequence -> encoder\n",
    "    enc_embedded_input = tf.contrib.layers.embed_sequence(rnn_inputs,source_vocab_size, encoding_embedding_size)\n",
    "    \n",
    "    # build RNN Cell\n",
    "    def create_cell(rnn_size, keep_prob):\n",
    "        lstm = tf.contrib.rnn.BasicLSTMCell(rnn_size)\n",
    "        return tf.contrib.rnn.DropoutWrapper(lstm, keep_prob)\n",
    "    \n",
    "    enc_cell = tf.contrib.rnn.MultiRNNCell([create_cell(rnn_size,keep_prob) for _ in range(num_layers)])\n",
    "    \n",
    "    enc_out, enc_state = tf.nn.dynamic_rnn(enc_cell, enc_embedded_input, sequence_length=source_sequence_length,dtype=tf.float32 )\n",
    "    \n",
    "    return enc_out, enc_state\n",
    "\n",
    "\"\"\"\n",
    "DON'T MODIFY ANYTHING IN THIS CELL THAT IS BELOW THIS LINE\n",
    "\"\"\"\n",
    "tests.test_encoding_layer(encoding_layer)"
   ]
  },
  {
   "cell_type": "markdown",
   "metadata": {},
   "source": [
    "### Decoding - Training\n",
    "Create a training decoding layer:\n",
    "* Create a [`tf.contrib.seq2seq.TrainingHelper`](https://www.tensorflow.org/api_docs/python/tf/contrib/seq2seq/TrainingHelper) \n",
    "* Create a [`tf.contrib.seq2seq.BasicDecoder`](https://www.tensorflow.org/api_docs/python/tf/contrib/seq2seq/BasicDecoder)\n",
    "* Obtain the decoder outputs from [`tf.contrib.seq2seq.dynamic_decode`](https://www.tensorflow.org/api_docs/python/tf/contrib/seq2seq/dynamic_decode)"
   ]
  },
  {
   "cell_type": "code",
   "execution_count": 28,
   "metadata": {},
   "outputs": [
    {
     "name": "stdout",
     "output_type": "stream",
     "text": [
      "Tests Passed\n"
     ]
    }
   ],
   "source": [
    "\n",
    "def decoding_layer_train(encoder_state, dec_cell, dec_embed_input, \n",
    "                         target_sequence_length, max_summary_length, \n",
    "                         output_layer, keep_prob):\n",
    "    \"\"\"\n",
    "    Create a decoding layer for training\n",
    "    :param encoder_state: Encoder State\n",
    "    :param dec_cell: Decoder RNN Cell\n",
    "    :param dec_embed_input: Decoder embedded input\n",
    "    :param target_sequence_length: The lengths of each sequence in the target batch\n",
    "    :param max_summary_length: The length of the longest sequence in the batch\n",
    "    :param output_layer: Function to apply the output layer\n",
    "    :param keep_prob: Dropout keep probability\n",
    "    :return: BasicDecoderOutput containing training logits and sample_id\n",
    "    \"\"\"\n",
    "    # TODO: Implement Function\n",
    "    # training helper\n",
    "    training_helper = tf.contrib.seq2seq.TrainingHelper(\n",
    "        inputs=dec_embed_input, sequence_length=target_sequence_length,time_major=False)\n",
    "    \n",
    "    # Basic Decoder\n",
    "    training_decoder = tf.contrib.seq2seq.BasicDecoder(\n",
    "        dec_cell, training_helper,encoder_state,output_layer)\n",
    "    \n",
    "    # decoder outputs\n",
    "    \n",
    "    training_decoder = tf.contrib.seq2seq.dynamic_decode(\n",
    "        training_decoder,impute_finished=True,maximum_iterations=max_summary_length)[0]\n",
    "    \n",
    "    return training_decoder\n",
    "\n",
    "\n",
    "\n",
    "\"\"\"\n",
    "DON'T MODIFY ANYTHING IN THIS CELL THAT IS BELOW THIS LINE\n",
    "\"\"\"\n",
    "tests.test_decoding_layer_train(decoding_layer_train)"
   ]
  },
  {
   "cell_type": "markdown",
   "metadata": {},
   "source": [
    "### Decoding - Inference\n",
    "Create inference decoder:\n",
    "* Create a [`tf.contrib.seq2seq.GreedyEmbeddingHelper`](https://www.tensorflow.org/api_docs/python/tf/contrib/seq2seq/GreedyEmbeddingHelper)\n",
    "* Create a [`tf.contrib.seq2seq.BasicDecoder`](https://www.tensorflow.org/api_docs/python/tf/contrib/seq2seq/BasicDecoder)\n",
    "* Obtain the decoder outputs from [`tf.contrib.seq2seq.dynamic_decode`](https://www.tensorflow.org/api_docs/python/tf/contrib/seq2seq/dynamic_decode)"
   ]
  },
  {
   "cell_type": "code",
   "execution_count": 29,
   "metadata": {
    "scrolled": true
   },
   "outputs": [
    {
     "name": "stdout",
     "output_type": "stream",
     "text": [
      "Tests Passed\n"
     ]
    }
   ],
   "source": [
    "def decoding_layer_infer(encoder_state, dec_cell, dec_embeddings, start_of_sequence_id,\n",
    "                         end_of_sequence_id, max_target_sequence_length,\n",
    "                         vocab_size, output_layer, batch_size, keep_prob):\n",
    "    \"\"\"\n",
    "    Create a decoding layer for inference\n",
    "    :param encoder_state: Encoder state\n",
    "    :param dec_cell: Decoder RNN Cell\n",
    "    :param dec_embeddings: Decoder embeddings\n",
    "    :param start_of_sequence_id: GO ID\n",
    "    :param end_of_sequence_id: EOS Id\n",
    "    :param max_target_sequence_length: Maximum length of target sequences\n",
    "    :param vocab_size: Size of decoder/target vocabulary\n",
    "    :param decoding_scope: TenorFlow Variable Scope for decoding\n",
    "    :param output_layer: Function to apply the output layer\n",
    "    :param batch_size: Batch size\n",
    "    :param keep_prob: Dropout keep probability\n",
    "    :return: BasicDecoderOutput containing inference logits and sample_id\n",
    "    \"\"\"\n",
    "    # TODO: Implement Function\n",
    "    start_tokens = tf.tile(tf.constant([target_vocab_to_int['<GO>']], dtype=tf.int32), [batch_size], name='start_tokens')\n",
    "    #inference helper\n",
    "    inference_helper = tf.contrib.seq2seq.GreedyEmbeddingHelper(dec_embeddings, start_tokens,target_vocab_to_int['<EOS>'])\n",
    "    # Basic Decoder\n",
    "    inference_decoder = tf.contrib.seq2seq.BasicDecoder(dec_cell,inference_helper,encoder_state,output_layer)\n",
    "    # Decoder outputs\n",
    "    infernce_output = tf.contrib.seq2seq.dynamic_decode(\n",
    "        inference_decoder,impute_finished=True,maximum_iterations=max_target_sequence_length)[0]\n",
    "    \n",
    "    return  infernce_output\n",
    "\n",
    "\n",
    "\n",
    "\"\"\"\n",
    "DON'T MODIFY ANYTHING IN THIS CELL THAT IS BELOW THIS LINE\n",
    "\"\"\"\n",
    "tests.test_decoding_layer_infer(decoding_layer_infer)"
   ]
  },
  {
   "cell_type": "markdown",
   "metadata": {},
   "source": [
    "### Build the Decoding Layer\n",
    "Implement `decoding_layer()` to create a Decoder RNN layer.\n",
    "\n",
    "* Embed the target sequences\n",
    "* Construct the decoder LSTM cell (just like you constructed the encoder cell above)\n",
    "* Create an output layer to map the outputs of the decoder to the elements of our vocabulary\n",
    "* Use the your `decoding_layer_train(encoder_state, dec_cell, dec_embed_input, target_sequence_length, max_target_sequence_length, output_layer, keep_prob)` function to get the training logits.\n",
    "* Use your `decoding_layer_infer(encoder_state, dec_cell, dec_embeddings, start_of_sequence_id, end_of_sequence_id, max_target_sequence_length, vocab_size, output_layer, batch_size, keep_prob)` function to get the inference logits.\n",
    "\n",
    "Note: You'll need to use [tf.variable_scope](https://www.tensorflow.org/api_docs/python/tf/variable_scope) to share variables between training and inference."
   ]
  },
  {
   "cell_type": "raw",
   "metadata": {},
   "source": [
    "    dec_embedding_input = tf.contrib.layers.embed_sequence(\n",
    "        dec_input,target_vocab_size, decoding_embedding_size)\n",
    "    def create_cell(rnn_size):\n",
    "        lstm =  tf.contrib.rnn.BasicLSTMCell(rnn_size)\n",
    "        return tf.contrib.rnn.DropoutWrapper(lstm, keep_prob)\n",
    "    \n",
    "    dec_cell = tf.contrib.rnn.MultiRNNCell([create_cell(rnn_size) for _ in range(num_layers)])\n",
    "    \n",
    "    # output layer\n",
    "    output_layer = Dense(\n",
    "        target_vocab_size,kernel_initializer=tf.truncated_normal_initializer(mean=0.0,stddev=0.1))\n",
    "    \n",
    "    with tf.variable_scope(\"decode\"):\n",
    "        Training_BasicDecoderOutput = decoding_layer_train(\n",
    "            encoder_state,dec_cell,dec_embedding_input,target_sequence_length,\n",
    "            max_target_sequence_length,output_layer,keep_prob)\n",
    "        \n",
    "    with tf.variable_scope(\"decode\",reuse=True):\n",
    "        start_of_sequence_id = target_vocab_to_int['<GO>']\n",
    "        end_of_sequence_id = target_vocab_to_int['<EOS>']\n",
    "        inference_decoder_output = decoding_layer_infer(encoder_state, dec_cell, dec_embedding_input, start_of_sequence_id,\n",
    "                         end_of_sequence_id, max_target_sequence_length,\n",
    "                         target_vocab_size, output_layer, batch_size, keep_prob)\n",
    "        \"\"\"        Inference_BasicDecoderOutput = decoding_layer_infer(\n",
    "            encoder_state,dec_cell,dec_embedding_input,target_vocab_to_int[\"<GO>\"],target_vocab_to_int[\"<EOS>\"],\n",
    "            max_target_sequence_length,target_vocab_size,output_layer,batch_size,keep_prob)\n",
    "        \"\"\"\n",
    "    return Training_BasicDecoderOutput, Inference_BasicDecoderOutput"
   ]
  },
  {
   "cell_type": "code",
   "execution_count": 30,
   "metadata": {
    "scrolled": false
   },
   "outputs": [
    {
     "name": "stdout",
     "output_type": "stream",
     "text": [
      "Tests Passed\n"
     ]
    }
   ],
   "source": [
    "def decoding_layer(dec_input, encoder_state,\n",
    "                   target_sequence_length, max_target_sequence_length,\n",
    "                   rnn_size,\n",
    "                   num_layers, target_vocab_to_int, target_vocab_size,\n",
    "                   batch_size, keep_prob, decoding_embedding_size):\n",
    "    \"\"\"\n",
    "    Create decoding layer\n",
    "    :param dec_input: Decoder input\n",
    "    :param encoder_state: Encoder state\n",
    "    :param target_sequence_length: The lengths of each sequence in the target batch\n",
    "    :param max_target_sequence_length: Maximum length of target sequences\n",
    "    :param rnn_size: RNN Size\n",
    "    :param num_layers: Number of layers\n",
    "    :param target_vocab_to_int: Dictionary to go from the target words to an id\n",
    "    :param target_vocab_size: Size of target vocabulary\n",
    "    :param batch_size: The size of the batch\n",
    "    :param keep_prob: Dropout keep probability\n",
    "    :param decoding_embedding_size: Decoding embedding size\n",
    "    :return: Tuple of (Training BasicDecoderOutput, Inference BasicDecoderOutput)\n",
    "    \"\"\"\n",
    "    # 1. Decoder Embedding\n",
    "    dec_embeddings = tf.Variable(tf.random_uniform([target_vocab_size, decoding_embedding_size]))\n",
    "    dec_embed_input = tf.nn.embedding_lookup(dec_embeddings, dec_input)\n",
    "\n",
    "    # 2. Construct the decoder cell\n",
    "    def make_dec_cell(rnn_size):\n",
    "        dec_cell = tf.contrib.rnn.LSTMCell(rnn_size,\n",
    "                                           initializer=tf.random_uniform_initializer(-0.1, 0.1, seed=2))\n",
    "        return dec_cell\n",
    "\n",
    "    dec_cell = tf.contrib.rnn.MultiRNNCell([make_dec_cell(rnn_size) for _ in range(num_layers)])\n",
    "    dec_cell = tf.contrib.rnn.DropoutWrapper(dec_cell, keep_prob)\n",
    "     \n",
    "    # 3. Dense layer to translate the decoder's output at each time step into a choice from the target vocabulary\n",
    "    output_layer = Dense(target_vocab_size,\n",
    "                         kernel_initializer = tf.truncated_normal_initializer(mean = 0.0, stddev=0.1))\n",
    "\n",
    "\n",
    "    # 4. Set up a training decoder and an inference decoder\n",
    "    # Training Decoder\n",
    "    with tf.variable_scope(\"decode\"):\n",
    "\n",
    "        training_decoder_output = decoding_layer_train(encoder_state, dec_cell, dec_embed_input, \n",
    "                         target_sequence_length, max_target_sequence_length, \n",
    "                         output_layer, keep_prob)\n",
    "        \n",
    "    # 5. Inference Decoder\n",
    "    # Reuses the same parameters trained by the training process\n",
    "    with tf.variable_scope(\"decode\", reuse=True):\n",
    "        start_of_sequence_id = target_vocab_to_int['<GO>']\n",
    "        end_of_sequence_id = target_vocab_to_int['<EOS>']\n",
    "        inference_decoder_output = decoding_layer_infer(encoder_state, dec_cell, dec_embeddings, start_of_sequence_id,\n",
    "                         end_of_sequence_id, max_target_sequence_length,\n",
    "                         target_vocab_size, output_layer, batch_size, keep_prob)\n",
    "        \n",
    "    return training_decoder_output, inference_decoder_output\n",
    "\n",
    "\"\"\"\n",
    "DON'T MODIFY ANYTHING IN THIS CELL THAT IS BELOW THIS LINE\n",
    "\"\"\"\n",
    "tests.test_decoding_layer(decoding_layer)"
   ]
  },
  {
   "cell_type": "markdown",
   "metadata": {},
   "source": [
    "### Build the Neural Network\n",
    "Apply the functions you implemented above to:\n",
    "\n",
    "- Encode the input using your `encoding_layer(rnn_inputs, rnn_size, num_layers, keep_prob,  source_sequence_length, source_vocab_size, encoding_embedding_size)`.\n",
    "- Process target data using your `process_decoder_input(target_data, target_vocab_to_int, batch_size)` function.\n",
    "- Decode the encoded input using your `decoding_layer(dec_input, enc_state, target_sequence_length, max_target_sentence_length, rnn_size, num_layers, target_vocab_to_int, target_vocab_size, batch_size, keep_prob, dec_embedding_size)` function."
   ]
  },
  {
   "cell_type": "code",
   "execution_count": 31,
   "metadata": {
    "scrolled": false
   },
   "outputs": [
    {
     "name": "stdout",
     "output_type": "stream",
     "text": [
      "Tests Passed\n"
     ]
    }
   ],
   "source": [
    "def seq2seq_model(input_data, target_data, keep_prob, batch_size,\n",
    "                  source_sequence_length, target_sequence_length,\n",
    "                  max_target_sentence_length,\n",
    "                  source_vocab_size, target_vocab_size,\n",
    "                  enc_embedding_size, dec_embedding_size,\n",
    "                  rnn_size, num_layers, target_vocab_to_int):\n",
    "    \"\"\"\n",
    "    Build the Sequence-to-Sequence part of the neural network\n",
    "    :param input_data: Input placeholder\n",
    "    :param target_data: Target placeholder\n",
    "    :param keep_prob: Dropout keep probability placeholder\n",
    "    :param batch_size: Batch Size\n",
    "    :param source_sequence_length: Sequence Lengths of source sequences in the batch\n",
    "    :param target_sequence_length: Sequence Lengths of target sequences in the batch\n",
    "    :param source_vocab_size: Source vocabulary size\n",
    "    :param target_vocab_size: Target vocabulary size\n",
    "    :param enc_embedding_size: Decoder embedding size\n",
    "    :param dec_embedding_size: Encoder embedding size\n",
    "    :param rnn_size: RNN Size\n",
    "    :param num_layers: Number of layers\n",
    "    :param target_vocab_to_int: Dictionary to go from the target words to an id\n",
    "    :return: Tuple of (Training BasicDecoderOutput, Inference BasicDecoderOutput)\n",
    "    \"\"\"\n",
    "    # TODO: Implement Function\n",
    "    enc_out, enc_state  = encoding_layer(\n",
    "        input_data,rnn_size,num_layers,keep_prob,source_sequence_length,source_vocab_size,enc_embedding_size)\n",
    "    \n",
    "    decoder_input = process_decoder_input(target_data,target_vocab_to_int,batch_size)\n",
    "    \n",
    "    Training_BasicDecoderOutput, Inference_BasicDecoderOutput = decoding_layer(\n",
    "        decoder_input,enc_state,target_sequence_length,\n",
    "        max_target_sentence_length,rnn_size,num_layers,target_vocab_to_int,\n",
    "        target_vocab_size,batch_size,keep_prob,dec_embedding_size)\n",
    "    \n",
    "    return Training_BasicDecoderOutput, Inference_BasicDecoderOutput\n",
    "\n",
    "\n",
    "\"\"\"\n",
    "DON'T MODIFY ANYTHING IN THIS CELL THAT IS BELOW THIS LINE\n",
    "\"\"\"\n",
    "tests.test_seq2seq_model(seq2seq_model)"
   ]
  },
  {
   "cell_type": "markdown",
   "metadata": {},
   "source": [
    "## Neural Network Training\n",
    "### Hyperparameters\n",
    "Tune the following parameters:\n",
    "\n",
    "- Set `epochs` to the number of epochs.\n",
    "- Set `batch_size` to the batch size.\n",
    "- Set `rnn_size` to the size of the RNNs.\n",
    "- Set `num_layers` to the number of layers.\n",
    "- Set `encoding_embedding_size` to the size of the embedding for the encoder.\n",
    "- Set `decoding_embedding_size` to the size of the embedding for the decoder.\n",
    "- Set `learning_rate` to the learning rate.\n",
    "- Set `keep_probability` to the Dropout keep probability\n",
    "- Set `display_step` to state how many steps between each debug output statement"
   ]
  },
  {
   "cell_type": "code",
   "execution_count": 36,
   "metadata": {
    "collapsed": true
   },
   "outputs": [],
   "source": [
    "# Number of Epochs\n",
    "epochs = 3\n",
    "# Batch Size\n",
    "batch_size = 128\n",
    "# RNN Size\n",
    "rnn_size = 128\n",
    "# Number of Layers\n",
    "num_layers = 2\n",
    "# Embedding Size\n",
    "encoding_embedding_size = 512\n",
    "decoding_embedding_size = 512\n",
    "# Learning Rate\n",
    "learning_rate = 0.01\n",
    "# Dropout Keep Probability\n",
    "keep_probability = 0.5\n",
    "display_step = 10"
   ]
  },
  {
   "cell_type": "markdown",
   "metadata": {},
   "source": [
    "### Build the Graph\n",
    "Build the graph using the neural network you implemented."
   ]
  },
  {
   "cell_type": "code",
   "execution_count": 37,
   "metadata": {
    "scrolled": false
   },
   "outputs": [],
   "source": [
    "\"\"\"\n",
    "DON'T MODIFY ANYTHING IN THIS CELL\n",
    "\"\"\"\n",
    "save_path = 'checkpoints/dev'\n",
    "(source_int_text, target_int_text), (source_vocab_to_int, target_vocab_to_int), _ = helper.load_preprocess()\n",
    "max_target_sentence_length = max([len(sentence) for sentence in source_int_text])\n",
    "\n",
    "train_graph = tf.Graph()\n",
    "with train_graph.as_default():\n",
    "    input_data, targets, lr, keep_prob, target_sequence_length, max_target_sequence_length, source_sequence_length = model_inputs()\n",
    "\n",
    "    #sequence_length = tf.placeholder_with_default(max_target_sentence_length, None, name='sequence_length')\n",
    "    input_shape = tf.shape(input_data)\n",
    "\n",
    "    train_logits, inference_logits = seq2seq_model(tf.reverse(input_data, [-1]),\n",
    "                                                   targets,\n",
    "                                                   keep_prob,\n",
    "                                                   batch_size,\n",
    "                                                   source_sequence_length,\n",
    "                                                   target_sequence_length,\n",
    "                                                   max_target_sequence_length,\n",
    "                                                   len(source_vocab_to_int),\n",
    "                                                   len(target_vocab_to_int),\n",
    "                                                   encoding_embedding_size,\n",
    "                                                   decoding_embedding_size,\n",
    "                                                   rnn_size,\n",
    "                                                   num_layers,\n",
    "                                                   target_vocab_to_int)\n",
    "\n",
    "\n",
    "    training_logits = tf.identity(train_logits.rnn_output, name='logits')\n",
    "    inference_logits = tf.identity(inference_logits.sample_id, name='predictions')\n",
    "\n",
    "    masks = tf.sequence_mask(target_sequence_length, max_target_sequence_length, dtype=tf.float32, name='masks')\n",
    "\n",
    "    with tf.name_scope(\"optimization\"):\n",
    "        # Loss function\n",
    "        cost = tf.contrib.seq2seq.sequence_loss(\n",
    "            training_logits,\n",
    "            targets,\n",
    "            masks)\n",
    "\n",
    "        # Optimizer\n",
    "        optimizer = tf.train.AdamOptimizer(lr)\n",
    "\n",
    "        # Gradient Clipping\n",
    "        gradients = optimizer.compute_gradients(cost)\n",
    "        capped_gradients = [(tf.clip_by_value(grad, -1., 1.), var) for grad, var in gradients if grad is not None]\n",
    "        train_op = optimizer.apply_gradients(capped_gradients)\n"
   ]
  },
  {
   "cell_type": "markdown",
   "metadata": {},
   "source": [
    "Batch and pad the source and target sequences"
   ]
  },
  {
   "cell_type": "code",
   "execution_count": 38,
   "metadata": {
    "collapsed": true
   },
   "outputs": [],
   "source": [
    "\"\"\"\n",
    "DON'T MODIFY ANYTHING IN THIS CELL\n",
    "\"\"\"\n",
    "def pad_sentence_batch(sentence_batch, pad_int):\n",
    "    \"\"\"Pad sentences with <PAD> so that each sentence of a batch has the same length\"\"\"\n",
    "    max_sentence = max([len(sentence) for sentence in sentence_batch])\n",
    "    return [sentence + [pad_int] * (max_sentence - len(sentence)) for sentence in sentence_batch]\n",
    "\n",
    "\n",
    "def get_batches(sources, targets, batch_size, source_pad_int, target_pad_int):\n",
    "    \"\"\"Batch targets, sources, and the lengths of their sentences together\"\"\"\n",
    "    for batch_i in range(0, len(sources)//batch_size):\n",
    "        start_i = batch_i * batch_size\n",
    "\n",
    "        # Slice the right amount for the batch\n",
    "        sources_batch = sources[start_i:start_i + batch_size]\n",
    "        targets_batch = targets[start_i:start_i + batch_size]\n",
    "\n",
    "        # Pad\n",
    "        pad_sources_batch = np.array(pad_sentence_batch(sources_batch, source_pad_int))\n",
    "        pad_targets_batch = np.array(pad_sentence_batch(targets_batch, target_pad_int))\n",
    "\n",
    "        # Need the lengths for the _lengths parameters\n",
    "        pad_targets_lengths = []\n",
    "        for target in pad_targets_batch:\n",
    "            pad_targets_lengths.append(len(target))\n",
    "\n",
    "        pad_source_lengths = []\n",
    "        for source in pad_sources_batch:\n",
    "            pad_source_lengths.append(len(source))\n",
    "\n",
    "        yield pad_sources_batch, pad_targets_batch, pad_source_lengths, pad_targets_lengths\n"
   ]
  },
  {
   "cell_type": "markdown",
   "metadata": {},
   "source": [
    "### Train\n",
    "Train the neural network on the preprocessed data. If you have a hard time getting a good loss, check the forms to see if anyone is having the same problem."
   ]
  },
  {
   "cell_type": "code",
   "execution_count": 39,
   "metadata": {
    "scrolled": true
   },
   "outputs": [
    {
     "name": "stdout",
     "output_type": "stream",
     "text": [
      "Epoch   0 Batch   10/1077 - Train Accuracy: 0.2854, Validation Accuracy: 0.3711, Loss: 3.2840\n",
      "Epoch   0 Batch   20/1077 - Train Accuracy: 0.3770, Validation Accuracy: 0.4332, Loss: 2.6585\n",
      "Epoch   0 Batch   30/1077 - Train Accuracy: 0.4184, Validation Accuracy: 0.4751, Loss: 2.3577\n",
      "Epoch   0 Batch   40/1077 - Train Accuracy: 0.4652, Validation Accuracy: 0.5053, Loss: 2.0935\n",
      "Epoch   0 Batch   50/1077 - Train Accuracy: 0.4848, Validation Accuracy: 0.5295, Loss: 1.9637\n",
      "Epoch   0 Batch   60/1077 - Train Accuracy: 0.5067, Validation Accuracy: 0.5195, Loss: 1.7794\n",
      "Epoch   0 Batch   70/1077 - Train Accuracy: 0.5164, Validation Accuracy: 0.5653, Loss: 1.7286\n",
      "Epoch   0 Batch   80/1077 - Train Accuracy: 0.5230, Validation Accuracy: 0.5344, Loss: 1.5417\n",
      "Epoch   0 Batch   90/1077 - Train Accuracy: 0.5598, Validation Accuracy: 0.5774, Loss: 1.4380\n",
      "Epoch   0 Batch  100/1077 - Train Accuracy: 0.5199, Validation Accuracy: 0.5376, Loss: 1.2176\n",
      "Epoch   0 Batch  110/1077 - Train Accuracy: 0.5418, Validation Accuracy: 0.5391, Loss: 1.0304\n",
      "Epoch   0 Batch  120/1077 - Train Accuracy: 0.5594, Validation Accuracy: 0.5639, Loss: 1.0037\n",
      "Epoch   0 Batch  130/1077 - Train Accuracy: 0.5833, Validation Accuracy: 0.5451, Loss: 0.8512\n",
      "Epoch   0 Batch  140/1077 - Train Accuracy: 0.5354, Validation Accuracy: 0.5618, Loss: 0.9053\n",
      "Epoch   0 Batch  150/1077 - Train Accuracy: 0.6146, Validation Accuracy: 0.5728, Loss: 0.7796\n",
      "Epoch   0 Batch  160/1077 - Train Accuracy: 0.5996, Validation Accuracy: 0.5849, Loss: 0.7691\n",
      "Epoch   0 Batch  170/1077 - Train Accuracy: 0.5914, Validation Accuracy: 0.5973, Loss: 0.7812\n",
      "Epoch   0 Batch  180/1077 - Train Accuracy: 0.6020, Validation Accuracy: 0.6147, Loss: 0.7357\n",
      "Epoch   0 Batch  190/1077 - Train Accuracy: 0.6324, Validation Accuracy: 0.6158, Loss: 0.6912\n",
      "Epoch   0 Batch  200/1077 - Train Accuracy: 0.5906, Validation Accuracy: 0.6392, Loss: 0.6894\n",
      "Epoch   0 Batch  210/1077 - Train Accuracy: 0.6217, Validation Accuracy: 0.6282, Loss: 0.6508\n",
      "Epoch   0 Batch  220/1077 - Train Accuracy: 0.6365, Validation Accuracy: 0.6328, Loss: 0.6455\n",
      "Epoch   0 Batch  230/1077 - Train Accuracy: 0.6395, Validation Accuracy: 0.6335, Loss: 0.6099\n",
      "Epoch   0 Batch  240/1077 - Train Accuracy: 0.6844, Validation Accuracy: 0.6179, Loss: 0.5792\n",
      "Epoch   0 Batch  250/1077 - Train Accuracy: 0.6555, Validation Accuracy: 0.6811, Loss: 0.5441\n",
      "Epoch   0 Batch  260/1077 - Train Accuracy: 0.6656, Validation Accuracy: 0.6420, Loss: 0.5363\n",
      "Epoch   0 Batch  270/1077 - Train Accuracy: 0.6387, Validation Accuracy: 0.6307, Loss: 0.5793\n",
      "Epoch   0 Batch  280/1077 - Train Accuracy: 0.6582, Validation Accuracy: 0.6570, Loss: 0.5593\n",
      "Epoch   0 Batch  290/1077 - Train Accuracy: 0.6520, Validation Accuracy: 0.6662, Loss: 0.5473\n",
      "Epoch   0 Batch  300/1077 - Train Accuracy: 0.6801, Validation Accuracy: 0.6602, Loss: 0.4860\n",
      "Epoch   0 Batch  310/1077 - Train Accuracy: 0.6367, Validation Accuracy: 0.6690, Loss: 0.5006\n",
      "Epoch   0 Batch  320/1077 - Train Accuracy: 0.6918, Validation Accuracy: 0.6996, Loss: 0.4764\n",
      "Epoch   0 Batch  330/1077 - Train Accuracy: 0.7055, Validation Accuracy: 0.6847, Loss: 0.4546\n",
      "Epoch   0 Batch  340/1077 - Train Accuracy: 0.6887, Validation Accuracy: 0.6850, Loss: 0.4316\n",
      "Epoch   0 Batch  350/1077 - Train Accuracy: 0.6926, Validation Accuracy: 0.6967, Loss: 0.4444\n",
      "Epoch   0 Batch  360/1077 - Train Accuracy: 0.7234, Validation Accuracy: 0.7173, Loss: 0.3992\n",
      "Epoch   0 Batch  370/1077 - Train Accuracy: 0.7507, Validation Accuracy: 0.7028, Loss: 0.3919\n",
      "Epoch   0 Batch  380/1077 - Train Accuracy: 0.7191, Validation Accuracy: 0.6850, Loss: 0.3787\n",
      "Epoch   0 Batch  390/1077 - Train Accuracy: 0.6813, Validation Accuracy: 0.7308, Loss: 0.3913\n",
      "Epoch   0 Batch  400/1077 - Train Accuracy: 0.7309, Validation Accuracy: 0.7021, Loss: 0.3763\n",
      "Epoch   0 Batch  410/1077 - Train Accuracy: 0.7101, Validation Accuracy: 0.7344, Loss: 0.3845\n",
      "Epoch   0 Batch  420/1077 - Train Accuracy: 0.7574, Validation Accuracy: 0.6900, Loss: 0.3339\n",
      "Epoch   0 Batch  430/1077 - Train Accuracy: 0.7129, Validation Accuracy: 0.7198, Loss: 0.3413\n",
      "Epoch   0 Batch  440/1077 - Train Accuracy: 0.7227, Validation Accuracy: 0.7109, Loss: 0.3584\n",
      "Epoch   0 Batch  450/1077 - Train Accuracy: 0.7750, Validation Accuracy: 0.7070, Loss: 0.3113\n",
      "Epoch   0 Batch  460/1077 - Train Accuracy: 0.7426, Validation Accuracy: 0.7330, Loss: 0.3330\n",
      "Epoch   0 Batch  470/1077 - Train Accuracy: 0.7340, Validation Accuracy: 0.7429, Loss: 0.3310\n",
      "Epoch   0 Batch  480/1077 - Train Accuracy: 0.7693, Validation Accuracy: 0.7379, Loss: 0.3085\n",
      "Epoch   0 Batch  490/1077 - Train Accuracy: 0.7352, Validation Accuracy: 0.7230, Loss: 0.3097\n",
      "Epoch   0 Batch  500/1077 - Train Accuracy: 0.7906, Validation Accuracy: 0.7443, Loss: 0.2741\n",
      "Epoch   0 Batch  510/1077 - Train Accuracy: 0.7598, Validation Accuracy: 0.7202, Loss: 0.2699\n",
      "Epoch   0 Batch  520/1077 - Train Accuracy: 0.7920, Validation Accuracy: 0.7404, Loss: 0.2395\n",
      "Epoch   0 Batch  530/1077 - Train Accuracy: 0.7582, Validation Accuracy: 0.7312, Loss: 0.2687\n",
      "Epoch   0 Batch  540/1077 - Train Accuracy: 0.7742, Validation Accuracy: 0.7504, Loss: 0.2304\n",
      "Epoch   0 Batch  550/1077 - Train Accuracy: 0.7691, Validation Accuracy: 0.7337, Loss: 0.2673\n",
      "Epoch   0 Batch  560/1077 - Train Accuracy: 0.8035, Validation Accuracy: 0.7411, Loss: 0.2437\n",
      "Epoch   0 Batch  570/1077 - Train Accuracy: 0.7870, Validation Accuracy: 0.7244, Loss: 0.2496\n",
      "Epoch   0 Batch  580/1077 - Train Accuracy: 0.7742, Validation Accuracy: 0.7610, Loss: 0.2147\n",
      "Epoch   0 Batch  590/1077 - Train Accuracy: 0.7447, Validation Accuracy: 0.7362, Loss: 0.2537\n",
      "Epoch   0 Batch  600/1077 - Train Accuracy: 0.7917, Validation Accuracy: 0.7369, Loss: 0.2155\n",
      "Epoch   0 Batch  610/1077 - Train Accuracy: 0.7611, Validation Accuracy: 0.7635, Loss: 0.2308\n",
      "Epoch   0 Batch  620/1077 - Train Accuracy: 0.7691, Validation Accuracy: 0.7770, Loss: 0.2023\n",
      "Epoch   0 Batch  630/1077 - Train Accuracy: 0.7766, Validation Accuracy: 0.7791, Loss: 0.1942\n",
      "Epoch   0 Batch  640/1077 - Train Accuracy: 0.7879, Validation Accuracy: 0.7571, Loss: 0.1993\n",
      "Epoch   0 Batch  650/1077 - Train Accuracy: 0.8125, Validation Accuracy: 0.7464, Loss: 0.2024\n",
      "Epoch   0 Batch  660/1077 - Train Accuracy: 0.8051, Validation Accuracy: 0.7830, Loss: 0.1821\n",
      "Epoch   0 Batch  670/1077 - Train Accuracy: 0.8278, Validation Accuracy: 0.7919, Loss: 0.1940\n",
      "Epoch   0 Batch  680/1077 - Train Accuracy: 0.7760, Validation Accuracy: 0.7610, Loss: 0.1781\n",
      "Epoch   0 Batch  690/1077 - Train Accuracy: 0.7969, Validation Accuracy: 0.7496, Loss: 0.1782\n",
      "Epoch   0 Batch  700/1077 - Train Accuracy: 0.8117, Validation Accuracy: 0.7631, Loss: 0.1620\n",
      "Epoch   0 Batch  710/1077 - Train Accuracy: 0.7852, Validation Accuracy: 0.7912, Loss: 0.1649\n",
      "Epoch   0 Batch  720/1077 - Train Accuracy: 0.8211, Validation Accuracy: 0.7532, Loss: 0.1753\n",
      "Epoch   0 Batch  730/1077 - Train Accuracy: 0.7937, Validation Accuracy: 0.7276, Loss: 0.1846\n",
      "Epoch   0 Batch  740/1077 - Train Accuracy: 0.7957, Validation Accuracy: 0.7674, Loss: 0.1539\n",
      "Epoch   0 Batch  750/1077 - Train Accuracy: 0.7863, Validation Accuracy: 0.7596, Loss: 0.1594\n",
      "Epoch   0 Batch  760/1077 - Train Accuracy: 0.7934, Validation Accuracy: 0.7894, Loss: 0.1748\n",
      "Epoch   0 Batch  770/1077 - Train Accuracy: 0.8010, Validation Accuracy: 0.7915, Loss: 0.1589\n",
      "Epoch   0 Batch  780/1077 - Train Accuracy: 0.8066, Validation Accuracy: 0.7759, Loss: 0.1845\n",
      "Epoch   0 Batch  790/1077 - Train Accuracy: 0.7406, Validation Accuracy: 0.7685, Loss: 0.1660\n",
      "Epoch   0 Batch  800/1077 - Train Accuracy: 0.7777, Validation Accuracy: 0.7756, Loss: 0.1568\n",
      "Epoch   0 Batch  810/1077 - Train Accuracy: 0.8177, Validation Accuracy: 0.7848, Loss: 0.1378\n",
      "Epoch   0 Batch  820/1077 - Train Accuracy: 0.7414, Validation Accuracy: 0.7837, Loss: 0.1626\n",
      "Epoch   0 Batch  830/1077 - Train Accuracy: 0.7781, Validation Accuracy: 0.7915, Loss: 0.1492\n",
      "Epoch   0 Batch  840/1077 - Train Accuracy: 0.8414, Validation Accuracy: 0.7905, Loss: 0.1277\n",
      "Epoch   0 Batch  850/1077 - Train Accuracy: 0.7660, Validation Accuracy: 0.7979, Loss: 0.1834\n",
      "Epoch   0 Batch  860/1077 - Train Accuracy: 0.8110, Validation Accuracy: 0.7997, Loss: 0.1544\n",
      "Epoch   0 Batch  870/1077 - Train Accuracy: 0.8331, Validation Accuracy: 0.8033, Loss: 0.1382\n",
      "Epoch   0 Batch  880/1077 - Train Accuracy: 0.8555, Validation Accuracy: 0.7912, Loss: 0.1416\n"
     ]
    },
    {
     "name": "stdout",
     "output_type": "stream",
     "text": [
      "Epoch   0 Batch  890/1077 - Train Accuracy: 0.8478, Validation Accuracy: 0.7756, Loss: 0.1162\n",
      "Epoch   0 Batch  900/1077 - Train Accuracy: 0.8492, Validation Accuracy: 0.7848, Loss: 0.1399\n",
      "Epoch   0 Batch  910/1077 - Train Accuracy: 0.7987, Validation Accuracy: 0.7947, Loss: 0.1500\n",
      "Epoch   0 Batch  920/1077 - Train Accuracy: 0.8059, Validation Accuracy: 0.8026, Loss: 0.1282\n",
      "Epoch   0 Batch  930/1077 - Train Accuracy: 0.7973, Validation Accuracy: 0.7962, Loss: 0.1319\n",
      "Epoch   0 Batch  940/1077 - Train Accuracy: 0.8395, Validation Accuracy: 0.7951, Loss: 0.1340\n",
      "Epoch   0 Batch  950/1077 - Train Accuracy: 0.8203, Validation Accuracy: 0.7812, Loss: 0.1274\n",
      "Epoch   0 Batch  960/1077 - Train Accuracy: 0.8244, Validation Accuracy: 0.8047, Loss: 0.1328\n",
      "Epoch   0 Batch  970/1077 - Train Accuracy: 0.8680, Validation Accuracy: 0.8061, Loss: 0.1323\n",
      "Epoch   0 Batch  980/1077 - Train Accuracy: 0.8242, Validation Accuracy: 0.8310, Loss: 0.1372\n",
      "Epoch   0 Batch  990/1077 - Train Accuracy: 0.7841, Validation Accuracy: 0.8050, Loss: 0.1482\n",
      "Epoch   0 Batch 1000/1077 - Train Accuracy: 0.8367, Validation Accuracy: 0.7937, Loss: 0.1176\n",
      "Epoch   0 Batch 1010/1077 - Train Accuracy: 0.8637, Validation Accuracy: 0.7962, Loss: 0.1206\n",
      "Epoch   0 Batch 1020/1077 - Train Accuracy: 0.8328, Validation Accuracy: 0.8224, Loss: 0.1039\n",
      "Epoch   0 Batch 1030/1077 - Train Accuracy: 0.8375, Validation Accuracy: 0.8143, Loss: 0.1312\n",
      "Epoch   0 Batch 1040/1077 - Train Accuracy: 0.8285, Validation Accuracy: 0.7784, Loss: 0.1334\n",
      "Epoch   0 Batch 1050/1077 - Train Accuracy: 0.8523, Validation Accuracy: 0.8161, Loss: 0.1199\n",
      "Epoch   0 Batch 1060/1077 - Train Accuracy: 0.8539, Validation Accuracy: 0.8171, Loss: 0.1067\n",
      "Epoch   0 Batch 1070/1077 - Train Accuracy: 0.8141, Validation Accuracy: 0.8214, Loss: 0.1207\n",
      "Epoch   1 Batch   10/1077 - Train Accuracy: 0.8577, Validation Accuracy: 0.7955, Loss: 0.1147\n",
      "Epoch   1 Batch   20/1077 - Train Accuracy: 0.8500, Validation Accuracy: 0.8214, Loss: 0.1001\n",
      "Epoch   1 Batch   30/1077 - Train Accuracy: 0.8961, Validation Accuracy: 0.8058, Loss: 0.1038\n",
      "Epoch   1 Batch   40/1077 - Train Accuracy: 0.8738, Validation Accuracy: 0.8153, Loss: 0.0987\n",
      "Epoch   1 Batch   50/1077 - Train Accuracy: 0.8707, Validation Accuracy: 0.8420, Loss: 0.1096\n",
      "Epoch   1 Batch   60/1077 - Train Accuracy: 0.8672, Validation Accuracy: 0.8150, Loss: 0.0974\n",
      "Epoch   1 Batch   70/1077 - Train Accuracy: 0.8487, Validation Accuracy: 0.8207, Loss: 0.1197\n",
      "Epoch   1 Batch   80/1077 - Train Accuracy: 0.8602, Validation Accuracy: 0.8129, Loss: 0.1053\n",
      "Epoch   1 Batch   90/1077 - Train Accuracy: 0.8520, Validation Accuracy: 0.8054, Loss: 0.0999\n",
      "Epoch   1 Batch  100/1077 - Train Accuracy: 0.8730, Validation Accuracy: 0.8200, Loss: 0.0994\n",
      "Epoch   1 Batch  110/1077 - Train Accuracy: 0.9074, Validation Accuracy: 0.8278, Loss: 0.0849\n",
      "Epoch   1 Batch  120/1077 - Train Accuracy: 0.8438, Validation Accuracy: 0.8295, Loss: 0.1129\n",
      "Epoch   1 Batch  130/1077 - Train Accuracy: 0.8594, Validation Accuracy: 0.7702, Loss: 0.1006\n",
      "Epoch   1 Batch  140/1077 - Train Accuracy: 0.8343, Validation Accuracy: 0.8118, Loss: 0.0917\n",
      "Epoch   1 Batch  150/1077 - Train Accuracy: 0.8512, Validation Accuracy: 0.8121, Loss: 0.1049\n",
      "Epoch   1 Batch  160/1077 - Train Accuracy: 0.8473, Validation Accuracy: 0.8278, Loss: 0.1107\n",
      "Epoch   1 Batch  170/1077 - Train Accuracy: 0.8469, Validation Accuracy: 0.8178, Loss: 0.1021\n",
      "Epoch   1 Batch  180/1077 - Train Accuracy: 0.8766, Validation Accuracy: 0.8260, Loss: 0.0897\n",
      "Epoch   1 Batch  190/1077 - Train Accuracy: 0.9125, Validation Accuracy: 0.8029, Loss: 0.0853\n",
      "Epoch   1 Batch  200/1077 - Train Accuracy: 0.8676, Validation Accuracy: 0.8150, Loss: 0.1025\n",
      "Epoch   1 Batch  210/1077 - Train Accuracy: 0.8583, Validation Accuracy: 0.8310, Loss: 0.1030\n",
      "Epoch   1 Batch  220/1077 - Train Accuracy: 0.8845, Validation Accuracy: 0.8129, Loss: 0.0906\n",
      "Epoch   1 Batch  230/1077 - Train Accuracy: 0.8415, Validation Accuracy: 0.8118, Loss: 0.0994\n",
      "Epoch   1 Batch  240/1077 - Train Accuracy: 0.8906, Validation Accuracy: 0.8157, Loss: 0.0928\n",
      "Epoch   1 Batch  250/1077 - Train Accuracy: 0.8335, Validation Accuracy: 0.8182, Loss: 0.0964\n",
      "Epoch   1 Batch  260/1077 - Train Accuracy: 0.8612, Validation Accuracy: 0.8203, Loss: 0.0785\n",
      "Epoch   1 Batch  270/1077 - Train Accuracy: 0.8258, Validation Accuracy: 0.8317, Loss: 0.1036\n",
      "Epoch   1 Batch  280/1077 - Train Accuracy: 0.8234, Validation Accuracy: 0.8161, Loss: 0.0994\n",
      "Epoch   1 Batch  290/1077 - Train Accuracy: 0.8895, Validation Accuracy: 0.8306, Loss: 0.1139\n",
      "Epoch   1 Batch  300/1077 - Train Accuracy: 0.9050, Validation Accuracy: 0.8320, Loss: 0.0796\n",
      "Epoch   1 Batch  310/1077 - Train Accuracy: 0.8742, Validation Accuracy: 0.8587, Loss: 0.1139\n",
      "Epoch   1 Batch  320/1077 - Train Accuracy: 0.8973, Validation Accuracy: 0.8335, Loss: 0.0927\n",
      "Epoch   1 Batch  330/1077 - Train Accuracy: 0.8820, Validation Accuracy: 0.8054, Loss: 0.1000\n",
      "Epoch   1 Batch  340/1077 - Train Accuracy: 0.8746, Validation Accuracy: 0.8310, Loss: 0.0825\n",
      "Epoch   1 Batch  350/1077 - Train Accuracy: 0.8789, Validation Accuracy: 0.8452, Loss: 0.0902\n",
      "Epoch   1 Batch  360/1077 - Train Accuracy: 0.8598, Validation Accuracy: 0.8306, Loss: 0.0934\n",
      "Epoch   1 Batch  370/1077 - Train Accuracy: 0.9089, Validation Accuracy: 0.8338, Loss: 0.0856\n",
      "Epoch   1 Batch  380/1077 - Train Accuracy: 0.8820, Validation Accuracy: 0.8587, Loss: 0.0809\n",
      "Epoch   1 Batch  390/1077 - Train Accuracy: 0.8027, Validation Accuracy: 0.8107, Loss: 0.1120\n",
      "Epoch   1 Batch  400/1077 - Train Accuracy: 0.8895, Validation Accuracy: 0.8143, Loss: 0.0889\n",
      "Epoch   1 Batch  410/1077 - Train Accuracy: 0.8487, Validation Accuracy: 0.8377, Loss: 0.1006\n",
      "Epoch   1 Batch  420/1077 - Train Accuracy: 0.9027, Validation Accuracy: 0.8473, Loss: 0.0686\n",
      "Epoch   1 Batch  430/1077 - Train Accuracy: 0.8656, Validation Accuracy: 0.7965, Loss: 0.0759\n",
      "Epoch   1 Batch  440/1077 - Train Accuracy: 0.8555, Validation Accuracy: 0.8320, Loss: 0.1044\n",
      "Epoch   1 Batch  450/1077 - Train Accuracy: 0.8578, Validation Accuracy: 0.8263, Loss: 0.0771\n",
      "Epoch   1 Batch  460/1077 - Train Accuracy: 0.8848, Validation Accuracy: 0.8448, Loss: 0.0968\n",
      "Epoch   1 Batch  470/1077 - Train Accuracy: 0.9038, Validation Accuracy: 0.8601, Loss: 0.0783\n",
      "Epoch   1 Batch  480/1077 - Train Accuracy: 0.9087, Validation Accuracy: 0.8494, Loss: 0.0865\n",
      "Epoch   1 Batch  490/1077 - Train Accuracy: 0.8527, Validation Accuracy: 0.8125, Loss: 0.0837\n",
      "Epoch   1 Batch  500/1077 - Train Accuracy: 0.8930, Validation Accuracy: 0.8619, Loss: 0.0794\n",
      "Epoch   1 Batch  510/1077 - Train Accuracy: 0.8773, Validation Accuracy: 0.8477, Loss: 0.0841\n",
      "Epoch   1 Batch  520/1077 - Train Accuracy: 0.9100, Validation Accuracy: 0.8445, Loss: 0.0756\n",
      "Epoch   1 Batch  530/1077 - Train Accuracy: 0.8656, Validation Accuracy: 0.8438, Loss: 0.0847\n",
      "Epoch   1 Batch  540/1077 - Train Accuracy: 0.8852, Validation Accuracy: 0.8402, Loss: 0.0664\n",
      "Epoch   1 Batch  550/1077 - Train Accuracy: 0.8336, Validation Accuracy: 0.8235, Loss: 0.0830\n",
      "Epoch   1 Batch  560/1077 - Train Accuracy: 0.8598, Validation Accuracy: 0.8469, Loss: 0.0786\n",
      "Epoch   1 Batch  570/1077 - Train Accuracy: 0.8631, Validation Accuracy: 0.8249, Loss: 0.0913\n",
      "Epoch   1 Batch  580/1077 - Train Accuracy: 0.8627, Validation Accuracy: 0.8477, Loss: 0.0679\n",
      "Epoch   1 Batch  590/1077 - Train Accuracy: 0.8413, Validation Accuracy: 0.8395, Loss: 0.0965\n",
      "Epoch   1 Batch  600/1077 - Train Accuracy: 0.8836, Validation Accuracy: 0.8416, Loss: 0.0855\n",
      "Epoch   1 Batch  610/1077 - Train Accuracy: 0.9153, Validation Accuracy: 0.8487, Loss: 0.0718\n",
      "Epoch   1 Batch  620/1077 - Train Accuracy: 0.8941, Validation Accuracy: 0.8565, Loss: 0.0827\n",
      "Epoch   1 Batch  630/1077 - Train Accuracy: 0.9266, Validation Accuracy: 0.8391, Loss: 0.0766\n",
      "Epoch   1 Batch  640/1077 - Train Accuracy: 0.8873, Validation Accuracy: 0.8473, Loss: 0.0849\n",
      "Epoch   1 Batch  650/1077 - Train Accuracy: 0.8980, Validation Accuracy: 0.8594, Loss: 0.0806\n",
      "Epoch   1 Batch  660/1077 - Train Accuracy: 0.9070, Validation Accuracy: 0.8523, Loss: 0.0734\n",
      "Epoch   1 Batch  670/1077 - Train Accuracy: 0.8636, Validation Accuracy: 0.8647, Loss: 0.0858\n",
      "Epoch   1 Batch  680/1077 - Train Accuracy: 0.8739, Validation Accuracy: 0.8654, Loss: 0.0717\n",
      "Epoch   1 Batch  690/1077 - Train Accuracy: 0.8762, Validation Accuracy: 0.8480, Loss: 0.0804\n"
     ]
    },
    {
     "name": "stdout",
     "output_type": "stream",
     "text": [
      "Epoch   1 Batch  700/1077 - Train Accuracy: 0.8719, Validation Accuracy: 0.8597, Loss: 0.0628\n",
      "Epoch   1 Batch  710/1077 - Train Accuracy: 0.8910, Validation Accuracy: 0.8445, Loss: 0.0686\n",
      "Epoch   1 Batch  720/1077 - Train Accuracy: 0.8968, Validation Accuracy: 0.8707, Loss: 0.0869\n",
      "Epoch   1 Batch  730/1077 - Train Accuracy: 0.8895, Validation Accuracy: 0.8523, Loss: 0.0966\n",
      "Epoch   1 Batch  740/1077 - Train Accuracy: 0.8891, Validation Accuracy: 0.8395, Loss: 0.0689\n",
      "Epoch   1 Batch  750/1077 - Train Accuracy: 0.8871, Validation Accuracy: 0.8445, Loss: 0.0699\n",
      "Epoch   1 Batch  760/1077 - Train Accuracy: 0.8664, Validation Accuracy: 0.8526, Loss: 0.0799\n",
      "Epoch   1 Batch  770/1077 - Train Accuracy: 0.8650, Validation Accuracy: 0.8480, Loss: 0.0934\n",
      "Epoch   1 Batch  780/1077 - Train Accuracy: 0.8715, Validation Accuracy: 0.8739, Loss: 0.0969\n",
      "Epoch   1 Batch  790/1077 - Train Accuracy: 0.8410, Validation Accuracy: 0.8391, Loss: 0.0844\n",
      "Epoch   1 Batch  800/1077 - Train Accuracy: 0.9062, Validation Accuracy: 0.8210, Loss: 0.0811\n",
      "Epoch   1 Batch  810/1077 - Train Accuracy: 0.8802, Validation Accuracy: 0.8526, Loss: 0.0669\n",
      "Epoch   1 Batch  820/1077 - Train Accuracy: 0.8816, Validation Accuracy: 0.8512, Loss: 0.0845\n",
      "Epoch   1 Batch  830/1077 - Train Accuracy: 0.8633, Validation Accuracy: 0.8608, Loss: 0.0927\n",
      "Epoch   1 Batch  840/1077 - Train Accuracy: 0.8961, Validation Accuracy: 0.8572, Loss: 0.0795\n",
      "Epoch   1 Batch  850/1077 - Train Accuracy: 0.8761, Validation Accuracy: 0.8420, Loss: 0.1140\n",
      "Epoch   1 Batch  860/1077 - Train Accuracy: 0.9074, Validation Accuracy: 0.8462, Loss: 0.0806\n",
      "Epoch   1 Batch  870/1077 - Train Accuracy: 0.8697, Validation Accuracy: 0.8718, Loss: 0.0731\n",
      "Epoch   1 Batch  880/1077 - Train Accuracy: 0.9129, Validation Accuracy: 0.8377, Loss: 0.0804\n",
      "Epoch   1 Batch  890/1077 - Train Accuracy: 0.8951, Validation Accuracy: 0.8263, Loss: 0.0670\n",
      "Epoch   1 Batch  900/1077 - Train Accuracy: 0.9344, Validation Accuracy: 0.8530, Loss: 0.0778\n",
      "Epoch   1 Batch  910/1077 - Train Accuracy: 0.9070, Validation Accuracy: 0.8594, Loss: 0.0820\n",
      "Epoch   1 Batch  920/1077 - Train Accuracy: 0.8648, Validation Accuracy: 0.8498, Loss: 0.0820\n",
      "Epoch   1 Batch  930/1077 - Train Accuracy: 0.8871, Validation Accuracy: 0.8327, Loss: 0.0605\n",
      "Epoch   1 Batch  940/1077 - Train Accuracy: 0.8969, Validation Accuracy: 0.8452, Loss: 0.0775\n",
      "Epoch   1 Batch  950/1077 - Train Accuracy: 0.8728, Validation Accuracy: 0.8580, Loss: 0.0751\n",
      "Epoch   1 Batch  960/1077 - Train Accuracy: 0.9129, Validation Accuracy: 0.8498, Loss: 0.0801\n",
      "Epoch   1 Batch  970/1077 - Train Accuracy: 0.8980, Validation Accuracy: 0.8491, Loss: 0.0861\n",
      "Epoch   1 Batch  980/1077 - Train Accuracy: 0.8840, Validation Accuracy: 0.8651, Loss: 0.0757\n",
      "Epoch   1 Batch  990/1077 - Train Accuracy: 0.9157, Validation Accuracy: 0.8548, Loss: 0.0832\n",
      "Epoch   1 Batch 1000/1077 - Train Accuracy: 0.9059, Validation Accuracy: 0.8629, Loss: 0.0783\n",
      "Epoch   1 Batch 1010/1077 - Train Accuracy: 0.9426, Validation Accuracy: 0.8746, Loss: 0.0746\n",
      "Epoch   1 Batch 1020/1077 - Train Accuracy: 0.9008, Validation Accuracy: 0.8647, Loss: 0.0678\n",
      "Epoch   1 Batch 1030/1077 - Train Accuracy: 0.9277, Validation Accuracy: 0.8533, Loss: 0.0726\n",
      "Epoch   1 Batch 1040/1077 - Train Accuracy: 0.8988, Validation Accuracy: 0.8629, Loss: 0.0710\n",
      "Epoch   1 Batch 1050/1077 - Train Accuracy: 0.8988, Validation Accuracy: 0.8754, Loss: 0.0713\n",
      "Epoch   1 Batch 1060/1077 - Train Accuracy: 0.8902, Validation Accuracy: 0.8427, Loss: 0.0600\n",
      "Epoch   1 Batch 1070/1077 - Train Accuracy: 0.8906, Validation Accuracy: 0.8612, Loss: 0.0666\n",
      "Epoch   2 Batch   10/1077 - Train Accuracy: 0.8927, Validation Accuracy: 0.8874, Loss: 0.0789\n",
      "Epoch   2 Batch   20/1077 - Train Accuracy: 0.9027, Validation Accuracy: 0.8842, Loss: 0.0539\n",
      "Epoch   2 Batch   30/1077 - Train Accuracy: 0.9219, Validation Accuracy: 0.8636, Loss: 0.0656\n",
      "Epoch   2 Batch   40/1077 - Train Accuracy: 0.9082, Validation Accuracy: 0.8775, Loss: 0.0541\n",
      "Epoch   2 Batch   50/1077 - Train Accuracy: 0.9156, Validation Accuracy: 0.8711, Loss: 0.0680\n",
      "Epoch   2 Batch   60/1077 - Train Accuracy: 0.8810, Validation Accuracy: 0.8675, Loss: 0.0637\n",
      "Epoch   2 Batch   70/1077 - Train Accuracy: 0.8820, Validation Accuracy: 0.8867, Loss: 0.0712\n",
      "Epoch   2 Batch   80/1077 - Train Accuracy: 0.8809, Validation Accuracy: 0.8857, Loss: 0.0682\n",
      "Epoch   2 Batch   90/1077 - Train Accuracy: 0.9039, Validation Accuracy: 0.8601, Loss: 0.0752\n",
      "Epoch   2 Batch  100/1077 - Train Accuracy: 0.8887, Validation Accuracy: 0.8764, Loss: 0.0670\n",
      "Epoch   2 Batch  110/1077 - Train Accuracy: 0.9305, Validation Accuracy: 0.8757, Loss: 0.0561\n",
      "Epoch   2 Batch  120/1077 - Train Accuracy: 0.9070, Validation Accuracy: 0.8764, Loss: 0.0764\n",
      "Epoch   2 Batch  130/1077 - Train Accuracy: 0.8903, Validation Accuracy: 0.8370, Loss: 0.0612\n",
      "Epoch   2 Batch  140/1077 - Train Accuracy: 0.9095, Validation Accuracy: 0.8690, Loss: 0.0651\n",
      "Epoch   2 Batch  150/1077 - Train Accuracy: 0.9081, Validation Accuracy: 0.8505, Loss: 0.0624\n",
      "Epoch   2 Batch  160/1077 - Train Accuracy: 0.9172, Validation Accuracy: 0.9006, Loss: 0.0663\n",
      "Epoch   2 Batch  170/1077 - Train Accuracy: 0.8750, Validation Accuracy: 0.8853, Loss: 0.0758\n",
      "Epoch   2 Batch  180/1077 - Train Accuracy: 0.8938, Validation Accuracy: 0.8764, Loss: 0.0523\n",
      "Epoch   2 Batch  190/1077 - Train Accuracy: 0.9164, Validation Accuracy: 0.8810, Loss: 0.0620\n",
      "Epoch   2 Batch  200/1077 - Train Accuracy: 0.8980, Validation Accuracy: 0.8913, Loss: 0.0750\n",
      "Epoch   2 Batch  210/1077 - Train Accuracy: 0.8891, Validation Accuracy: 0.8750, Loss: 0.0772\n",
      "Epoch   2 Batch  220/1077 - Train Accuracy: 0.9219, Validation Accuracy: 0.8604, Loss: 0.0695\n",
      "Epoch   2 Batch  230/1077 - Train Accuracy: 0.8876, Validation Accuracy: 0.8704, Loss: 0.0715\n",
      "Epoch   2 Batch  240/1077 - Train Accuracy: 0.9375, Validation Accuracy: 0.8789, Loss: 0.0551\n",
      "Epoch   2 Batch  250/1077 - Train Accuracy: 0.8988, Validation Accuracy: 0.8430, Loss: 0.0649\n",
      "Epoch   2 Batch  260/1077 - Train Accuracy: 0.9278, Validation Accuracy: 0.8601, Loss: 0.0620\n",
      "Epoch   2 Batch  270/1077 - Train Accuracy: 0.8672, Validation Accuracy: 0.8729, Loss: 0.0771\n",
      "Epoch   2 Batch  280/1077 - Train Accuracy: 0.8891, Validation Accuracy: 0.8640, Loss: 0.0722\n",
      "Epoch   2 Batch  290/1077 - Train Accuracy: 0.8949, Validation Accuracy: 0.8821, Loss: 0.0845\n",
      "Epoch   2 Batch  300/1077 - Train Accuracy: 0.9326, Validation Accuracy: 0.8821, Loss: 0.0514\n",
      "Epoch   2 Batch  310/1077 - Train Accuracy: 0.8992, Validation Accuracy: 0.8729, Loss: 0.0720\n",
      "Epoch   2 Batch  320/1077 - Train Accuracy: 0.9133, Validation Accuracy: 0.8764, Loss: 0.0619\n",
      "Epoch   2 Batch  330/1077 - Train Accuracy: 0.9055, Validation Accuracy: 0.8683, Loss: 0.0628\n",
      "Epoch   2 Batch  340/1077 - Train Accuracy: 0.9350, Validation Accuracy: 0.8931, Loss: 0.0608\n",
      "Epoch   2 Batch  350/1077 - Train Accuracy: 0.9066, Validation Accuracy: 0.8377, Loss: 0.0683\n",
      "Epoch   2 Batch  360/1077 - Train Accuracy: 0.9270, Validation Accuracy: 0.8594, Loss: 0.0479\n",
      "Epoch   2 Batch  370/1077 - Train Accuracy: 0.9587, Validation Accuracy: 0.8832, Loss: 0.0579\n",
      "Epoch   2 Batch  380/1077 - Train Accuracy: 0.9250, Validation Accuracy: 0.8604, Loss: 0.0444\n",
      "Epoch   2 Batch  390/1077 - Train Accuracy: 0.8664, Validation Accuracy: 0.8626, Loss: 0.0793\n",
      "Epoch   2 Batch  400/1077 - Train Accuracy: 0.9086, Validation Accuracy: 0.8764, Loss: 0.0651\n",
      "Epoch   2 Batch  410/1077 - Train Accuracy: 0.8931, Validation Accuracy: 0.8636, Loss: 0.0685\n",
      "Epoch   2 Batch  420/1077 - Train Accuracy: 0.9277, Validation Accuracy: 0.8523, Loss: 0.0416\n",
      "Epoch   2 Batch  430/1077 - Train Accuracy: 0.9289, Validation Accuracy: 0.8537, Loss: 0.0514\n",
      "Epoch   2 Batch  440/1077 - Train Accuracy: 0.8781, Validation Accuracy: 0.8714, Loss: 0.0819\n",
      "Epoch   2 Batch  450/1077 - Train Accuracy: 0.9277, Validation Accuracy: 0.8622, Loss: 0.0562\n",
      "Epoch   2 Batch  460/1077 - Train Accuracy: 0.9098, Validation Accuracy: 0.8817, Loss: 0.0701\n",
      "Epoch   2 Batch  470/1077 - Train Accuracy: 0.9260, Validation Accuracy: 0.8768, Loss: 0.0595\n",
      "Epoch   2 Batch  480/1077 - Train Accuracy: 0.9256, Validation Accuracy: 0.8739, Loss: 0.0760\n",
      "Epoch   2 Batch  490/1077 - Train Accuracy: 0.9027, Validation Accuracy: 0.8718, Loss: 0.0708\n",
      "Epoch   2 Batch  500/1077 - Train Accuracy: 0.9234, Validation Accuracy: 0.8871, Loss: 0.0540\n"
     ]
    },
    {
     "name": "stdout",
     "output_type": "stream",
     "text": [
      "Epoch   2 Batch  510/1077 - Train Accuracy: 0.8953, Validation Accuracy: 0.8825, Loss: 0.0663\n",
      "Epoch   2 Batch  520/1077 - Train Accuracy: 0.9382, Validation Accuracy: 0.8647, Loss: 0.0562\n",
      "Epoch   2 Batch  530/1077 - Train Accuracy: 0.9070, Validation Accuracy: 0.8796, Loss: 0.0688\n",
      "Epoch   2 Batch  540/1077 - Train Accuracy: 0.8879, Validation Accuracy: 0.8619, Loss: 0.0590\n",
      "Epoch   2 Batch  550/1077 - Train Accuracy: 0.9211, Validation Accuracy: 0.8750, Loss: 0.0607\n",
      "Epoch   2 Batch  560/1077 - Train Accuracy: 0.8852, Validation Accuracy: 0.8714, Loss: 0.0645\n",
      "Epoch   2 Batch  570/1077 - Train Accuracy: 0.8766, Validation Accuracy: 0.8704, Loss: 0.0691\n",
      "Epoch   2 Batch  580/1077 - Train Accuracy: 0.9096, Validation Accuracy: 0.8693, Loss: 0.0473\n",
      "Epoch   2 Batch  590/1077 - Train Accuracy: 0.8635, Validation Accuracy: 0.8864, Loss: 0.0645\n",
      "Epoch   2 Batch  600/1077 - Train Accuracy: 0.9025, Validation Accuracy: 0.8778, Loss: 0.0640\n",
      "Epoch   2 Batch  610/1077 - Train Accuracy: 0.9001, Validation Accuracy: 0.8871, Loss: 0.0645\n",
      "Epoch   2 Batch  620/1077 - Train Accuracy: 0.9418, Validation Accuracy: 0.8800, Loss: 0.0510\n",
      "Epoch   2 Batch  630/1077 - Train Accuracy: 0.9305, Validation Accuracy: 0.8711, Loss: 0.0564\n",
      "Epoch   2 Batch  640/1077 - Train Accuracy: 0.9226, Validation Accuracy: 0.8438, Loss: 0.0571\n",
      "Epoch   2 Batch  650/1077 - Train Accuracy: 0.9297, Validation Accuracy: 0.8942, Loss: 0.0558\n",
      "Epoch   2 Batch  660/1077 - Train Accuracy: 0.9152, Validation Accuracy: 0.8643, Loss: 0.0565\n",
      "Epoch   2 Batch  670/1077 - Train Accuracy: 0.8974, Validation Accuracy: 0.8864, Loss: 0.0588\n",
      "Epoch   2 Batch  680/1077 - Train Accuracy: 0.9178, Validation Accuracy: 0.8803, Loss: 0.0590\n",
      "Epoch   2 Batch  690/1077 - Train Accuracy: 0.9219, Validation Accuracy: 0.8469, Loss: 0.0533\n",
      "Epoch   2 Batch  700/1077 - Train Accuracy: 0.9121, Validation Accuracy: 0.8896, Loss: 0.0458\n",
      "Epoch   2 Batch  710/1077 - Train Accuracy: 0.9238, Validation Accuracy: 0.8562, Loss: 0.0470\n",
      "Epoch   2 Batch  720/1077 - Train Accuracy: 0.9132, Validation Accuracy: 0.8888, Loss: 0.0603\n",
      "Epoch   2 Batch  730/1077 - Train Accuracy: 0.9238, Validation Accuracy: 0.8913, Loss: 0.0750\n",
      "Epoch   2 Batch  740/1077 - Train Accuracy: 0.8883, Validation Accuracy: 0.8835, Loss: 0.0568\n",
      "Epoch   2 Batch  750/1077 - Train Accuracy: 0.9313, Validation Accuracy: 0.8754, Loss: 0.0588\n",
      "Epoch   2 Batch  760/1077 - Train Accuracy: 0.9109, Validation Accuracy: 0.8693, Loss: 0.0660\n",
      "Epoch   2 Batch  770/1077 - Train Accuracy: 0.8932, Validation Accuracy: 0.8711, Loss: 0.0665\n",
      "Epoch   2 Batch  780/1077 - Train Accuracy: 0.8699, Validation Accuracy: 0.8750, Loss: 0.0904\n",
      "Epoch   2 Batch  790/1077 - Train Accuracy: 0.8613, Validation Accuracy: 0.8810, Loss: 0.0809\n",
      "Epoch   2 Batch  800/1077 - Train Accuracy: 0.9168, Validation Accuracy: 0.8974, Loss: 0.0585\n",
      "Epoch   2 Batch  810/1077 - Train Accuracy: 0.9048, Validation Accuracy: 0.9197, Loss: 0.0471\n",
      "Epoch   2 Batch  820/1077 - Train Accuracy: 0.8855, Validation Accuracy: 0.8920, Loss: 0.0575\n",
      "Epoch   2 Batch  830/1077 - Train Accuracy: 0.8688, Validation Accuracy: 0.8828, Loss: 0.0626\n",
      "Epoch   2 Batch  840/1077 - Train Accuracy: 0.9242, Validation Accuracy: 0.8793, Loss: 0.0588\n",
      "Epoch   2 Batch  850/1077 - Train Accuracy: 0.9096, Validation Accuracy: 0.8786, Loss: 0.0954\n",
      "Epoch   2 Batch  860/1077 - Train Accuracy: 0.9059, Validation Accuracy: 0.8668, Loss: 0.0677\n",
      "Epoch   2 Batch  870/1077 - Train Accuracy: 0.8894, Validation Accuracy: 0.8675, Loss: 0.0663\n",
      "Epoch   2 Batch  880/1077 - Train Accuracy: 0.8777, Validation Accuracy: 0.8825, Loss: 0.0608\n",
      "Epoch   2 Batch  890/1077 - Train Accuracy: 0.9003, Validation Accuracy: 0.8782, Loss: 0.0616\n",
      "Epoch   2 Batch  900/1077 - Train Accuracy: 0.9305, Validation Accuracy: 0.9006, Loss: 0.0684\n",
      "Epoch   2 Batch  910/1077 - Train Accuracy: 0.9103, Validation Accuracy: 0.8842, Loss: 0.0625\n",
      "Epoch   2 Batch  920/1077 - Train Accuracy: 0.8859, Validation Accuracy: 0.8672, Loss: 0.0601\n",
      "Epoch   2 Batch  930/1077 - Train Accuracy: 0.8883, Validation Accuracy: 0.8494, Loss: 0.0589\n",
      "Epoch   2 Batch  940/1077 - Train Accuracy: 0.9336, Validation Accuracy: 0.8793, Loss: 0.0494\n",
      "Epoch   2 Batch  950/1077 - Train Accuracy: 0.9062, Validation Accuracy: 0.8509, Loss: 0.0652\n",
      "Epoch   2 Batch  960/1077 - Train Accuracy: 0.9263, Validation Accuracy: 0.8402, Loss: 0.0678\n",
      "Epoch   2 Batch  970/1077 - Train Accuracy: 0.9176, Validation Accuracy: 0.8743, Loss: 0.0707\n",
      "Epoch   2 Batch  980/1077 - Train Accuracy: 0.9281, Validation Accuracy: 0.8761, Loss: 0.0594\n",
      "Epoch   2 Batch  990/1077 - Train Accuracy: 0.9145, Validation Accuracy: 0.8736, Loss: 0.0675\n",
      "Epoch   2 Batch 1000/1077 - Train Accuracy: 0.9234, Validation Accuracy: 0.8533, Loss: 0.0631\n",
      "Epoch   2 Batch 1010/1077 - Train Accuracy: 0.9582, Validation Accuracy: 0.9041, Loss: 0.0419\n",
      "Epoch   2 Batch 1020/1077 - Train Accuracy: 0.9211, Validation Accuracy: 0.8754, Loss: 0.0488\n",
      "Epoch   2 Batch 1030/1077 - Train Accuracy: 0.9289, Validation Accuracy: 0.8867, Loss: 0.0556\n",
      "Epoch   2 Batch 1040/1077 - Train Accuracy: 0.9149, Validation Accuracy: 0.8860, Loss: 0.0603\n",
      "Epoch   2 Batch 1050/1077 - Train Accuracy: 0.8965, Validation Accuracy: 0.8501, Loss: 0.0517\n",
      "Epoch   2 Batch 1060/1077 - Train Accuracy: 0.9199, Validation Accuracy: 0.8487, Loss: 0.0549\n",
      "Epoch   2 Batch 1070/1077 - Train Accuracy: 0.8938, Validation Accuracy: 0.8931, Loss: 0.0539\n",
      "Model Trained and Saved\n"
     ]
    }
   ],
   "source": [
    "\"\"\"\n",
    "DON'T MODIFY ANYTHING IN THIS CELL\n",
    "\"\"\"\n",
    "def get_accuracy(target, logits):\n",
    "    \"\"\"\n",
    "    Calculate accuracy\n",
    "    \"\"\"\n",
    "    max_seq = max(target.shape[1], logits.shape[1])\n",
    "    if max_seq - target.shape[1]:\n",
    "        target = np.pad(\n",
    "            target,\n",
    "            [(0,0),(0,max_seq - target.shape[1])],\n",
    "            'constant')\n",
    "    if max_seq - logits.shape[1]:\n",
    "        logits = np.pad(\n",
    "            logits,\n",
    "            [(0,0),(0,max_seq - logits.shape[1])],\n",
    "            'constant')\n",
    "\n",
    "    return np.mean(np.equal(target, logits))\n",
    "\n",
    "# Split data to training and validation sets\n",
    "train_source = source_int_text[batch_size:]\n",
    "train_target = target_int_text[batch_size:]\n",
    "valid_source = source_int_text[:batch_size]\n",
    "valid_target = target_int_text[:batch_size]\n",
    "(valid_sources_batch, valid_targets_batch, valid_sources_lengths, valid_targets_lengths ) = next(get_batches(valid_source,\n",
    "                                                                                                             valid_target,\n",
    "                                                                                                             batch_size,\n",
    "                                                                                                             source_vocab_to_int['<PAD>'],\n",
    "                                                                                                             target_vocab_to_int['<PAD>']))                                                                                                  \n",
    "with tf.Session(graph=train_graph) as sess:\n",
    "    sess.run(tf.global_variables_initializer())\n",
    "\n",
    "    for epoch_i in range(epochs):\n",
    "        for batch_i, (source_batch, target_batch, sources_lengths, targets_lengths) in enumerate(\n",
    "                get_batches(train_source, train_target, batch_size,\n",
    "                            source_vocab_to_int['<PAD>'],\n",
    "                            target_vocab_to_int['<PAD>'])):\n",
    "\n",
    "            _, loss = sess.run(\n",
    "                [train_op, cost],\n",
    "                {input_data: source_batch,\n",
    "                 targets: target_batch,\n",
    "                 lr: learning_rate,\n",
    "                 target_sequence_length: targets_lengths,\n",
    "                 source_sequence_length: sources_lengths,\n",
    "                 keep_prob: keep_probability})\n",
    "\n",
    "\n",
    "            if batch_i % display_step == 0 and batch_i > 0:\n",
    "\n",
    "\n",
    "                batch_train_logits = sess.run(\n",
    "                    inference_logits,\n",
    "                    {input_data: source_batch,\n",
    "                     source_sequence_length: sources_lengths,\n",
    "                     target_sequence_length: targets_lengths,\n",
    "                     keep_prob: 1.0})\n",
    "\n",
    "\n",
    "                batch_valid_logits = sess.run(\n",
    "                    inference_logits,\n",
    "                    {input_data: valid_sources_batch,\n",
    "                     source_sequence_length: valid_sources_lengths,\n",
    "                     target_sequence_length: valid_targets_lengths,\n",
    "                     keep_prob: 1.0})\n",
    "\n",
    "                train_acc = get_accuracy(target_batch, batch_train_logits)\n",
    "\n",
    "                valid_acc = get_accuracy(valid_targets_batch, batch_valid_logits)\n",
    "\n",
    "                print('Epoch {:>3} Batch {:>4}/{} - Train Accuracy: {:>6.4f}, Validation Accuracy: {:>6.4f}, Loss: {:>6.4f}'\n",
    "                      .format(epoch_i, batch_i, len(source_int_text) // batch_size, train_acc, valid_acc, loss))\n",
    "\n",
    "    # Save Model\n",
    "    saver = tf.train.Saver()\n",
    "    saver.save(sess, save_path)\n",
    "    print('Model Trained and Saved')"
   ]
  },
  {
   "cell_type": "markdown",
   "metadata": {},
   "source": [
    "### Save Parameters\n",
    "Save the `batch_size` and `save_path` parameters for inference."
   ]
  },
  {
   "cell_type": "code",
   "execution_count": 40,
   "metadata": {
    "collapsed": true
   },
   "outputs": [],
   "source": [
    "\"\"\"\n",
    "DON'T MODIFY ANYTHING IN THIS CELL\n",
    "\"\"\"\n",
    "# Save parameters for checkpoint\n",
    "helper.save_params(save_path)"
   ]
  },
  {
   "cell_type": "markdown",
   "metadata": {},
   "source": [
    "# Checkpoint"
   ]
  },
  {
   "cell_type": "code",
   "execution_count": 41,
   "metadata": {
    "collapsed": true
   },
   "outputs": [],
   "source": [
    "\"\"\"\n",
    "DON'T MODIFY ANYTHING IN THIS CELL\n",
    "\"\"\"\n",
    "import tensorflow as tf\n",
    "import numpy as np\n",
    "import helper\n",
    "import problem_unittests as tests\n",
    "\n",
    "_, (source_vocab_to_int, target_vocab_to_int), (source_int_to_vocab, target_int_to_vocab) = helper.load_preprocess()\n",
    "load_path = helper.load_params()"
   ]
  },
  {
   "cell_type": "markdown",
   "metadata": {},
   "source": [
    "## Sentence to Sequence\n",
    "To feed a sentence into the model for translation, you first need to preprocess it.  Implement the function `sentence_to_seq()` to preprocess new sentences.\n",
    "\n",
    "- Convert the sentence to lowercase\n",
    "- Convert words into ids using `vocab_to_int`\n",
    " - Convert words not in the vocabulary, to the `<UNK>` word id."
   ]
  },
  {
   "cell_type": "code",
   "execution_count": 49,
   "metadata": {},
   "outputs": [
    {
     "name": "stdout",
     "output_type": "stream",
     "text": [
      "Tests Passed\n"
     ]
    }
   ],
   "source": [
    "def sentence_to_seq(sentence, vocab_to_int):\n",
    "    \"\"\"\n",
    "    Convert a sentence to a sequence of ids\n",
    "    :param sentence: String\n",
    "    :param vocab_to_int: Dictionary to go from the words to an id\n",
    "    :return: List of word ids\n",
    "    \"\"\"\n",
    "    # TODO: Implement Function\n",
    "    sentence_lower = sentence.lower().split()\n",
    "    sequence = []\n",
    "    \n",
    "    for words in sentence_lower:\n",
    "        if words in vocab_to_int.keys():\n",
    "            sequence.append(vocab_to_int[words])\n",
    "        else:\n",
    "            sequence.append(vocab_to_int['<UNK>'])\n",
    "                \n",
    "    return sequence\n",
    "\n",
    "\n",
    "\"\"\"\n",
    "DON'T MODIFY ANYTHING IN THIS CELL THAT IS BELOW THIS LINE\n",
    "\"\"\"\n",
    "tests.test_sentence_to_seq(sentence_to_seq)"
   ]
  },
  {
   "cell_type": "markdown",
   "metadata": {},
   "source": [
    "## Translate\n",
    "This will translate `translate_sentence` from English to French."
   ]
  },
  {
   "cell_type": "code",
   "execution_count": 50,
   "metadata": {},
   "outputs": [
    {
     "name": "stdout",
     "output_type": "stream",
     "text": [
      "INFO:tensorflow:Restoring parameters from checkpoints/dev\n",
      "Input\n",
      "  Word Ids:      [56, 199, 62, 46, 161, 80, 157]\n",
      "  English Words: ['he', 'saw', 'a', 'old', 'yellow', 'truck', '.']\n",
      "\n",
      "Prediction\n",
      "  Word Ids:      [312, 213, 180, 170, 182, 139, 271, 62, 1]\n",
      "  French Words: il a vu un vieux camion bleu . <EOS>\n"
     ]
    }
   ],
   "source": [
    "translate_sentence = 'he saw a old yellow truck .'\n",
    "\n",
    "\n",
    "\"\"\"\n",
    "DON'T MODIFY ANYTHING IN THIS CELL\n",
    "\"\"\"\n",
    "translate_sentence = sentence_to_seq(translate_sentence, source_vocab_to_int)\n",
    "\n",
    "loaded_graph = tf.Graph()\n",
    "with tf.Session(graph=loaded_graph) as sess:\n",
    "    # Load saved model\n",
    "    loader = tf.train.import_meta_graph(load_path + '.meta')\n",
    "    loader.restore(sess, load_path)\n",
    "\n",
    "    input_data = loaded_graph.get_tensor_by_name('input:0')\n",
    "    logits = loaded_graph.get_tensor_by_name('predictions:0')\n",
    "    target_sequence_length = loaded_graph.get_tensor_by_name('target_sequence_length:0')\n",
    "    source_sequence_length = loaded_graph.get_tensor_by_name('source_sequence_length:0')\n",
    "    keep_prob = loaded_graph.get_tensor_by_name('keep_prob:0')\n",
    "\n",
    "    translate_logits = sess.run(logits, {input_data: [translate_sentence]*batch_size,\n",
    "                                         target_sequence_length: [len(translate_sentence)*2]*batch_size,\n",
    "                                         source_sequence_length: [len(translate_sentence)]*batch_size,\n",
    "                                         keep_prob: 1.0})[0]\n",
    "\n",
    "print('Input')\n",
    "print('  Word Ids:      {}'.format([i for i in translate_sentence]))\n",
    "print('  English Words: {}'.format([source_int_to_vocab[i] for i in translate_sentence]))\n",
    "\n",
    "print('\\nPrediction')\n",
    "print('  Word Ids:      {}'.format([i for i in translate_logits]))\n",
    "print('  French Words: {}'.format(\" \".join([target_int_to_vocab[i] for i in translate_logits])))\n"
   ]
  },
  {
   "cell_type": "markdown",
   "metadata": {},
   "source": [
    "GOOGLE Translate:\n",
    "\n",
    "**English** :'he', 'saw', 'a', 'old', 'yellow', 'truck' <br>\n",
    "**French** :«il», «scie», «a», «vieux», «jaune», «camion»,"
   ]
  },
  {
   "cell_type": "markdown",
   "metadata": {},
   "source": [
    "## Imperfect Translation\n",
    "You might notice that some sentences translate better than others.  Since the dataset you're using only has a vocabulary of 227 English words of the thousands that you use, you're only going to see good results using these words.  For this project, you don't need a perfect translation. However, if you want to create a better translation model, you'll need better data.\n",
    "\n",
    "You can train on the [WMT10 French-English corpus](http://www.statmt.org/wmt10/training-giga-fren.tar).  This dataset has more vocabulary and richer in topics discussed.  However, this will take you days to train, so make sure you've a GPU and the neural network is performing well on dataset we provided.  Just make sure you play with the WMT10 corpus after you've submitted this project.\n",
    "## Submitting This Project\n",
    "When submitting this project, make sure to run all the cells before saving the notebook. Save the notebook file as \"dlnd_language_translation.ipynb\" and save it as a HTML file under \"File\" -> \"Download as\". Include the \"helper.py\" and \"problem_unittests.py\" files in your submission."
   ]
  }
 ],
 "metadata": {
  "anaconda-cloud": {},
  "kernelspec": {
   "display_name": "Python 3",
   "language": "python",
   "name": "python3"
  },
  "language_info": {
   "codemirror_mode": {
    "name": "ipython",
    "version": 3
   },
   "file_extension": ".py",
   "mimetype": "text/x-python",
   "name": "python",
   "nbconvert_exporter": "python",
   "pygments_lexer": "ipython3",
   "version": "3.5.3"
  }
 },
 "nbformat": 4,
 "nbformat_minor": 1
}
